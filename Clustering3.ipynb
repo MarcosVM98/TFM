{
 "cells": [
  {
   "cell_type": "markdown",
   "id": "sharp-glucose",
   "metadata": {},
   "source": [
    "Análisis definitivo del clustering. Implementación de las funciones a utilizar, cálculo de la fire season (usando el convenio de escoger los meses que suponen el 80% del área anual quemada) y ejemplos de su utilización con la zona del Mediterráneo, una parte del Sahel y un ecosistema de la taiga.\n",
    "\n",
    "En lugar de lanzar un clustering global, ahora se trabaja con zonas más pequeñas para obtener resultados más precisos. Se emplean los datos en escala logarítmica. Utilizamos de nuevo gaussian mixtures y consideramos como métricas el BIC y el icl, que penaliza el número de clusters."
   ]
  },
  {
   "cell_type": "code",
   "execution_count": 1,
   "id": "critical-crystal",
   "metadata": {},
   "outputs": [
    {
     "name": "stdout",
     "output_type": "stream",
     "text": [
      "Loading objects:\n",
      "  df\n",
      "  coords\n"
     ]
    }
   ],
   "source": [
    "# Cargamos los datos\n",
    "load(\"ba_data.Rdata\", verbose = TRUE)"
   ]
  },
  {
   "cell_type": "code",
   "execution_count": 2,
   "id": "novel-motivation",
   "metadata": {},
   "outputs": [
    {
     "data": {
      "text/html": [
       "19554696"
      ],
      "text/latex": [
       "19554696"
      ],
      "text/markdown": [
       "19554696"
      ],
      "text/plain": [
       "[1] 19554696"
      ]
     },
     "metadata": {},
     "output_type": "display_data"
    }
   ],
   "source": [
    "# Localizamos los NAs\n",
    "naind <- which(is.na(df), arr.ind = TRUE)\n",
    "length(naind)"
   ]
  },
  {
   "cell_type": "code",
   "execution_count": 3,
   "id": "civil-corner",
   "metadata": {},
   "outputs": [
    {
     "data": {
      "text/plain": [
       " Jan_burned_area  Feb_burned_area  Mar_burned_area  Apr_burned_area \n",
       " Min.   : 0.0     Min.   : 0.0     Min.   : 0.0     Min.   :0.0     \n",
       " 1st Qu.: 0.0     1st Qu.: 0.0     1st Qu.: 0.0     1st Qu.:0.0     \n",
       " Median : 0.0     Median : 0.0     Median : 0.0     Median :0.0     \n",
       " Mean   : 0.7     Mean   : 0.6     Mean   : 0.8     Mean   :0.9     \n",
       " 3rd Qu.: 0.0     3rd Qu.: 0.0     3rd Qu.: 0.0     3rd Qu.:0.0     \n",
       " Max.   :10.9     Max.   :10.5     Max.   :10.6     Max.   :9.9     \n",
       " NA's   :814779   NA's   :814779   NA's   :814779   NA's   :814779  \n",
       " May_burned_area  Jun_burned_area  Jul_burned_area  Aug_burned_area \n",
       " Min.   : 0.0     Min.   : 0.0     Min.   : 0.0     Min.   : 0.0    \n",
       " 1st Qu.: 0.0     1st Qu.: 0.0     1st Qu.: 0.0     1st Qu.: 0.0    \n",
       " Median : 0.0     Median : 0.0     Median : 0.0     Median : 0.0    \n",
       " Mean   : 0.9     Mean   : 0.9     Mean   : 1.2     Mean   : 1.4    \n",
       " 3rd Qu.: 0.0     3rd Qu.: 0.0     3rd Qu.: 1.6     3rd Qu.: 2.2    \n",
       " Max.   :10.4     Max.   :10.7     Max.   :10.9     Max.   :10.7    \n",
       " NA's   :814779   NA's   :814779   NA's   :814779   NA's   :814779  \n",
       " Sep_burned_area  Oct_burned_area  Nov_burned_area  Dec_burned_area \n",
       " Min.   : 0.0     Min.   : 0.0     Min.   : 0.0     Min.   : 0.0    \n",
       " 1st Qu.: 0.0     1st Qu.: 0.0     1st Qu.: 0.0     1st Qu.: 0.0    \n",
       " Median : 0.0     Median : 0.0     Median : 0.0     Median : 0.0    \n",
       " Mean   : 1.2     Mean   : 1.2     Mean   : 0.9     Mean   : 0.7    \n",
       " 3rd Qu.: 1.3     3rd Qu.: 0.8     3rd Qu.: 0.0     3rd Qu.: 0.0    \n",
       " Max.   :10.9     Max.   :10.2     Max.   :10.9     Max.   :11.0    \n",
       " NA's   :814779   NA's   :814779   NA's   :814779   NA's   :814779  "
      ]
     },
     "metadata": {},
     "output_type": "display_data"
    }
   ],
   "source": [
    "df.log = log1p(df)\n",
    "summary(df.log)"
   ]
  },
  {
   "cell_type": "code",
   "execution_count": 4,
   "id": "opening-malawi",
   "metadata": {},
   "outputs": [
    {
     "name": "stderr",
     "output_type": "stream",
     "text": [
      "Warning message:\n",
      "\"package 'mclust' was built under R version 3.6.3\"Package 'mclust' version 5.4.7\n",
      "Type 'citation(\"mclust\")' for citing this R package in publications.\n",
      "Loading required package: sp\n",
      "Warning message:\n",
      "\"package 'sp' was built under R version 3.6.3\"Loading required package: magrittr\n",
      "Warning message:\n",
      "\"package 'magrittr' was built under R version 3.6.3\"Warning message:\n",
      "\"package 'dplyr' was built under R version 3.6.3\"\n",
      "Attaching package: 'dplyr'\n",
      "\n",
      "The following objects are masked from 'package:stats':\n",
      "\n",
      "    filter, lag\n",
      "\n",
      "The following objects are masked from 'package:base':\n",
      "\n",
      "    intersect, setdiff, setequal, union\n",
      "\n",
      "Loading required package: RColorBrewer\n"
     ]
    }
   ],
   "source": [
    "# Algunas librerías a usar\n",
    "library(\"mclust\")\n",
    "require(sp)\n",
    "require(magrittr)\n",
    "library(dplyr)\n",
    "# Para los colores\n",
    "require(RColorBrewer)\n",
    "group.colors <- colorRampPalette(c(brewer.pal(8, \"Dark2\"), brewer.pal(8, \"Accent\")))"
   ]
  },
  {
   "cell_type": "markdown",
   "id": "incomplete-ranch",
   "metadata": {},
   "source": [
    "Funciones a utilizar:"
   ]
  },
  {
   "cell_type": "code",
   "execution_count": 14,
   "id": "flying-demographic",
   "metadata": {},
   "outputs": [],
   "source": [
    "#' @title Best GMM model selection\n",
    "#' @description Retain the highest BIC model after an arbitary number of GMM initializations\n",
    "#' @param data Data frame\n",
    "#' @param K maximun number of groups\n",
    "#' @param n.inits Number of initializations. Default to 3\n",
    "#' @return A mclust-class model\n",
    "#' @importFrom mclust Mclust\n",
    "\n",
    "selectBestGMM <- function(data, K, n.inits = 3) {\n",
    "    i <- 1\n",
    "    gmm.list <- rep(list(bquote(), n.inits))\n",
    "    while (i <= n.inits) {\n",
    "        set.seed(i)\n",
    "        gmm.list[[i]] <- Mclust(data, G = 1:K)  \n",
    "        i <- i + 1\n",
    "    } \n",
    "    bics <- numeric(length(gmm.list))\n",
    "    for (i in 1:length(gmm.list)) {\n",
    "        bics[i] <- gmm.list[[i]]$bic\n",
    "    }\n",
    "    ind = which.max(bics)\n",
    "    gmm <- gmm.list[[ind]]\n",
    "    message(\"Lowest BIC: \", round(max(bics), 2))\n",
    "    message(\"Number of clusters:\", gmm$G)\n",
    "    for (i in 1:n.inits){\n",
    "        cat(gmm.list[[i]]$G, gmm.list[[i]]$bic, gmm.list[[i]]$icl, '\\n')\n",
    "    }\n",
    "    return (list(\"gmm\" = gmm.list, \"ind\" = ind))\n",
    "}"
   ]
  },
  {
   "cell_type": "code",
   "execution_count": 6,
   "id": "heavy-makeup",
   "metadata": {},
   "outputs": [],
   "source": [
    "#' @title Clusters' spatial location plot \n",
    "#' @description Plots the clusters' spatial location in a map\n",
    "#' @param df Data frame containing the burned area data\n",
    "#' @param coords Data frame containing the spatial coordinates\n",
    "#' @param clus A mclust-class model\n",
    "#' @param naind Vector containing the indexes where there are NAs values in df\n",
    "#' @return Data of the plot\n",
    "\n",
    "plotClust.gmm <- function(df, coords, clus, naind, ...) {\n",
    "    arg.list <- list(col.regions = group.colors(clus$G),\n",
    "                      at = seq(0, clus$G, 1), main = paste(toString(clus$G),\"clusters\"))\n",
    "    # arg.list <- list()\n",
    "    v <- numeric(nrow(df))\n",
    "    v[naind] <- NA\n",
    "    v[-naind] <- clus$classification\n",
    "    df1 <- cbind.data.frame(coords, v)\n",
    "    coordinates(df1) <- c(1,2)\n",
    "    gridded(df1) <- TRUE\n",
    "    arg.list[[\"obj\"]] <- df1\n",
    "    arg.list[[\"zcol\"]] <- 1\n",
    "    do.call(\"spplot\", arg.list) %>% print()\n",
    "    return(df1@data)\n",
    "}"
   ]
  },
  {
   "cell_type": "code",
   "execution_count": 7,
   "id": "seven-pricing",
   "metadata": {},
   "outputs": [],
   "source": [
    "#' @title Clusters' centroids plot \n",
    "#' @description Plots the clusters' centroids and the 25 and 75 percentiles\n",
    "#' @param df Data frame containing the burned area data without NAs\n",
    "#' @param clus A mclust-class model\n",
    "#' @param par A two-dimentional vector containing the dimensions of the grid\n",
    "\n",
    "plotCentroids.gmm <- function(df, clus, par) {\n",
    "\n",
    "    par(mfrow = par)\n",
    "\n",
    "    for (i in 1:clus$G){\n",
    "        centroide = colMeans(df[which(clus$classification == i),])\n",
    "\n",
    "        per.25 = c()\n",
    "        per.75 = c()\n",
    "        for (j in 1:12){\n",
    "            per.25[j] = quantile(df[which(clus$classification == i),j], prob=0.25)\n",
    "            per.75[j] = quantile(df[which(clus$classification == i),j], prob=0.75)\n",
    "        }\n",
    "\n",
    "        plot(per.75, col = 'blue', type = 'l', xlab = \"Mes\", ylab = \"Burned Area\",\n",
    "            main = paste('Cluster', toString(i)), sub = paste('Tamaño', toString(sum(clus$classification == i))))\n",
    "        lines(1:12, centroide, col = \"red\")\n",
    "        lines(1:12, per.25, col = \"green\")        \n",
    "    }\n",
    "}"
   ]
  },
  {
   "cell_type": "code",
   "execution_count": 8,
   "id": "aboriginal-practitioner",
   "metadata": {},
   "outputs": [],
   "source": [
    "#' @title Fire season calculation \n",
    "#' @description Calculates the fire season of each of the clusters of the mclust model\n",
    "#' @param df Data frame containing the no Nas burned area data\n",
    "#' @param clus A mclust-class model\n",
    "#' @return List containing the fire season of each of the clusters\n",
    "\n",
    "fireSeason = function(df, clus){\n",
    "    fire.season = list()\n",
    "    for (i in 1:clus$G){\n",
    "        centroide = colMeans(df[which(clus$classification == i),])\n",
    "        anual = as.data.frame(centroide)\n",
    "        anual$mes = 1:12\n",
    "        anual = arrange(anual, -centroide)\n",
    "        total = sum(anual$centroide)\n",
    "        suma = 0\n",
    "        mes = 1\n",
    "        f.season = c()\n",
    "        while (suma < 0.8 * total){\n",
    "            suma = suma + anual$centroide[mes]\n",
    "            mes = mes + 1\n",
    "        }\n",
    "        f.season = sort(anual[1:(mes-1),]$mes)\n",
    "        #f.season = c(f.season, substr(attr(centroide, \"names\")[j], start = 1, stop = 3))\n",
    "        cat(f.season, \"\\n\")\n",
    "        fire.season[[i]] = f.season\n",
    "    }\n",
    "    return (fire.season)\n",
    "}"
   ]
  },
  {
   "cell_type": "markdown",
   "id": "radical-policy",
   "metadata": {},
   "source": [
    "## Análisis de la zona mediterránea"
   ]
  },
  {
   "cell_type": "code",
   "execution_count": 12,
   "id": "therapeutic-perception",
   "metadata": {},
   "outputs": [],
   "source": [
    "# coordenadas mediterraneas: \n",
    "lon <- c(-10, 20)\n",
    "lat <- c(35, 46)"
   ]
  },
  {
   "cell_type": "code",
   "execution_count": 116,
   "id": "recent-retention",
   "metadata": {},
   "outputs": [],
   "source": [
    "ind.coords.med = which(coords$x < 30 & coords$x > -10 & coords$y > 35 & coords$y < 47)\n",
    "df.log.med = df.log[ind.coords.med,]\n",
    "df.med = df[ind.coords.med,]\n",
    "coords.med = coords[ind.coords.med,]"
   ]
  },
  {
   "cell_type": "code",
   "execution_count": 117,
   "id": "comfortable-chapel",
   "metadata": {},
   "outputs": [
    {
     "data": {
      "text/html": [
       "76176"
      ],
      "text/latex": [
       "76176"
      ],
      "text/markdown": [
       "76176"
      ],
      "text/plain": [
       "[1] 76176"
      ]
     },
     "metadata": {},
     "output_type": "display_data"
    }
   ],
   "source": [
    "# Localizamos los NAs\n",
    "naind.med <- which(is.na(df.log.med), arr.ind = TRUE)\n",
    "length(naind.med)"
   ]
  },
  {
   "cell_type": "code",
   "execution_count": 45,
   "id": "direct-experiment",
   "metadata": {},
   "outputs": [
    {
     "name": "stderr",
     "output_type": "stream",
     "text": [
      "Lowest BIC: NA\n",
      "Number of clusters:7\n"
     ]
    },
    {
     "name": "stdout",
     "output_type": "stream",
     "text": [
      "6 -103166.4 -104905.3 \n",
      "4 -111436.3 -111985.7 \n",
      "7 -96421.29 -96717.99 \n",
      "7 NA NA \n",
      "4 NA NA \n",
      "6 NA NA \n",
      "5 -109816.5 -110398.1 \n",
      "4 -111011.3 -111140.4 \n",
      "5 -108452.4 -108988.5 \n",
      "4 -110978.8 -111108.2 \n",
      "4 -112810.5 -113329.2 \n",
      "4 -112244 -113521.3 \n",
      "7 NA NA \n",
      "6 -106190.9 -108725.4 \n",
      "11 NA NA \n"
     ]
    }
   ],
   "source": [
    "# Lanzamos el clustering\n",
    "gmmMed <- selectBestGMM(data = df.log.med[-naind.med, ], K = 15, n.inits = 15)"
   ]
  },
  {
   "cell_type": "markdown",
   "id": "rising-granny",
   "metadata": {},
   "source": [
    "Algunos intentos del clustering no han registrado el valor del BIC y hay que analizarlos uno a uno para verlo."
   ]
  },
  {
   "cell_type": "code",
   "execution_count": 51,
   "id": "solar-viking",
   "metadata": {},
   "outputs": [
    {
     "data": {
      "text/plain": [
       "Bayesian Information Criterion (BIC): \n",
       "         EII       VII       EEI       VEI       EVI       VVI       EEE\n",
       "1  -197940.4 -197940.4 -169704.6 -169704.6 -169704.6 -169704.6 -143848.5\n",
       "2  -170261.3        NA -155745.1        NA        NA        NA -142089.4\n",
       "3  -162405.3        NA -150622.8        NA        NA        NA -140307.8\n",
       "4  -159407.1        NA -143534.3        NA        NA        NA -135336.7\n",
       "5  -155841.3        NA -140520.4        NA        NA        NA -134496.1\n",
       "6  -154196.8        NA -138021.3        NA        NA        NA -129797.2\n",
       "7  -151100.4        NA -137379.5        NA        NA        NA -130227.9\n",
       "8  -149482.1        NA -137488.3        NA        NA        NA -127997.4\n",
       "9  -146346.7        NA -136448.5        NA        NA        NA -128106.7\n",
       "10 -145196.8        NA -136557.9        NA        NA        NA -127528.1\n",
       "11 -143708.7        NA -136278.0        NA        NA        NA -127329.8\n",
       "12 -142127.1        NA -136314.8        NA        NA        NA -127141.7\n",
       "13 -141701.6        NA -134281.1        NA        NA        NA -126794.3\n",
       "14 -140134.8        NA -128520.0        NA        NA        NA -125198.8\n",
       "15 -139018.9        NA -129939.7        NA        NA        NA -121326.6\n",
       "         VEE       EVE       VVE        EEV       VEV       EVV       VVV\n",
       "1  -143848.5 -143848.5 -143848.5 -143848.46 -143848.5 -143848.5 -143848.5\n",
       "2         NA        NA        NA -125570.44        NA        NA        NA\n",
       "3         NA        NA        NA -117452.45        NA        NA        NA\n",
       "4         NA        NA        NA -111398.53        NA        NA        NA\n",
       "5         NA        NA        NA -109661.25        NA        NA        NA\n",
       "6         NA        NA        NA         NA        NA        NA        NA\n",
       "7         NA        NA        NA  -99752.25        NA        NA        NA\n",
       "8         NA        NA        NA         NA        NA        NA        NA\n",
       "9         NA        NA        NA         NA        NA        NA        NA\n",
       "10        NA        NA        NA         NA        NA        NA        NA\n",
       "11        NA        NA        NA         NA        NA        NA        NA\n",
       "12        NA        NA        NA         NA        NA        NA        NA\n",
       "13        NA        NA        NA         NA        NA        NA        NA\n",
       "14        NA        NA        NA         NA        NA        NA        NA\n",
       "15        NA        NA        NA         NA        NA        NA        NA\n",
       "\n",
       "Top 3 models based on the BIC criterion: \n",
       "     EEV,7      EEV,5      EEV,4 \n",
       " -99752.25 -109661.25 -111398.53 "
      ]
     },
     "metadata": {},
     "output_type": "display_data"
    }
   ],
   "source": [
    "gmmMed$gmm[[4]]$BIC"
   ]
  },
  {
   "cell_type": "code",
   "execution_count": 52,
   "id": "nuclear-steel",
   "metadata": {},
   "outputs": [
    {
     "data": {
      "text/plain": [
       "Bayesian Information Criterion (BIC): \n",
       "         EII       VII       EEI       VEI       EVI       VVI       EEE\n",
       "1  -197940.4 -197940.4 -169704.6 -169704.6 -169704.6 -169704.6 -143848.5\n",
       "2  -170261.3        NA -155745.0        NA        NA        NA -142089.5\n",
       "3  -162405.2        NA -150622.6        NA        NA        NA -140307.0\n",
       "4  -159405.6        NA -143534.2        NA        NA        NA -135336.0\n",
       "5  -155840.5        NA -140520.5        NA        NA        NA -134496.6\n",
       "6  -154197.4        NA -138021.0        NA        NA        NA -129794.4\n",
       "7  -151100.6        NA -138130.0        NA        NA        NA -129429.5\n",
       "8  -148431.9        NA -137488.7        NA        NA        NA -128063.5\n",
       "9  -148582.3        NA -136448.7        NA        NA        NA -127396.2\n",
       "10 -145502.1        NA -136169.5        NA        NA        NA -127207.1\n",
       "11 -143911.5        NA -134651.7        NA        NA        NA -126901.1\n",
       "12 -142125.9        NA -134760.4        NA        NA        NA -126684.1\n",
       "13 -142236.5        NA -134870.0        NA        NA        NA -127188.6\n",
       "14 -141812.8        NA -134832.1        NA        NA        NA -126901.5\n",
       "15 -141895.0        NA -132248.4        NA        NA        NA -127009.8\n",
       "         VEE       EVE       VVE       EEV       VEV       EVV       VVV\n",
       "1  -143848.5 -143848.5 -143848.5 -143848.5 -143848.5 -143848.5 -143848.5\n",
       "2         NA        NA        NA -125570.4        NA        NA        NA\n",
       "3         NA        NA        NA -117865.1        NA        NA        NA\n",
       "4         NA        NA        NA -107300.0        NA        NA        NA\n",
       "5         NA        NA        NA        NA        NA        NA        NA\n",
       "6         NA        NA        NA        NA        NA        NA        NA\n",
       "7         NA        NA        NA        NA        NA        NA        NA\n",
       "8         NA        NA        NA        NA        NA        NA        NA\n",
       "9         NA        NA        NA        NA        NA        NA        NA\n",
       "10        NA        NA        NA        NA        NA        NA        NA\n",
       "11        NA        NA        NA        NA        NA        NA        NA\n",
       "12        NA        NA        NA        NA        NA        NA        NA\n",
       "13        NA        NA        NA        NA        NA        NA        NA\n",
       "14        NA        NA        NA        NA        NA        NA        NA\n",
       "15        NA        NA        NA        NA        NA        NA        NA\n",
       "\n",
       "Top 3 models based on the BIC criterion: \n",
       "    EEV,4     EEV,3     EEV,2 \n",
       "-107300.0 -117865.1 -125570.4 "
      ]
     },
     "metadata": {},
     "output_type": "display_data"
    }
   ],
   "source": [
    "gmmMed$gmm[[5]]$BIC"
   ]
  },
  {
   "cell_type": "code",
   "execution_count": 53,
   "id": "distinguished-decimal",
   "metadata": {},
   "outputs": [
    {
     "data": {
      "text/plain": [
       "Bayesian Information Criterion (BIC): \n",
       "         EII       VII       EEI       VEI       EVI       VVI       EEE\n",
       "1  -197940.4 -197940.4 -169704.6 -169704.6 -169704.6 -169704.6 -143848.5\n",
       "2  -170261.3        NA -155745.1        NA        NA        NA -142089.4\n",
       "3  -162404.9        NA -150622.2        NA        NA        NA -140081.2\n",
       "4  -159405.4        NA -143534.2        NA        NA        NA -131422.7\n",
       "5  -156037.7        NA -140520.5        NA        NA        NA -130950.7\n",
       "6  -152960.7        NA -138020.2        NA        NA        NA -130437.8\n",
       "7  -151100.8        NA -137379.6        NA        NA        NA -128156.4\n",
       "8  -149384.8        NA -137488.5        NA        NA        NA -128064.1\n",
       "9  -147746.7        NA -135639.3        NA        NA        NA -127773.9\n",
       "10 -145189.5        NA -134774.5        NA        NA        NA -127129.4\n",
       "11 -145298.8        NA -134884.1        NA        NA        NA -127238.5\n",
       "12 -144216.3        NA -134680.6        NA        NA        NA -126923.3\n",
       "13 -142584.9        NA -134722.6        NA        NA        NA -127027.2\n",
       "14 -141067.8        NA -132434.3        NA        NA        NA -126002.5\n",
       "15 -141133.9        NA -131994.5        NA        NA        NA -125907.9\n",
       "         VEE       EVE       VVE       EEV       VEV       EVV       VVV\n",
       "1  -143848.5 -143848.5 -143848.5 -143848.5 -143848.5 -143848.5 -143848.5\n",
       "2         NA        NA        NA -125570.4        NA        NA        NA\n",
       "3         NA        NA        NA -117797.4        NA        NA        NA\n",
       "4         NA        NA        NA -112064.1        NA        NA        NA\n",
       "5         NA        NA        NA -110900.9        NA        NA        NA\n",
       "6         NA        NA        NA -107685.8        NA        NA        NA\n",
       "7         NA        NA        NA        NA        NA        NA        NA\n",
       "8         NA        NA        NA        NA        NA        NA        NA\n",
       "9         NA        NA        NA        NA        NA        NA        NA\n",
       "10        NA        NA        NA        NA        NA        NA        NA\n",
       "11        NA        NA        NA        NA        NA        NA        NA\n",
       "12        NA        NA        NA        NA        NA        NA        NA\n",
       "13        NA        NA        NA        NA        NA        NA        NA\n",
       "14        NA        NA        NA        NA        NA        NA        NA\n",
       "15        NA        NA        NA        NA        NA        NA        NA\n",
       "\n",
       "Top 3 models based on the BIC criterion: \n",
       "    EEV,6     EEV,5     EEV,4 \n",
       "-107685.8 -110900.9 -112064.1 "
      ]
     },
     "metadata": {},
     "output_type": "display_data"
    }
   ],
   "source": [
    "gmmMed$gmm[[6]]$BIC"
   ]
  },
  {
   "cell_type": "code",
   "execution_count": 54,
   "id": "disturbed-overall",
   "metadata": {},
   "outputs": [
    {
     "data": {
      "text/plain": [
       "Bayesian Information Criterion (BIC): \n",
       "         EII       VII       EEI       VEI       EVI       VVI       EEE\n",
       "1  -197940.4 -197940.4 -169704.6 -169704.6 -169704.6 -169704.6 -143848.5\n",
       "2  -170261.3        NA -155745.1        NA        NA        NA -142089.5\n",
       "3  -162405.1        NA -150622.7        NA        NA        NA -139728.2\n",
       "4  -159207.1        NA -144912.5        NA        NA        NA -136745.4\n",
       "5  -155842.7        NA -140520.4        NA        NA        NA -130954.3\n",
       "6  -154192.7        NA -140853.0        NA        NA        NA -128514.8\n",
       "7  -151100.9        NA -138130.9        NA        NA        NA -127945.3\n",
       "8  -149253.6        NA -137488.3        NA        NA        NA -128020.4\n",
       "9  -146496.4        NA -136448.5        NA        NA        NA -128173.6\n",
       "10 -145196.5        NA -137189.4        NA        NA        NA -127883.8\n",
       "11 -144107.1        NA -134885.6        NA        NA        NA -128940.9\n",
       "12 -142475.7        NA -134642.8        NA        NA        NA -127138.8\n",
       "13 -142584.8        NA -134690.9        NA        NA        NA -127248.5\n",
       "14 -142677.9        NA -132212.8        NA        NA        NA -126899.8\n",
       "15 -141902.1        NA -128329.0        NA        NA        NA -126612.7\n",
       "         VEE       EVE       VVE        EEV       VEV       EVV       VVV\n",
       "1  -143848.5 -143848.5 -143848.5 -143848.46 -143848.5 -143848.5 -143848.5\n",
       "2         NA        NA        NA -131801.28        NA        NA        NA\n",
       "3         NA        NA        NA -117768.99        NA        NA        NA\n",
       "4         NA        NA        NA -105241.30        NA        NA        NA\n",
       "5         NA        NA        NA         NA        NA        NA        NA\n",
       "6         NA        NA        NA  -99913.41        NA        NA        NA\n",
       "7         NA        NA        NA  -97378.39        NA        NA        NA\n",
       "8         NA        NA        NA         NA        NA        NA        NA\n",
       "9         NA        NA        NA         NA        NA        NA        NA\n",
       "10        NA        NA        NA         NA        NA        NA        NA\n",
       "11        NA        NA        NA         NA        NA        NA        NA\n",
       "12        NA        NA        NA         NA        NA        NA        NA\n",
       "13        NA        NA        NA         NA        NA        NA        NA\n",
       "14        NA        NA        NA         NA        NA        NA        NA\n",
       "15        NA        NA        NA         NA        NA        NA        NA\n",
       "\n",
       "Top 3 models based on the BIC criterion: \n",
       "     EEV,7      EEV,6      EEV,4 \n",
       " -97378.39  -99913.41 -105241.30 "
      ]
     },
     "metadata": {},
     "output_type": "display_data"
    }
   ],
   "source": [
    "gmmMed$gmm[[13]]$BIC"
   ]
  },
  {
   "cell_type": "code",
   "execution_count": 55,
   "id": "severe-harrison",
   "metadata": {},
   "outputs": [
    {
     "data": {
      "text/plain": [
       "Bayesian Information Criterion (BIC): \n",
       "         EII       VII       EEI       VEI       EVI       VVI       EEE\n",
       "1  -197940.4 -197940.4 -169704.6 -169704.6 -169704.6 -169704.6 -143848.5\n",
       "2  -170261.3        NA -155745.0        NA        NA        NA -142089.5\n",
       "3  -162404.8        NA -150622.3        NA        NA        NA -138562.7\n",
       "4  -159407.4        NA -143533.7        NA        NA        NA -137876.4\n",
       "5  -155841.9        NA -140743.8        NA        NA        NA -133216.8\n",
       "6  -154198.1        NA -138020.9        NA        NA        NA -132268.8\n",
       "7  -151222.1        NA -141743.7        NA        NA        NA -132195.0\n",
       "8  -149483.7        NA -138185.1        NA        NA        NA -131819.0\n",
       "9  -146499.3        NA -137077.6        NA        NA        NA -131928.6\n",
       "10 -145196.8        NA -136627.3        NA        NA        NA -131756.7\n",
       "11 -143590.2        NA -136645.6        NA        NA        NA -131301.6\n",
       "12 -144217.1        NA -133991.3        NA        NA        NA -127121.8\n",
       "13 -143445.0        NA -129708.5        NA        NA        NA -125897.6\n",
       "14 -141811.2        NA -129817.9        NA        NA        NA -124502.5\n",
       "15 -141874.7        NA -128582.5        NA        NA        NA -126151.1\n",
       "         VEE       EVE       VVE        EEV       VEV       EVV       VVV\n",
       "1  -143848.5 -143848.5 -143848.5 -143848.46 -143848.5 -143848.5 -143848.5\n",
       "2         NA        NA        NA -125570.43        NA        NA        NA\n",
       "3         NA        NA        NA -117769.59        NA        NA        NA\n",
       "4         NA        NA        NA -109814.23        NA        NA        NA\n",
       "5         NA        NA        NA -107736.44        NA        NA        NA\n",
       "6         NA        NA        NA         NA        NA        NA        NA\n",
       "7         NA        NA        NA         NA        NA        NA        NA\n",
       "8         NA        NA        NA         NA        NA        NA        NA\n",
       "9         NA        NA        NA         NA        NA        NA        NA\n",
       "10        NA        NA        NA         NA        NA        NA        NA\n",
       "11        NA        NA        NA  -85108.89        NA        NA        NA\n",
       "12        NA        NA        NA         NA        NA        NA        NA\n",
       "13        NA        NA        NA         NA        NA        NA        NA\n",
       "14        NA        NA        NA         NA        NA        NA        NA\n",
       "15        NA        NA        NA         NA        NA        NA        NA\n",
       "\n",
       "Top 3 models based on the BIC criterion: \n",
       "    EEV,11      EEV,5      EEV,4 \n",
       " -85108.89 -107736.44 -109814.23 "
      ]
     },
     "metadata": {},
     "output_type": "display_data"
    }
   ],
   "source": [
    "gmmMed$gmm[[15]]$BIC"
   ]
  },
  {
   "cell_type": "markdown",
   "id": "ignored-compatibility",
   "metadata": {},
   "source": [
    "El mejor modelo es el tercero, que tiene 7 clusters. Vemos que a diferencia de cuando hacíamos el clustering global ahora el método no nos pide cada vez más grupos. Vamos a analizar este modelo más en profundidad."
   ]
  },
  {
   "cell_type": "code",
   "execution_count": 120,
   "id": "after-mapping",
   "metadata": {},
   "outputs": [
    {
     "name": "stdout",
     "output_type": "stream",
     "text": [
      "1 510 \n",
      "2 155 \n",
      "3 104 \n",
      "4 91 \n",
      "5 3196 \n",
      "6 187 \n",
      "7 263 \n"
     ]
    }
   ],
   "source": [
    "# Tamaño de los clusters\n",
    "for (i in 1:7){\n",
    "    cat(i, sum(gmmMed$gmm[[3]]$classification == i),'\\n')\n",
    "}"
   ]
  },
  {
   "cell_type": "code",
   "execution_count": 61,
   "id": "false-diamond",
   "metadata": {},
   "outputs": [
    {
     "data": {
      "image/png": "[encoded data removed]",
      "text/plain": [
       "plot without title"
      ]
     },
     "metadata": {},
     "output_type": "display_data"
    }
   ],
   "source": [
    "# Representación espacial de los clusters\n",
    "gmm.log <- plotClust.gmm(df.log.med, coords.med, gmmMed$gmm[[3]], naind.med)"
   ]
  },
  {
   "cell_type": "code",
   "execution_count": 129,
   "id": "appropriate-diana",
   "metadata": {},
   "outputs": [
    {
     "data": {
      "image/png": "[encoded data removed]",
      "text/plain": [
       "Plot with title \"Cluster 7\""
      ]
     },
     "metadata": {},
     "output_type": "display_data"
    }
   ],
   "source": [
    "# Centroides (en rojo) y percentiles 25 y 75 de cada cluster\n",
    "plotCentroids.gmm(df.log.med[-naind.med, ], gmmMed$gmm[[3]], c(3,3))"
   ]
  },
  {
   "cell_type": "code",
   "execution_count": 123,
   "id": "complete-divide",
   "metadata": {},
   "outputs": [
    {
     "name": "stdout",
     "output_type": "stream",
     "text": [
      "3 7 8 9 10 \n",
      "2 3 4 7 8 9 10 \n",
      "3 4 7 8 9 10 11 12 \n",
      "1 2 3 4 5 7 8 \n",
      "7 8 9 10 \n",
      "6 7 8 9 10 11 \n",
      "7 8 9 10 11 \n"
     ]
    }
   ],
   "source": [
    "# Fire season obtenidas\n",
    "fireSeason.med = fireSeason(df.log.med[-naind.med, ], gmmMed$gmm[[3]])"
   ]
  },
  {
   "cell_type": "markdown",
   "id": "metropolitan-serum",
   "metadata": {},
   "source": [
    "Obtenemos 7 clusters con un tamaño y una coherencia espacial suficientes, con la excepción del cluster 4. De las fire season hay 4 bimodales y 3 unimodales, aunque los grupos 4 y 5 tienen poca superficie quemada. No hay fire season repetidas."
   ]
  },
  {
   "cell_type": "markdown",
   "id": "stopped-junior",
   "metadata": {},
   "source": [
    "## Análisis de la taiga siberiana"
   ]
  },
  {
   "cell_type": "code",
   "execution_count": 7,
   "id": "latter-realtor",
   "metadata": {},
   "outputs": [],
   "source": [
    "# coordenadas: \n",
    "lon.t <- c(65, 85)\n",
    "lat.t <- c(55, 65)"
   ]
  },
  {
   "cell_type": "code",
   "execution_count": 8,
   "id": "italian-diversity",
   "metadata": {},
   "outputs": [],
   "source": [
    "ind.coords.t = which(coords$x < lon.t[2] & coords$x > lon.t[1] & coords$y > lat.t[1] & coords$y < lat.t[2])\n",
    "df.log.t = df.log[ind.coords.t,]\n",
    "df.t = df[ind.coords.t,]\n",
    "coords.t = coords[ind.coords.t,]"
   ]
  },
  {
   "cell_type": "code",
   "execution_count": 9,
   "id": "determined-broadcast",
   "metadata": {},
   "outputs": [
    {
     "data": {
      "text/html": [
       "0"
      ],
      "text/latex": [
       "0"
      ],
      "text/markdown": [
       "0"
      ],
      "text/plain": [
       "[1] 0"
      ]
     },
     "metadata": {},
     "output_type": "display_data"
    }
   ],
   "source": [
    "# Localizamos los NAs\n",
    "naind.t <- which(is.na(df.log.t), arr.ind = TRUE)\n",
    "length(naind.t)"
   ]
  },
  {
   "cell_type": "code",
   "execution_count": 36,
   "id": "recognized-disaster",
   "metadata": {},
   "outputs": [
    {
     "name": "stderr",
     "output_type": "stream",
     "text": [
      "Lowest BIC: -91391.97\n",
      "Number of clusters:9\n"
     ]
    },
    {
     "name": "stdout",
     "output_type": "stream",
     "text": [
      "9 -91831.44 -92130.16 \n",
      "9 -91830.84 -92126.52 \n",
      "9 -91831.32 -92129.43 \n",
      "9 -91830.98 -92129.88 \n",
      "9 -91830.75 -92128.36 \n",
      "9 -93404.12 -93702.02 \n",
      "9 -91830.72 -92127.38 \n",
      "9 -91830.74 -92127.47 \n",
      "9 -91391.97 -91632.87 \n",
      "9 -93416.24 -93709.25 \n",
      "9 -91831.13 -92130.83 \n",
      "9 -91830.76 -92128.35 \n",
      "9 -91831.34 -92131.15 \n",
      "9 -93375.1 -93689.38 \n",
      "9 -91831.01 -92128.31 \n"
     ]
    }
   ],
   "source": [
    "# Realizamos el clustering\n",
    "gmm.t <- selectBestGMM(data = df.log.t, K = 9, n.inits = 15)"
   ]
  },
  {
   "cell_type": "markdown",
   "id": "active-hospital",
   "metadata": {},
   "source": [
    "En este caso casi todos los intentos son muy parecidos, nos quedaremos con el 9 que es el mejor en cuanto a BIC e icl. Se ha establecido el límite de 9 clusters como máximo porque por encima de ese número obteníamos grupos incoherentes."
   ]
  },
  {
   "cell_type": "code",
   "execution_count": 37,
   "id": "statewide-commitment",
   "metadata": {},
   "outputs": [
    {
     "name": "stdout",
     "output_type": "stream",
     "text": [
      "1 1214 \n",
      "2 118 \n",
      "3 264 \n",
      "4 196 \n",
      "5 205 \n",
      "6 195 \n",
      "7 247 \n",
      "8 479 \n",
      "9 282 \n"
     ]
    }
   ],
   "source": [
    "# Tamaño de los clusters\n",
    "for (i in 1:9){\n",
    "    cat(i, sum(gmm.t$gmm[[9]]$classification == i),'\\n')\n",
    "}"
   ]
  },
  {
   "cell_type": "code",
   "execution_count": 38,
   "id": "dress-honey",
   "metadata": {},
   "outputs": [
    {
     "name": "stderr",
     "output_type": "stream",
     "text": [
      "Warning message in v[-naind] <- clus$classification:\n",
      "\"número de items para para sustituir no es un múltiplo de la longitud del reemplazo\""
     ]
    },
    {
     "data": {
      "image/png": "[encoded data removed]",
      "text/plain": [
       "plot without title"
      ]
     },
     "metadata": {},
     "output_type": "display_data"
    }
   ],
   "source": [
    "gmm.log <- plotClust.gmm(df.log.t, coords.t, gmm.t$gmm[[9]], 4)"
   ]
  },
  {
   "cell_type": "code",
   "execution_count": 130,
   "id": "hollow-commodity",
   "metadata": {},
   "outputs": [
    {
     "data": {
      "image/png": "[encoded data removed]",
      "text/plain": [
       "Plot with title \"Cluster 9\""
      ]
     },
     "metadata": {},
     "output_type": "display_data"
    }
   ],
   "source": [
    "plotCentroids.gmm(df.log.t, gmm.t$gmm[[9]], c(3,3))"
   ]
  },
  {
   "cell_type": "code",
   "execution_count": 112,
   "id": "flying-combine",
   "metadata": {},
   "outputs": [
    {
     "name": "stdout",
     "output_type": "stream",
     "text": [
      "5 6 7 8 \n",
      "5 6 7 \n",
      "4 5 8 9 10 \n",
      "4 5 6 \n",
      "6 7 8 \n",
      "4 5 9 10 \n",
      "4 5 6 \n",
      "7 8 \n",
      "6 7 \n"
     ]
    }
   ],
   "source": [
    "fireSeason.t = fireSeason(df.log.t, gmm.t$gmm[[9]])"
   ]
  },
  {
   "cell_type": "markdown",
   "id": "coastal-force",
   "metadata": {},
   "source": [
    "Aún con 9 clusters, los grupos 4 y 9 no tienen mucha coherencia espacial. De las fire season obtenidas, hay dos bimodales, una casi plana y el resto unimodales. Dos de ellas se solapan."
   ]
  },
  {
   "cell_type": "markdown",
   "id": "known-fashion",
   "metadata": {},
   "source": [
    "## Análisis del Sahel"
   ]
  },
  {
   "cell_type": "code",
   "execution_count": 22,
   "id": "surrounded-youth",
   "metadata": {},
   "outputs": [],
   "source": [
    "# coordenadas: \n",
    "lon.s <- c(7.5, 25)\n",
    "lat.s <- c(-2, 5)\n",
    "\n",
    "ind.coords.s = which(coords$x < lon.s[2] & coords$x > lon.s[1] & coords$y > lat.s[1] & coords$y < lat.s[2])\n",
    "df.log.s = df.log[ind.coords.s,]\n",
    "df.s = df[ind.coords.s,]\n",
    "coords.s = coords[ind.coords.s,]"
   ]
  },
  {
   "cell_type": "code",
   "execution_count": 23,
   "id": "attempted-width",
   "metadata": {},
   "outputs": [
    {
     "data": {
      "text/html": [
       "4416"
      ],
      "text/latex": [
       "4416"
      ],
      "text/markdown": [
       "4416"
      ],
      "text/plain": [
       "[1] 4416"
      ]
     },
     "metadata": {},
     "output_type": "display_data"
    }
   ],
   "source": [
    "# Localizamos los NAs\n",
    "naind.s <- which(is.na(df.log.s), arr.ind = TRUE)\n",
    "length(naind.s)"
   ]
  },
  {
   "cell_type": "code",
   "execution_count": 33,
   "id": "allied-reference",
   "metadata": {},
   "outputs": [
    {
     "name": "stderr",
     "output_type": "stream",
     "text": [
      "Lowest BIC: -38884.17\n",
      "Number of clusters:7\n"
     ]
    },
    {
     "name": "stdout",
     "output_type": "stream",
     "text": [
      "7 -38884.17 -39407.07 \n",
      "7 -38884.17 -39407.07 \n",
      "7 -38884.17 -39407.07 \n"
     ]
    }
   ],
   "source": [
    "# Realizamos el clustering\n",
    "gmm.s <- selectBestGMM(data = df.log.s[-naind.s, ], K = 9, n.inits = 3)"
   ]
  },
  {
   "cell_type": "markdown",
   "id": "electric-coupon",
   "metadata": {},
   "source": [
    "Los resultados son idénticos, no tenía sentido hacer más intentos. Se ha puesto límite 9 porque en caso contrario obteníamos 11 clusters con 2 de ellos (el 3 y el 5) claramente prescindibles, como se ve en la figura:"
   ]
  },
  {
   "cell_type": "code",
   "execution_count": 45,
   "id": "saving-conservative",
   "metadata": {},
   "outputs": [
    {
     "data": {
      "image/png": "[encoded data removed]",
      "text/plain": [
       "plot without title"
      ]
     },
     "metadata": {},
     "output_type": "display_data"
    }
   ],
   "source": [
    "gmm.log <- plotClust.gmm(df.log.s, coords.s, gmm.s$gmm[[1]], naind.s)"
   ]
  },
  {
   "cell_type": "code",
   "execution_count": 34,
   "id": "returning-heating",
   "metadata": {},
   "outputs": [
    {
     "name": "stdout",
     "output_type": "stream",
     "text": [
      "1 187 \n",
      "2 140 \n",
      "3 1064 \n",
      "4 148 \n",
      "5 93 \n",
      "6 82 \n",
      "7 62 \n"
     ]
    }
   ],
   "source": [
    "# Tamaño de los clusters\n",
    "for (i in 1:7){\n",
    "    cat(i, sum(gmm.s$gmm[[1]]$classification == i),'\\n')\n",
    "}"
   ]
  },
  {
   "cell_type": "code",
   "execution_count": 36,
   "id": "forward-yeast",
   "metadata": {},
   "outputs": [
    {
     "data": {
      "image/png": "[encoded data removed]",
      "text/plain": [
       "plot without title"
      ]
     },
     "metadata": {},
     "output_type": "display_data"
    }
   ],
   "source": [
    "gmm.log <- plotClust.gmm(df.log.s, coords.s, gmm.s$gmm[[1]], naind.s)"
   ]
  },
  {
   "cell_type": "code",
   "execution_count": 38,
   "id": "dress-river",
   "metadata": {},
   "outputs": [
    {
     "data": {
      "image/png": "[encoded data removed]",
      "text/plain": [
       "Plot with title \"Cluster 7\""
      ]
     },
     "metadata": {},
     "output_type": "display_data"
    }
   ],
   "source": [
    "plotCentroids.gmm(df.log.s[-naind.s, ],gmm.s$gmm[[1]], c(3,3))"
   ]
  },
  {
   "cell_type": "code",
   "execution_count": 37,
   "id": "amazing-century",
   "metadata": {},
   "outputs": [
    {
     "name": "stdout",
     "output_type": "stream",
     "text": [
      "1 2 3 12 \n",
      "1 2 11 12 \n",
      "1 2 3 4 \n",
      "1 4 6 7 8 \n",
      "3 4 5 6 7 8 9 \n",
      "1 2 3 4 5 6 7 8 \n",
      "1 2 3 4 9 10 11 12 \n"
     ]
    }
   ],
   "source": [
    "fireSeason.s = fireSeason(df.log.s[-naind.s, ],gmm.s$gmm[[1]])"
   ]
  },
  {
   "cell_type": "markdown",
   "id": "hollow-teach",
   "metadata": {},
   "source": [
    "Salen 7 grupos, uno de ellos tiene una fire season plana, no hay bimodales y el cluster 4 tiene una fire season degenerada."
   ]
  }
 ],
 "metadata": {
  "kernelspec": {
   "display_name": "R",
   "language": "R",
   "name": "ir"
  },
  "language_info": {
   "codemirror_mode": "r",
   "file_extension": ".r",
   "mimetype": "text/x-r-source",
   "name": "R",
   "pygments_lexer": "r",
   "version": "3.6.1"
  }
 },
 "nbformat": 4,
 "nbformat_minor": 5
}
