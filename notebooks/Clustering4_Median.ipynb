{
 "cells": [
  {
   "cell_type": "markdown",
   "id": "controlling-financing",
   "metadata": {},
   "source": [
    "In this notebook we calculate the different fire seasons that exist in each of the biomes showed below, apart from the mangroves where there are a few points"
   ]
  },
  {
   "cell_type": "code",
   "execution_count": 1,
   "id": "twelve-means",
   "metadata": {},
   "outputs": [],
   "source": [
    "setwd(\"..\")"
   ]
  },
  {
   "cell_type": "code",
   "execution_count": 2,
   "id": "excited-billion",
   "metadata": {},
   "outputs": [
    {
     "name": "stderr",
     "output_type": "stream",
     "text": [
      "Warning message:\n",
      "\"package 'mclust' was built under R version 3.6.3\"Package 'mclust' version 5.4.7\n",
      "Type 'citation(\"mclust\")' for citing this R package in publications.\n",
      "Loading required package: sp\n",
      "Warning message:\n",
      "\"package 'sp' was built under R version 3.6.3\"Loading required package: magrittr\n",
      "Warning message:\n",
      "\"package 'magrittr' was built under R version 3.6.3\"Warning message:\n",
      "\"package 'dplyr' was built under R version 3.6.3\"\n",
      "Attaching package: 'dplyr'\n",
      "\n",
      "The following objects are masked from 'package:stats':\n",
      "\n",
      "    filter, lag\n",
      "\n",
      "The following objects are masked from 'package:base':\n",
      "\n",
      "    intersect, setdiff, setequal, union\n",
      "\n",
      "Loading required package: RColorBrewer\n"
     ]
    }
   ],
   "source": [
    "source(\"scripts/clustering_functions.r\")"
   ]
  },
  {
   "cell_type": "code",
   "execution_count": 3,
   "id": "unusual-kingston",
   "metadata": {},
   "outputs": [
    {
     "data": {
      "text/html": [
       "<table>\n",
       "<thead><tr><th scope=col>ID</th><th scope=col>Name</th><th scope=col>Label</th></tr></thead>\n",
       "<tbody>\n",
       "\t<tr><td>1                                                           </td><td>Tropical and Subtropical Moist Broadleaf Forests            </td><td>TrMoistBrFor                                                </td></tr>\n",
       "\t<tr><td>2                                                           </td><td>Tropical and Subtropical Dry Broadleaf Forests              </td><td>TrDryBrFor                                                  </td></tr>\n",
       "\t<tr><td>3                                                           </td><td>Tropical Conifer Forests                                    </td><td>TrConFor                                                    </td></tr>\n",
       "\t<tr><td>4                                                           </td><td>Temperate Broadleaf and Mixed Forests                       </td><td>TemBrFor                                                    </td></tr>\n",
       "\t<tr><td>5                                                           </td><td>Temperate Conifer Forests                                   </td><td>TemConFor                                                   </td></tr>\n",
       "\t<tr><td>6                                                           </td><td>Boreal Forests/Taiga                                        </td><td>Taiga                                                       </td></tr>\n",
       "\t<tr><td>7                                                           </td><td>Tropical and Subtropical Grasslands, Savannas and Shrublands</td><td>TrGrass                                                     </td></tr>\n",
       "\t<tr><td>8                                                           </td><td>Temperate Grasslands, Savannas and Shrublands               </td><td>TemGrass                                                    </td></tr>\n",
       "\t<tr><td>9                                                           </td><td>Flooded Grasslands and Savannas                             </td><td>FlGrass                                                     </td></tr>\n",
       "\t<tr><td>10                                                          </td><td>Montane Grasslands and Shrublands                           </td><td>MnGrass                                                     </td></tr>\n",
       "\t<tr><td>11                                                          </td><td>Tundra                                                      </td><td>Tundra                                                      </td></tr>\n",
       "\t<tr><td>12                                                          </td><td>Meditarranean Forests, Woodlands and Scrub                  </td><td>Med                                                         </td></tr>\n",
       "\t<tr><td>13                                                          </td><td>Desert and Xeric Shrublands                                 </td><td>Desert                                                      </td></tr>\n",
       "\t<tr><td>14                                                          </td><td>Mangroves                                                   </td><td>Mangroves                                                   </td></tr>\n",
       "</tbody>\n",
       "</table>\n"
      ],
      "text/latex": [
       "\\begin{tabular}{r|lll}\n",
       " ID & Name & Label\\\\\n",
       "\\hline\n",
       "\t 1                                                            & Tropical and Subtropical Moist Broadleaf Forests             & TrMoistBrFor                                                \\\\\n",
       "\t 2                                                            & Tropical and Subtropical Dry Broadleaf Forests               & TrDryBrFor                                                  \\\\\n",
       "\t 3                                                            & Tropical Conifer Forests                                     & TrConFor                                                    \\\\\n",
       "\t 4                                                            & Temperate Broadleaf and Mixed Forests                        & TemBrFor                                                    \\\\\n",
       "\t 5                                                            & Temperate Conifer Forests                                    & TemConFor                                                   \\\\\n",
       "\t 6                                                            & Boreal Forests/Taiga                                         & Taiga                                                       \\\\\n",
       "\t 7                                                            & Tropical and Subtropical Grasslands, Savannas and Shrublands & TrGrass                                                     \\\\\n",
       "\t 8                                                            & Temperate Grasslands, Savannas and Shrublands                & TemGrass                                                    \\\\\n",
       "\t 9                                                            & Flooded Grasslands and Savannas                              & FlGrass                                                     \\\\\n",
       "\t 10                                                           & Montane Grasslands and Shrublands                            & MnGrass                                                     \\\\\n",
       "\t 11                                                           & Tundra                                                       & Tundra                                                      \\\\\n",
       "\t 12                                                           & Meditarranean Forests, Woodlands and Scrub                   & Med                                                         \\\\\n",
       "\t 13                                                           & Desert and Xeric Shrublands                                  & Desert                                                      \\\\\n",
       "\t 14                                                           & Mangroves                                                    & Mangroves                                                   \\\\\n",
       "\\end{tabular}\n"
      ],
      "text/markdown": [
       "\n",
       "| ID | Name | Label |\n",
       "|---|---|---|\n",
       "| 1                                                            | Tropical and Subtropical Moist Broadleaf Forests             | TrMoistBrFor                                                 |\n",
       "| 2                                                            | Tropical and Subtropical Dry Broadleaf Forests               | TrDryBrFor                                                   |\n",
       "| 3                                                            | Tropical Conifer Forests                                     | TrConFor                                                     |\n",
       "| 4                                                            | Temperate Broadleaf and Mixed Forests                        | TemBrFor                                                     |\n",
       "| 5                                                            | Temperate Conifer Forests                                    | TemConFor                                                    |\n",
       "| 6                                                            | Boreal Forests/Taiga                                         | Taiga                                                        |\n",
       "| 7                                                            | Tropical and Subtropical Grasslands, Savannas and Shrublands | TrGrass                                                      |\n",
       "| 8                                                            | Temperate Grasslands, Savannas and Shrublands                | TemGrass                                                     |\n",
       "| 9                                                            | Flooded Grasslands and Savannas                              | FlGrass                                                      |\n",
       "| 10                                                           | Montane Grasslands and Shrublands                            | MnGrass                                                      |\n",
       "| 11                                                           | Tundra                                                       | Tundra                                                       |\n",
       "| 12                                                           | Meditarranean Forests, Woodlands and Scrub                   | Med                                                          |\n",
       "| 13                                                           | Desert and Xeric Shrublands                                  | Desert                                                       |\n",
       "| 14                                                           | Mangroves                                                    | Mangroves                                                    |\n",
       "\n"
      ],
      "text/plain": [
       "   ID Name                                                         Label       \n",
       "1  1  Tropical and Subtropical Moist Broadleaf Forests             TrMoistBrFor\n",
       "2  2  Tropical and Subtropical Dry Broadleaf Forests               TrDryBrFor  \n",
       "3  3  Tropical Conifer Forests                                     TrConFor    \n",
       "4  4  Temperate Broadleaf and Mixed Forests                        TemBrFor    \n",
       "5  5  Temperate Conifer Forests                                    TemConFor   \n",
       "6  6  Boreal Forests/Taiga                                         Taiga       \n",
       "7  7  Tropical and Subtropical Grasslands, Savannas and Shrublands TrGrass     \n",
       "8  8  Temperate Grasslands, Savannas and Shrublands                TemGrass    \n",
       "9  9  Flooded Grasslands and Savannas                              FlGrass     \n",
       "10 10 Montane Grasslands and Shrublands                            MnGrass     \n",
       "11 11 Tundra                                                       Tundra      \n",
       "12 12 Meditarranean Forests, Woodlands and Scrub                   Med         \n",
       "13 13 Desert and Xeric Shrublands                                  Desert      \n",
       "14 14 Mangroves                                                    Mangroves   "
      ]
     },
     "metadata": {},
     "output_type": "display_data"
    }
   ],
   "source": [
    "legend.biomes"
   ]
  },
  {
   "cell_type": "markdown",
   "id": "meaning-australia",
   "metadata": {},
   "source": [
    "## Tropical and Subtropical Moist Broadleaf Forests"
   ]
  },
  {
   "cell_type": "code",
   "execution_count": 7,
   "id": "suspected-trail",
   "metadata": {
    "scrolled": false
   },
   "outputs": [
    {
     "name": "stdout",
     "output_type": "stream",
     "text": [
      "[1] \"Tropical and Subtropical Moist Broadleaf Forests\"\n"
     ]
    },
    {
     "name": "stderr",
     "output_type": "stream",
     "text": [
      "Lowest BIC: 55196.87\n",
      "Number of clusters:3\n"
     ]
    },
    {
     "name": "stdout",
     "output_type": "stream",
     "text": [
      "3 55196.87 55193.51 \n",
      "3 55196.87 55193.51 \n",
      "3 55196.87 55193.51 \n"
     ]
    },
    {
     "name": "stderr",
     "output_type": "stream",
     "text": [
      "Warning message in points2grid(points, tolerance, round):\n",
      "\"grid has empty column/rows in dimension 1\""
     ]
    },
    {
     "name": "stdout",
     "output_type": "stream",
     "text": [
      "3 \n",
      "2 3 4 8 9 10 \n",
      "1 \n"
     ]
    },
    {
     "data": {
      "image/png": "[encoded data removed]",
      "text/plain": [
       "plot without title"
      ]
     },
     "metadata": {},
     "output_type": "display_data"
    },
    {
     "data": {
      "image/png": "[encoded data removed]",
      "text/plain": [
       "Plot with title \"Cluster 3\""
      ]
     },
     "metadata": {},
     "output_type": "display_data"
    }
   ],
   "source": [
    "b1 = biome.clustering(1)"
   ]
  },
  {
   "cell_type": "markdown",
   "id": "changed-executive",
   "metadata": {},
   "source": [
    "## Tropical and Subtropical Dry Broadleaf Forests"
   ]
  },
  {
   "cell_type": "code",
   "execution_count": 8,
   "id": "differential-belly",
   "metadata": {
    "scrolled": false
   },
   "outputs": [
    {
     "name": "stdout",
     "output_type": "stream",
     "text": [
      "[1] \"Tropical and Subtropical Dry Broadleaf Forests\"\n"
     ]
    },
    {
     "name": "stderr",
     "output_type": "stream",
     "text": [
      "Lowest BIC: 7269.54\n",
      "Number of clusters:5\n"
     ]
    },
    {
     "name": "stdout",
     "output_type": "stream",
     "text": [
      "5 7269.539 7269.225 \n",
      "5 7269.539 7269.225 \n",
      "5 7269.539 7269.225 \n"
     ]
    },
    {
     "name": "stderr",
     "output_type": "stream",
     "text": [
      "Lowest BIC: 7269.54\n",
      "Number of clusters:5\n"
     ]
    },
    {
     "name": "stdout",
     "output_type": "stream",
     "text": [
      "5 7269.539 7269.225 \n",
      "5 7269.539 7269.225 \n",
      "5 7269.539 7269.225 \n"
     ]
    },
    {
     "name": "stderr",
     "output_type": "stream",
     "text": [
      "Lowest BIC: 7269.54\n",
      "Number of clusters:5\n"
     ]
    },
    {
     "name": "stdout",
     "output_type": "stream",
     "text": [
      "5 7269.539 7269.225 \n",
      "5 7269.539 7269.225 \n",
      "5 7269.539 7269.225 \n"
     ]
    },
    {
     "name": "stderr",
     "output_type": "stream",
     "text": [
      "Lowest BIC: 7269.54\n",
      "Number of clusters:5\n"
     ]
    },
    {
     "name": "stdout",
     "output_type": "stream",
     "text": [
      "5 7269.539 7269.225 \n",
      "5 7269.539 7269.225 \n",
      "5 7269.539 7269.225 \n"
     ]
    },
    {
     "name": "stderr",
     "output_type": "stream",
     "text": [
      "Lowest BIC: 7269.54\n",
      "Number of clusters:5\n"
     ]
    },
    {
     "name": "stdout",
     "output_type": "stream",
     "text": [
      "5 7269.539 7269.225 \n",
      "5 7269.539 7269.225 \n",
      "5 7269.539 7269.225 \n"
     ]
    },
    {
     "name": "stderr",
     "output_type": "stream",
     "text": [
      "Lowest BIC: 7165.32\n",
      "Number of clusters:4\n"
     ]
    },
    {
     "name": "stdout",
     "output_type": "stream",
     "text": [
      "4 7165.32 7165.208 \n",
      "4 7165.32 7165.208 \n",
      "4 7165.32 7165.208 \n"
     ]
    },
    {
     "name": "stderr",
     "output_type": "stream",
     "text": [
      "Lowest BIC: 7025.48\n",
      "Number of clusters:3\n"
     ]
    },
    {
     "name": "stdout",
     "output_type": "stream",
     "text": [
      "3 7025.478 7025.432 \n",
      "3 7025.478 7025.432 \n",
      "3 7025.478 7025.432 \n"
     ]
    },
    {
     "name": "stderr",
     "output_type": "stream",
     "text": [
      "Warning message in points2grid(points, tolerance, round):\n",
      "\"grid has empty column/rows in dimension 1\"Warning message in points2grid(points, tolerance, round):\n",
      "\"grid topology may be corrupt in dimension 1\"Warning message in points2grid(points, tolerance, round):\n",
      "\"grid has empty column/rows in dimension 2\""
     ]
    },
    {
     "name": "stdout",
     "output_type": "stream",
     "text": [
      "5 6 7 8 9 10 11 \n",
      "2 3 4 \n",
      "1 \n"
     ]
    },
    {
     "data": {
      "image/png": "[encoded data removed]",
      "text/plain": [
       "plot without title"
      ]
     },
     "metadata": {},
     "output_type": "display_data"
    },
    {
     "data": {
      "image/png": "[encoded data removed]",
      "text/plain": [
       "Plot with title \"Cluster 3\""
      ]
     },
     "metadata": {},
     "output_type": "display_data"
    }
   ],
   "source": [
    "b2 = biome.clustering(2)"
   ]
  },
  {
   "cell_type": "markdown",
   "id": "frequent-revolution",
   "metadata": {},
   "source": [
    "## Tropical Conifer Forests"
   ]
  },
  {
   "cell_type": "code",
   "execution_count": 9,
   "id": "certain-davis",
   "metadata": {
    "scrolled": false
   },
   "outputs": [
    {
     "name": "stdout",
     "output_type": "stream",
     "text": [
      "[1] \"Tropical Conifer Forests\"\n"
     ]
    },
    {
     "name": "stderr",
     "output_type": "stream",
     "text": [
      "Lowest BIC: 2770.77\n",
      "Number of clusters:9\n"
     ]
    },
    {
     "name": "stdout",
     "output_type": "stream",
     "text": [
      "9 2770.771 2770.771 \n",
      "9 2770.771 2770.771 \n",
      "9 2770.771 2770.771 \n"
     ]
    },
    {
     "name": "stderr",
     "output_type": "stream",
     "text": [
      "Lowest BIC: 2757.65\n",
      "Number of clusters:8\n"
     ]
    },
    {
     "name": "stdout",
     "output_type": "stream",
     "text": [
      "8 2757.646 2757.645 \n",
      "8 2757.646 2757.645 \n",
      "8 2757.646 2757.645 \n"
     ]
    },
    {
     "name": "stderr",
     "output_type": "stream",
     "text": [
      "Lowest BIC: 2719.08\n",
      "Number of clusters:7\n"
     ]
    },
    {
     "name": "stdout",
     "output_type": "stream",
     "text": [
      "7 2719.081 2719.081 \n",
      "7 2719.081 2719.081 \n",
      "7 2719.081 2719.081 \n"
     ]
    },
    {
     "name": "stderr",
     "output_type": "stream",
     "text": [
      "Lowest BIC: 2614.39\n",
      "Number of clusters:6\n"
     ]
    },
    {
     "name": "stdout",
     "output_type": "stream",
     "text": [
      "6 2614.39 2614.39 \n",
      "6 2614.39 2614.39 \n",
      "6 2614.39 2614.39 \n"
     ]
    },
    {
     "name": "stderr",
     "output_type": "stream",
     "text": [
      "Lowest BIC: 2607.13\n",
      "Number of clusters:5\n"
     ]
    },
    {
     "name": "stdout",
     "output_type": "stream",
     "text": [
      "5 2607.134 2607.134 \n",
      "5 2607.134 2607.134 \n",
      "5 2607.134 2607.134 \n"
     ]
    },
    {
     "name": "stderr",
     "output_type": "stream",
     "text": [
      "Lowest BIC: 2532.33\n",
      "Number of clusters:4\n"
     ]
    },
    {
     "name": "stdout",
     "output_type": "stream",
     "text": [
      "4 2532.326 2532.325 \n",
      "4 2532.326 2532.325 \n",
      "4 2532.326 2532.325 \n"
     ]
    },
    {
     "name": "stderr",
     "output_type": "stream",
     "text": [
      "Lowest BIC: 2510.92\n",
      "Number of clusters:3\n"
     ]
    },
    {
     "name": "stdout",
     "output_type": "stream",
     "text": [
      "3 2510.919 2510.909 \n",
      "3 2510.919 2510.909 \n",
      "3 2510.919 2510.909 \n"
     ]
    },
    {
     "name": "stderr",
     "output_type": "stream",
     "text": [
      "Lowest BIC: 2440.82\n",
      "Number of clusters:2\n"
     ]
    },
    {
     "name": "stdout",
     "output_type": "stream",
     "text": [
      "2 2440.818 2440.816 \n",
      "2 2440.818 2440.816 \n",
      "2 2440.818 2440.816 \n"
     ]
    },
    {
     "name": "stderr",
     "output_type": "stream",
     "text": [
      "Warning message in points2grid(points, tolerance, round):\n",
      "\"grid has empty column/rows in dimension 1\"Warning message in points2grid(points, tolerance, round):\n",
      "\"grid topology may be corrupt in dimension 1\"Warning message in points2grid(points, tolerance, round):\n",
      "\"grid has empty column/rows in dimension 2\""
     ]
    },
    {
     "name": "stdout",
     "output_type": "stream",
     "text": [
      "4 5 6 \n",
      "2 4 5 \n"
     ]
    },
    {
     "data": {
      "image/png": "[encoded data removed]",
      "text/plain": [
       "plot without title"
      ]
     },
     "metadata": {},
     "output_type": "display_data"
    },
    {
     "data": {
      "image/png": "[encoded data removed]",
      "text/plain": [
       "Plot with title \"Cluster 2\""
      ]
     },
     "metadata": {},
     "output_type": "display_data"
    }
   ],
   "source": [
    "b3 = biome.clustering(3)"
   ]
  },
  {
   "cell_type": "markdown",
   "id": "fitted-cliff",
   "metadata": {},
   "source": [
    "## Temperate Broadleaf and Mixed Forests"
   ]
  },
  {
   "cell_type": "code",
   "execution_count": 10,
   "id": "going-narrative",
   "metadata": {
    "scrolled": false
   },
   "outputs": [
    {
     "name": "stdout",
     "output_type": "stream",
     "text": [
      "[1] \"Temperate Broadleaf and Mixed Forests\"\n"
     ]
    },
    {
     "name": "stderr",
     "output_type": "stream",
     "text": [
      "Lowest BIC: 51401.95\n",
      "Number of clusters:3\n"
     ]
    },
    {
     "name": "stdout",
     "output_type": "stream",
     "text": [
      "3 51401.95 51320.99 \n",
      "3 51401.95 51320.99 \n",
      "3 51401.95 51320.99 \n"
     ]
    },
    {
     "name": "stderr",
     "output_type": "stream",
     "text": [
      "Warning message in points2grid(points, tolerance, round):\n",
      "\"grid has empty column/rows in dimension 1\"Warning message in points2grid(points, tolerance, round):\n",
      "\"grid has empty column/rows in dimension 2\""
     ]
    },
    {
     "name": "stdout",
     "output_type": "stream",
     "text": [
      "1 \n",
      "6 7 10 12 \n",
      "1 2 3 \n"
     ]
    },
    {
     "data": {
      "image/png": "[encoded data removed]",
      "text/plain": [
       "plot without title"
      ]
     },
     "metadata": {},
     "output_type": "display_data"
    },
    {
     "data": {
      "image/png": "[encoded data removed]",
      "text/plain": [
       "Plot with title \"Cluster 3\""
      ]
     },
     "metadata": {},
     "output_type": "display_data"
    }
   ],
   "source": [
    "b4 = biome.clustering(4)"
   ]
  },
  {
   "cell_type": "markdown",
   "id": "random-retention",
   "metadata": {},
   "source": [
    "## Temperate Conifer Forests"
   ]
  },
  {
   "cell_type": "code",
   "execution_count": 11,
   "id": "subsequent-anthony",
   "metadata": {
    "scrolled": false
   },
   "outputs": [
    {
     "name": "stdout",
     "output_type": "stream",
     "text": [
      "[1] \"Temperate Conifer Forests\"\n"
     ]
    },
    {
     "name": "stderr",
     "output_type": "stream",
     "text": [
      "Lowest BIC: 17625.18\n",
      "Number of clusters:4\n"
     ]
    },
    {
     "name": "stdout",
     "output_type": "stream",
     "text": [
      "4 17625.18 17625.09 \n",
      "4 17625.18 17625.09 \n",
      "4 17625.18 17625.09 \n"
     ]
    },
    {
     "name": "stderr",
     "output_type": "stream",
     "text": [
      "Lowest BIC: 17625.18\n",
      "Number of clusters:4\n"
     ]
    },
    {
     "name": "stdout",
     "output_type": "stream",
     "text": [
      "4 17625.18 17625.09 \n",
      "4 17625.18 17625.09 \n",
      "4 17625.18 17625.09 \n"
     ]
    },
    {
     "name": "stderr",
     "output_type": "stream",
     "text": [
      "Lowest BIC: 17625.18\n",
      "Number of clusters:4\n"
     ]
    },
    {
     "name": "stdout",
     "output_type": "stream",
     "text": [
      "4 17625.18 17625.09 \n",
      "4 17625.18 17625.09 \n",
      "4 17625.18 17625.09 \n"
     ]
    },
    {
     "name": "stderr",
     "output_type": "stream",
     "text": [
      "Lowest BIC: 17625.18\n",
      "Number of clusters:4\n"
     ]
    },
    {
     "name": "stdout",
     "output_type": "stream",
     "text": [
      "4 17625.18 17625.09 \n",
      "4 17625.18 17625.09 \n",
      "4 17625.18 17625.09 \n"
     ]
    },
    {
     "name": "stderr",
     "output_type": "stream",
     "text": [
      "Lowest BIC: 17625.18\n",
      "Number of clusters:4\n"
     ]
    },
    {
     "name": "stdout",
     "output_type": "stream",
     "text": [
      "4 17625.18 17625.09 \n",
      "4 17625.18 17625.09 \n",
      "4 17625.18 17625.09 \n"
     ]
    },
    {
     "name": "stderr",
     "output_type": "stream",
     "text": [
      "Lowest BIC: 17625.18\n",
      "Number of clusters:4\n"
     ]
    },
    {
     "name": "stdout",
     "output_type": "stream",
     "text": [
      "4 17625.18 17625.09 \n",
      "4 17625.18 17625.09 \n",
      "4 17625.18 17625.09 \n"
     ]
    },
    {
     "name": "stderr",
     "output_type": "stream",
     "text": [
      "Lowest BIC: 17327.32\n",
      "Number of clusters:2\n"
     ]
    },
    {
     "name": "stdout",
     "output_type": "stream",
     "text": [
      "2 17327.32 17287.42 \n",
      "2 17327.32 17287.42 \n",
      "2 17327.32 17287.42 \n"
     ]
    },
    {
     "name": "stderr",
     "output_type": "stream",
     "text": [
      "Warning message in points2grid(points, tolerance, round):\n",
      "\"grid has empty column/rows in dimension 1\"Warning message in points2grid(points, tolerance, round):\n",
      "\"grid topology may be corrupt in dimension 1\""
     ]
    },
    {
     "name": "stdout",
     "output_type": "stream",
     "text": [
      "1 \n",
      "1 \n"
     ]
    },
    {
     "data": {
      "image/png": "[encoded data removed]",
      "text/plain": [
       "plot without title"
      ]
     },
     "metadata": {},
     "output_type": "display_data"
    },
    {
     "data": {
      "image/png": "[encoded data removed]",
      "text/plain": [
       "Plot with title \"Cluster 2\""
      ]
     },
     "metadata": {},
     "output_type": "display_data"
    }
   ],
   "source": [
    "b5 = biome.clustering(5)"
   ]
  },
  {
   "cell_type": "markdown",
   "id": "continental-correlation",
   "metadata": {},
   "source": [
    "## Boreal Forests/Taiga"
   ]
  },
  {
   "cell_type": "code",
   "execution_count": 12,
   "id": "smart-bhutan",
   "metadata": {
    "scrolled": false
   },
   "outputs": [
    {
     "name": "stdout",
     "output_type": "stream",
     "text": [
      "[1] \"Boreal Forests/Taiga\"\n"
     ]
    },
    {
     "name": "stderr",
     "output_type": "stream",
     "text": [
      "Lowest BIC: 90565.93\n",
      "Number of clusters:2\n"
     ]
    },
    {
     "name": "stdout",
     "output_type": "stream",
     "text": [
      "2 90565.93 90564.52 \n",
      "2 90565.93 90564.52 \n",
      "2 90565.93 90564.52 \n"
     ]
    },
    {
     "name": "stderr",
     "output_type": "stream",
     "text": [
      "Warning message in points2grid(points, tolerance, round):\n",
      "\"grid has empty column/rows in dimension 1\""
     ]
    },
    {
     "name": "stdout",
     "output_type": "stream",
     "text": [
      "1 \n",
      "7 8 \n"
     ]
    },
    {
     "data": {
      "image/png": "[encoded data removed]",
      "text/plain": [
       "plot without title"
      ]
     },
     "metadata": {},
     "output_type": "display_data"
    },
    {
     "data": {
      "image/png": "[encoded data removed]",
      "text/plain": [
       "Plot with title \"Cluster 2\""
      ]
     },
     "metadata": {},
     "output_type": "display_data"
    }
   ],
   "source": [
    "b6 = biome.clustering(6)"
   ]
  },
  {
   "cell_type": "markdown",
   "id": "balanced-welding",
   "metadata": {},
   "source": [
    "## Tropical and Subtropical Grasslands, Savannas and Shrublands"
   ]
  },
  {
   "cell_type": "code",
   "execution_count": 13,
   "id": "explicit-comment",
   "metadata": {
    "scrolled": false
   },
   "outputs": [
    {
     "name": "stdout",
     "output_type": "stream",
     "text": [
      "[1] \"Tropical and Subtropical Grasslands, Savannas and Shrublands\"\n"
     ]
    },
    {
     "name": "stderr",
     "output_type": "stream",
     "text": [
      "Lowest BIC: 42551.13\n",
      "Number of clusters:6\n"
     ]
    },
    {
     "name": "stdout",
     "output_type": "stream",
     "text": [
      "6 42551.13 42543.34 \n",
      "6 42551.13 42543.34 \n",
      "6 42551.13 42543.34 \n"
     ]
    },
    {
     "name": "stderr",
     "output_type": "stream",
     "text": [
      "Warning message in points2grid(points, tolerance, round):\n",
      "\"grid has empty column/rows in dimension 1\"Warning message in points2grid(points, tolerance, round):\n",
      "\"grid has empty column/rows in dimension 2\""
     ]
    },
    {
     "name": "stdout",
     "output_type": "stream",
     "text": [
      "1 \n",
      "1 2 12 \n",
      "8 9 10 11 \n",
      "1 9 10 11 12 \n",
      "7 8 9 10 \n",
      "1 5 9 10 11 12 \n"
     ]
    },
    {
     "data": {
      "image/png": "[encoded data removed]",
      "text/plain": [
       "plot without title"
      ]
     },
     "metadata": {},
     "output_type": "display_data"
    },
    {
     "data": {
      "image/png": "[encoded data removed]",
      "text/plain": [
       "Plot with title \"Cluster 6\""
      ]
     },
     "metadata": {},
     "output_type": "display_data"
    }
   ],
   "source": [
    "b7 = biome.clustering(7)"
   ]
  },
  {
   "cell_type": "markdown",
   "id": "interracial-conflict",
   "metadata": {},
   "source": [
    "## Temperate Grasslands, Savannas and Shrublands"
   ]
  },
  {
   "cell_type": "code",
   "execution_count": 14,
   "id": "muslim-persian",
   "metadata": {
    "scrolled": false
   },
   "outputs": [
    {
     "name": "stdout",
     "output_type": "stream",
     "text": [
      "[1] \"Temperate Grasslands, Savannas and Shrublands\"\n"
     ]
    },
    {
     "name": "stderr",
     "output_type": "stream",
     "text": [
      "Lowest BIC: 41696.44\n",
      "Number of clusters:4\n"
     ]
    },
    {
     "name": "stdout",
     "output_type": "stream",
     "text": [
      "4 41696.44 41695.88 \n",
      "4 41696.44 41695.88 \n",
      "4 41696.44 41695.88 \n"
     ]
    },
    {
     "name": "stderr",
     "output_type": "stream",
     "text": [
      "Warning message in points2grid(points, tolerance, round):\n",
      "\"grid has empty column/rows in dimension 1\"Warning message in points2grid(points, tolerance, round):\n",
      "\"grid has empty column/rows in dimension 2\""
     ]
    },
    {
     "data": {
      "image/png": "[encoded data removed]",
      "text/plain": [
       "plot without title"
      ]
     },
     "metadata": {},
     "output_type": "display_data"
    },
    {
     "name": "stdout",
     "output_type": "stream",
     "text": [
      "4 5 8 9 10 \n",
      "1 \n",
      "1 \n",
      "7 8 9 10 \n"
     ]
    },
    {
     "data": {
      "image/png": "[encoded data removed]",
      "text/plain": [
       "Plot with title \"Cluster 4\""
      ]
     },
     "metadata": {},
     "output_type": "display_data"
    }
   ],
   "source": [
    "b8 = biome.clustering(8)"
   ]
  },
  {
   "cell_type": "markdown",
   "id": "approved-dispute",
   "metadata": {},
   "source": [
    "## Flooded Grasslands and Savannas"
   ]
  },
  {
   "cell_type": "code",
   "execution_count": 15,
   "id": "adaptive-diana",
   "metadata": {
    "scrolled": false
   },
   "outputs": [
    {
     "name": "stdout",
     "output_type": "stream",
     "text": [
      "[1] \"Flooded Grasslands and Savannas\"\n"
     ]
    },
    {
     "name": "stderr",
     "output_type": "stream",
     "text": [
      "Lowest BIC: 2484.83\n",
      "Number of clusters:9\n"
     ]
    },
    {
     "name": "stdout",
     "output_type": "stream",
     "text": [
      "9 2484.825 2484.825 \n",
      "9 2484.825 2484.825 \n",
      "9 2484.825 2484.825 \n"
     ]
    },
    {
     "name": "stderr",
     "output_type": "stream",
     "text": [
      "Lowest BIC: 2408.23\n",
      "Number of clusters:8\n"
     ]
    },
    {
     "name": "stdout",
     "output_type": "stream",
     "text": [
      "8 2408.234 2408.234 \n",
      "8 2408.234 2408.234 \n",
      "8 2408.234 2408.234 \n"
     ]
    },
    {
     "name": "stderr",
     "output_type": "stream",
     "text": [
      "Lowest BIC: 2401.04\n",
      "Number of clusters:2\n"
     ]
    },
    {
     "name": "stdout",
     "output_type": "stream",
     "text": [
      "2 2401.039 2401.039 \n",
      "2 2401.039 2401.039 \n",
      "2 2401.039 2401.039 \n"
     ]
    },
    {
     "name": "stderr",
     "output_type": "stream",
     "text": [
      "Warning message in points2grid(points, tolerance, round):\n",
      "\"grid has empty column/rows in dimension 1\"Warning message in points2grid(points, tolerance, round):\n",
      "\"grid topology may be corrupt in dimension 1\"Warning message in points2grid(points, tolerance, round):\n",
      "\"grid has empty column/rows in dimension 2\"Warning message in points2grid(points, tolerance, round):\n",
      "\"grid topology may be corrupt in dimension 2\""
     ]
    },
    {
     "name": "stdout",
     "output_type": "stream",
     "text": [
      "4 \n",
      "1 4 5 10 11 12 \n"
     ]
    },
    {
     "data": {
      "image/png": "[encoded data removed]",
      "text/plain": [
       "plot without title"
      ]
     },
     "metadata": {},
     "output_type": "display_data"
    },
    {
     "data": {
      "image/png": "[encoded data removed]",
      "text/plain": [
       "Plot with title \"Cluster 2\""
      ]
     },
     "metadata": {},
     "output_type": "display_data"
    }
   ],
   "source": [
    "b9 = biome.clustering(9)"
   ]
  },
  {
   "cell_type": "markdown",
   "id": "simplified-instruction",
   "metadata": {},
   "source": [
    "## Montane Grasslands and Shrublands"
   ]
  },
  {
   "cell_type": "code",
   "execution_count": 16,
   "id": "thousand-money",
   "metadata": {
    "scrolled": false
   },
   "outputs": [
    {
     "name": "stdout",
     "output_type": "stream",
     "text": [
      "[1] \"Montane Grasslands and Shrublands\"\n"
     ]
    },
    {
     "name": "stderr",
     "output_type": "stream",
     "text": [
      "Lowest BIC: 20924.06\n",
      "Number of clusters:2\n"
     ]
    },
    {
     "name": "stdout",
     "output_type": "stream",
     "text": [
      "2 20924.06 20924.06 \n",
      "2 20924.06 20924.06 \n",
      "2 20924.06 20924.06 \n"
     ]
    },
    {
     "name": "stderr",
     "output_type": "stream",
     "text": [
      "Warning message in points2grid(points, tolerance, round):\n",
      "\"grid has empty column/rows in dimension 1\"Warning message in points2grid(points, tolerance, round):\n",
      "\"grid has empty column/rows in dimension 2\""
     ]
    },
    {
     "name": "stdout",
     "output_type": "stream",
     "text": [
      "1 \n",
      "7 8 9 10 \n"
     ]
    },
    {
     "data": {
      "image/png": "[encoded data removed]",
      "text/plain": [
       "plot without title"
      ]
     },
     "metadata": {},
     "output_type": "display_data"
    },
    {
     "data": {
      "image/png": "[encoded data removed]",
      "text/plain": [
       "Plot with title \"Cluster 2\""
      ]
     },
     "metadata": {},
     "output_type": "display_data"
    }
   ],
   "source": [
    "b10 = biome.clustering(10)"
   ]
  },
  {
   "cell_type": "markdown",
   "id": "broad-commons",
   "metadata": {},
   "source": [
    "## Tundra"
   ]
  },
  {
   "cell_type": "code",
   "execution_count": 17,
   "id": "reserved-hardwood",
   "metadata": {
    "scrolled": false
   },
   "outputs": [
    {
     "name": "stdout",
     "output_type": "stream",
     "text": [
      "[1] \"Tundra\"\n"
     ]
    },
    {
     "name": "stderr",
     "output_type": "stream",
     "text": [
      "Lowest BIC: 130097.29\n",
      "Number of clusters:9\n"
     ]
    },
    {
     "name": "stdout",
     "output_type": "stream",
     "text": [
      "9 130097.3 130096.4 \n",
      "9 130097.3 130096.4 \n",
      "9 130097.3 130096.4 \n"
     ]
    },
    {
     "name": "stderr",
     "output_type": "stream",
     "text": [
      "Lowest BIC: 129543.55\n",
      "Number of clusters:8\n"
     ]
    },
    {
     "name": "stdout",
     "output_type": "stream",
     "text": [
      "8 129543.5 129540.4 \n",
      "8 129543.5 129540.4 \n",
      "8 129543.5 129540.4 \n"
     ]
    },
    {
     "name": "stderr",
     "output_type": "stream",
     "text": [
      "Lowest BIC: 128667.17\n",
      "Number of clusters:7\n"
     ]
    },
    {
     "name": "stdout",
     "output_type": "stream",
     "text": [
      "7 128667.2 128667 \n",
      "7 128667.2 128667 \n",
      "7 128667.2 128667 \n"
     ]
    },
    {
     "name": "stderr",
     "output_type": "stream",
     "text": [
      "Lowest BIC: 125110.89\n",
      "Number of clusters:6\n"
     ]
    },
    {
     "name": "stdout",
     "output_type": "stream",
     "text": [
      "6 125110.9 125110.5 \n",
      "6 125110.9 125110.5 \n",
      "6 125110.9 125110.5 \n"
     ]
    },
    {
     "name": "stderr",
     "output_type": "stream",
     "text": [
      "Lowest BIC: 124684.92\n",
      "Number of clusters:5\n"
     ]
    },
    {
     "name": "stdout",
     "output_type": "stream",
     "text": [
      "5 124684.9 124684.9 \n",
      "5 124684.9 124684.9 \n",
      "5 124684.9 124684.9 \n"
     ]
    },
    {
     "name": "stderr",
     "output_type": "stream",
     "text": [
      "Lowest BIC: 123015.7\n",
      "Number of clusters:4\n"
     ]
    },
    {
     "name": "stdout",
     "output_type": "stream",
     "text": [
      "4 123015.7 123015.7 \n",
      "4 123015.7 123015.7 \n",
      "4 123015.7 123015.7 \n"
     ]
    },
    {
     "name": "stderr",
     "output_type": "stream",
     "text": [
      "Lowest BIC: 120228.53\n",
      "Number of clusters:3\n"
     ]
    },
    {
     "name": "stdout",
     "output_type": "stream",
     "text": [
      "3 120228.5 120228.5 \n",
      "3 120228.5 120228.5 \n",
      "3 120228.5 120228.5 \n"
     ]
    },
    {
     "name": "stderr",
     "output_type": "stream",
     "text": [
      "Lowest BIC: 116729.81\n",
      "Number of clusters:2\n"
     ]
    },
    {
     "name": "stdout",
     "output_type": "stream",
     "text": [
      "2 116729.8 116729.7 \n",
      "2 116729.8 116729.7 \n",
      "2 116729.8 116729.7 \n"
     ]
    },
    {
     "name": "stderr",
     "output_type": "stream",
     "text": [
      "Warning message in points2grid(points, tolerance, round):\n",
      "\"grid has empty column/rows in dimension 1\"Warning message in points2grid(points, tolerance, round):\n",
      "\"grid has empty column/rows in dimension 2\""
     ]
    },
    {
     "name": "stdout",
     "output_type": "stream",
     "text": [
      "1 \n",
      "7 8 9 \n"
     ]
    },
    {
     "data": {
      "image/png": "[encoded data removed]",
      "text/plain": [
       "plot without title"
      ]
     },
     "metadata": {},
     "output_type": "display_data"
    },
    {
     "data": {
      "image/png": "[encoded data removed]",
      "text/plain": [
       "Plot with title \"Cluster 2\""
      ]
     },
     "metadata": {},
     "output_type": "display_data"
    }
   ],
   "source": [
    "b11 = biome.clustering(11)"
   ]
  },
  {
   "cell_type": "markdown",
   "id": "integral-absolute",
   "metadata": {},
   "source": [
    "## Meditarranean Forests, Woodlands and Scrub"
   ]
  },
  {
   "cell_type": "code",
   "execution_count": 18,
   "id": "efficient-screen",
   "metadata": {
    "scrolled": false
   },
   "outputs": [
    {
     "name": "stdout",
     "output_type": "stream",
     "text": [
      "[1] \"Meditarranean Forests, Woodlands and Scrub\"\n"
     ]
    },
    {
     "name": "stderr",
     "output_type": "stream",
     "text": [
      "Lowest BIC: 12442.9\n",
      "Number of clusters:2\n"
     ]
    },
    {
     "name": "stdout",
     "output_type": "stream",
     "text": [
      "2 12442.9 12442.9 \n",
      "2 12442.9 12442.9 \n",
      "2 12442.9 12442.9 \n"
     ]
    },
    {
     "name": "stderr",
     "output_type": "stream",
     "text": [
      "Warning message in points2grid(points, tolerance, round):\n",
      "\"grid has empty column/rows in dimension 1\"Warning message in points2grid(points, tolerance, round):\n",
      "\"grid topology may be corrupt in dimension 1\"Warning message in points2grid(points, tolerance, round):\n",
      "\"grid has empty column/rows in dimension 2\""
     ]
    },
    {
     "name": "stdout",
     "output_type": "stream",
     "text": [
      "1 \n",
      "1 4 5 12 \n"
     ]
    },
    {
     "data": {
      "image/png": "[encoded data removed]",
      "text/plain": [
       "plot without title"
      ]
     },
     "metadata": {},
     "output_type": "display_data"
    },
    {
     "data": {
      "image/png": "[encoded data removed]",
      "text/plain": [
       "Plot with title \"Cluster 2\""
      ]
     },
     "metadata": {},
     "output_type": "display_data"
    }
   ],
   "source": [
    "b12 = biome.clustering(12)"
   ]
  },
  {
   "cell_type": "markdown",
   "id": "medieval-river",
   "metadata": {},
   "source": [
    "## Desert and Xeric Shrublands"
   ]
  },
  {
   "cell_type": "code",
   "execution_count": 19,
   "id": "tribal-lunch",
   "metadata": {
    "scrolled": false
   },
   "outputs": [
    {
     "name": "stdout",
     "output_type": "stream",
     "text": [
      "[1] \"Desert and Xeric Shrublands\"\n"
     ]
    },
    {
     "name": "stderr",
     "output_type": "stream",
     "text": [
      "Lowest BIC: 87407.2\n",
      "Number of clusters:6\n"
     ]
    },
    {
     "name": "stdout",
     "output_type": "stream",
     "text": [
      "6 87407.2 86616.65 \n",
      "6 87407.2 86616.65 \n",
      "6 87407.2 86616.65 \n"
     ]
    },
    {
     "name": "stderr",
     "output_type": "stream",
     "text": [
      "Warning message in points2grid(points, tolerance, round):\n",
      "\"grid has empty column/rows in dimension 1\"Warning message in points2grid(points, tolerance, round):\n",
      "\"grid has empty column/rows in dimension 2\""
     ]
    },
    {
     "name": "stdout",
     "output_type": "stream",
     "text": [
      "1 \n",
      "9 10 11 \n",
      "10 11 12 \n",
      "1 10 11 12 \n",
      "1 \n",
      "9 10 11 12 \n"
     ]
    },
    {
     "data": {
      "image/png": "[encoded data removed]",
      "text/plain": [
       "plot without title"
      ]
     },
     "metadata": {},
     "output_type": "display_data"
    },
    {
     "data": {
      "image/png": "[encoded data removed]",
      "text/plain": [
       "Plot with title \"Cluster 6\""
      ]
     },
     "metadata": {},
     "output_type": "display_data"
    }
   ],
   "source": [
    "b13 = biome.clustering(13)"
   ]
  },
  {
   "cell_type": "code",
   "execution_count": 43,
   "id": "seeing-daughter",
   "metadata": {},
   "outputs": [
    {
     "data": {
      "text/html": [
       "<ol>\n",
       "\t<li><ol>\n",
       "\t<li>3</li>\n",
       "\t<li><ol class=list-inline>\n",
       "\t<li>2</li>\n",
       "\t<li>3</li>\n",
       "\t<li>4</li>\n",
       "\t<li>8</li>\n",
       "\t<li>9</li>\n",
       "\t<li>10</li>\n",
       "</ol>\n",
       "</li>\n",
       "\t<li>1</li>\n",
       "</ol>\n",
       "</li>\n",
       "\t<li><ol>\n",
       "\t<li><ol class=list-inline>\n",
       "\t<li>5</li>\n",
       "\t<li>6</li>\n",
       "\t<li>7</li>\n",
       "\t<li>8</li>\n",
       "\t<li>9</li>\n",
       "\t<li>10</li>\n",
       "\t<li>11</li>\n",
       "</ol>\n",
       "</li>\n",
       "\t<li><ol class=list-inline>\n",
       "\t<li>2</li>\n",
       "\t<li>3</li>\n",
       "\t<li>4</li>\n",
       "</ol>\n",
       "</li>\n",
       "\t<li>1</li>\n",
       "</ol>\n",
       "</li>\n",
       "\t<li><ol>\n",
       "\t<li><ol class=list-inline>\n",
       "\t<li>4</li>\n",
       "\t<li>5</li>\n",
       "\t<li>6</li>\n",
       "</ol>\n",
       "</li>\n",
       "\t<li><ol class=list-inline>\n",
       "\t<li>2</li>\n",
       "\t<li>4</li>\n",
       "\t<li>5</li>\n",
       "</ol>\n",
       "</li>\n",
       "</ol>\n",
       "</li>\n",
       "\t<li><ol>\n",
       "\t<li>1</li>\n",
       "\t<li><ol class=list-inline>\n",
       "\t<li>6</li>\n",
       "\t<li>7</li>\n",
       "\t<li>10</li>\n",
       "\t<li>12</li>\n",
       "</ol>\n",
       "</li>\n",
       "\t<li><ol class=list-inline>\n",
       "\t<li>1</li>\n",
       "\t<li>2</li>\n",
       "\t<li>3</li>\n",
       "</ol>\n",
       "</li>\n",
       "</ol>\n",
       "</li>\n",
       "\t<li><ol>\n",
       "\t<li>1</li>\n",
       "\t<li>1</li>\n",
       "</ol>\n",
       "</li>\n",
       "\t<li><ol>\n",
       "\t<li>1</li>\n",
       "\t<li><ol class=list-inline>\n",
       "\t<li>7</li>\n",
       "\t<li>8</li>\n",
       "</ol>\n",
       "</li>\n",
       "</ol>\n",
       "</li>\n",
       "\t<li><ol>\n",
       "\t<li>1</li>\n",
       "\t<li><ol class=list-inline>\n",
       "\t<li>1</li>\n",
       "\t<li>2</li>\n",
       "\t<li>12</li>\n",
       "</ol>\n",
       "</li>\n",
       "\t<li><ol class=list-inline>\n",
       "\t<li>8</li>\n",
       "\t<li>9</li>\n",
       "\t<li>10</li>\n",
       "\t<li>11</li>\n",
       "</ol>\n",
       "</li>\n",
       "\t<li><ol class=list-inline>\n",
       "\t<li>1</li>\n",
       "\t<li>9</li>\n",
       "\t<li>10</li>\n",
       "\t<li>11</li>\n",
       "\t<li>12</li>\n",
       "</ol>\n",
       "</li>\n",
       "\t<li><ol class=list-inline>\n",
       "\t<li>7</li>\n",
       "\t<li>8</li>\n",
       "\t<li>9</li>\n",
       "\t<li>10</li>\n",
       "</ol>\n",
       "</li>\n",
       "\t<li><ol class=list-inline>\n",
       "\t<li>1</li>\n",
       "\t<li>5</li>\n",
       "\t<li>9</li>\n",
       "\t<li>10</li>\n",
       "\t<li>11</li>\n",
       "\t<li>12</li>\n",
       "</ol>\n",
       "</li>\n",
       "</ol>\n",
       "</li>\n",
       "\t<li><ol>\n",
       "\t<li><ol class=list-inline>\n",
       "\t<li>4</li>\n",
       "\t<li>5</li>\n",
       "\t<li>8</li>\n",
       "\t<li>9</li>\n",
       "\t<li>10</li>\n",
       "</ol>\n",
       "</li>\n",
       "\t<li>1</li>\n",
       "\t<li>1</li>\n",
       "\t<li><ol class=list-inline>\n",
       "\t<li>7</li>\n",
       "\t<li>8</li>\n",
       "\t<li>9</li>\n",
       "\t<li>10</li>\n",
       "</ol>\n",
       "</li>\n",
       "</ol>\n",
       "</li>\n",
       "\t<li><ol>\n",
       "\t<li>4</li>\n",
       "\t<li><ol class=list-inline>\n",
       "\t<li>1</li>\n",
       "\t<li>4</li>\n",
       "\t<li>5</li>\n",
       "\t<li>10</li>\n",
       "\t<li>11</li>\n",
       "\t<li>12</li>\n",
       "</ol>\n",
       "</li>\n",
       "</ol>\n",
       "</li>\n",
       "\t<li><ol>\n",
       "\t<li>1</li>\n",
       "\t<li><ol class=list-inline>\n",
       "\t<li>7</li>\n",
       "\t<li>8</li>\n",
       "\t<li>9</li>\n",
       "\t<li>10</li>\n",
       "</ol>\n",
       "</li>\n",
       "</ol>\n",
       "</li>\n",
       "\t<li><ol>\n",
       "\t<li>1</li>\n",
       "\t<li><ol class=list-inline>\n",
       "\t<li>7</li>\n",
       "\t<li>8</li>\n",
       "\t<li>9</li>\n",
       "</ol>\n",
       "</li>\n",
       "</ol>\n",
       "</li>\n",
       "\t<li><ol>\n",
       "\t<li>1</li>\n",
       "\t<li><ol class=list-inline>\n",
       "\t<li>1</li>\n",
       "\t<li>4</li>\n",
       "\t<li>5</li>\n",
       "\t<li>12</li>\n",
       "</ol>\n",
       "</li>\n",
       "</ol>\n",
       "</li>\n",
       "\t<li><ol>\n",
       "\t<li>1</li>\n",
       "\t<li><ol class=list-inline>\n",
       "\t<li>9</li>\n",
       "\t<li>10</li>\n",
       "\t<li>11</li>\n",
       "</ol>\n",
       "</li>\n",
       "\t<li><ol class=list-inline>\n",
       "\t<li>10</li>\n",
       "\t<li>11</li>\n",
       "\t<li>12</li>\n",
       "</ol>\n",
       "</li>\n",
       "\t<li><ol class=list-inline>\n",
       "\t<li>1</li>\n",
       "\t<li>10</li>\n",
       "\t<li>11</li>\n",
       "\t<li>12</li>\n",
       "</ol>\n",
       "</li>\n",
       "\t<li>1</li>\n",
       "\t<li><ol class=list-inline>\n",
       "\t<li>9</li>\n",
       "\t<li>10</li>\n",
       "\t<li>11</li>\n",
       "\t<li>12</li>\n",
       "</ol>\n",
       "</li>\n",
       "</ol>\n",
       "</li>\n",
       "</ol>\n"
      ],
      "text/latex": [
       "\\begin{enumerate}\n",
       "\\item \\begin{enumerate}\n",
       "\\item 3\n",
       "\\item \\begin{enumerate*}\n",
       "\\item 2\n",
       "\\item 3\n",
       "\\item 4\n",
       "\\item 8\n",
       "\\item 9\n",
       "\\item 10\n",
       "\\end{enumerate*}\n",
       "\n",
       "\\item 1\n",
       "\\end{enumerate}\n",
       "\n",
       "\\item \\begin{enumerate}\n",
       "\\item \\begin{enumerate*}\n",
       "\\item 5\n",
       "\\item 6\n",
       "\\item 7\n",
       "\\item 8\n",
       "\\item 9\n",
       "\\item 10\n",
       "\\item 11\n",
       "\\end{enumerate*}\n",
       "\n",
       "\\item \\begin{enumerate*}\n",
       "\\item 2\n",
       "\\item 3\n",
       "\\item 4\n",
       "\\end{enumerate*}\n",
       "\n",
       "\\item 1\n",
       "\\end{enumerate}\n",
       "\n",
       "\\item \\begin{enumerate}\n",
       "\\item \\begin{enumerate*}\n",
       "\\item 4\n",
       "\\item 5\n",
       "\\item 6\n",
       "\\end{enumerate*}\n",
       "\n",
       "\\item \\begin{enumerate*}\n",
       "\\item 2\n",
       "\\item 4\n",
       "\\item 5\n",
       "\\end{enumerate*}\n",
       "\n",
       "\\end{enumerate}\n",
       "\n",
       "\\item \\begin{enumerate}\n",
       "\\item 1\n",
       "\\item \\begin{enumerate*}\n",
       "\\item 6\n",
       "\\item 7\n",
       "\\item 10\n",
       "\\item 12\n",
       "\\end{enumerate*}\n",
       "\n",
       "\\item \\begin{enumerate*}\n",
       "\\item 1\n",
       "\\item 2\n",
       "\\item 3\n",
       "\\end{enumerate*}\n",
       "\n",
       "\\end{enumerate}\n",
       "\n",
       "\\item \\begin{enumerate}\n",
       "\\item 1\n",
       "\\item 1\n",
       "\\end{enumerate}\n",
       "\n",
       "\\item \\begin{enumerate}\n",
       "\\item 1\n",
       "\\item \\begin{enumerate*}\n",
       "\\item 7\n",
       "\\item 8\n",
       "\\end{enumerate*}\n",
       "\n",
       "\\end{enumerate}\n",
       "\n",
       "\\item \\begin{enumerate}\n",
       "\\item 1\n",
       "\\item \\begin{enumerate*}\n",
       "\\item 1\n",
       "\\item 2\n",
       "\\item 12\n",
       "\\end{enumerate*}\n",
       "\n",
       "\\item \\begin{enumerate*}\n",
       "\\item 8\n",
       "\\item 9\n",
       "\\item 10\n",
       "\\item 11\n",
       "\\end{enumerate*}\n",
       "\n",
       "\\item \\begin{enumerate*}\n",
       "\\item 1\n",
       "\\item 9\n",
       "\\item 10\n",
       "\\item 11\n",
       "\\item 12\n",
       "\\end{enumerate*}\n",
       "\n",
       "\\item \\begin{enumerate*}\n",
       "\\item 7\n",
       "\\item 8\n",
       "\\item 9\n",
       "\\item 10\n",
       "\\end{enumerate*}\n",
       "\n",
       "\\item \\begin{enumerate*}\n",
       "\\item 1\n",
       "\\item 5\n",
       "\\item 9\n",
       "\\item 10\n",
       "\\item 11\n",
       "\\item 12\n",
       "\\end{enumerate*}\n",
       "\n",
       "\\end{enumerate}\n",
       "\n",
       "\\item \\begin{enumerate}\n",
       "\\item \\begin{enumerate*}\n",
       "\\item 4\n",
       "\\item 5\n",
       "\\item 8\n",
       "\\item 9\n",
       "\\item 10\n",
       "\\end{enumerate*}\n",
       "\n",
       "\\item 1\n",
       "\\item 1\n",
       "\\item \\begin{enumerate*}\n",
       "\\item 7\n",
       "\\item 8\n",
       "\\item 9\n",
       "\\item 10\n",
       "\\end{enumerate*}\n",
       "\n",
       "\\end{enumerate}\n",
       "\n",
       "\\item \\begin{enumerate}\n",
       "\\item 4\n",
       "\\item \\begin{enumerate*}\n",
       "\\item 1\n",
       "\\item 4\n",
       "\\item 5\n",
       "\\item 10\n",
       "\\item 11\n",
       "\\item 12\n",
       "\\end{enumerate*}\n",
       "\n",
       "\\end{enumerate}\n",
       "\n",
       "\\item \\begin{enumerate}\n",
       "\\item 1\n",
       "\\item \\begin{enumerate*}\n",
       "\\item 7\n",
       "\\item 8\n",
       "\\item 9\n",
       "\\item 10\n",
       "\\end{enumerate*}\n",
       "\n",
       "\\end{enumerate}\n",
       "\n",
       "\\item \\begin{enumerate}\n",
       "\\item 1\n",
       "\\item \\begin{enumerate*}\n",
       "\\item 7\n",
       "\\item 8\n",
       "\\item 9\n",
       "\\end{enumerate*}\n",
       "\n",
       "\\end{enumerate}\n",
       "\n",
       "\\item \\begin{enumerate}\n",
       "\\item 1\n",
       "\\item \\begin{enumerate*}\n",
       "\\item 1\n",
       "\\item 4\n",
       "\\item 5\n",
       "\\item 12\n",
       "\\end{enumerate*}\n",
       "\n",
       "\\end{enumerate}\n",
       "\n",
       "\\item \\begin{enumerate}\n",
       "\\item 1\n",
       "\\item \\begin{enumerate*}\n",
       "\\item 9\n",
       "\\item 10\n",
       "\\item 11\n",
       "\\end{enumerate*}\n",
       "\n",
       "\\item \\begin{enumerate*}\n",
       "\\item 10\n",
       "\\item 11\n",
       "\\item 12\n",
       "\\end{enumerate*}\n",
       "\n",
       "\\item \\begin{enumerate*}\n",
       "\\item 1\n",
       "\\item 10\n",
       "\\item 11\n",
       "\\item 12\n",
       "\\end{enumerate*}\n",
       "\n",
       "\\item 1\n",
       "\\item \\begin{enumerate*}\n",
       "\\item 9\n",
       "\\item 10\n",
       "\\item 11\n",
       "\\item 12\n",
       "\\end{enumerate*}\n",
       "\n",
       "\\end{enumerate}\n",
       "\n",
       "\\end{enumerate}\n"
      ],
      "text/markdown": [
       "1. 1. 3\n",
       "2. 1. 2\n",
       "2. 3\n",
       "3. 4\n",
       "4. 8\n",
       "5. 9\n",
       "6. 10\n",
       "\n",
       "\n",
       "\n",
       "3. 1\n",
       "\n",
       "\n",
       "\n",
       "2. 1. 1. 5\n",
       "2. 6\n",
       "3. 7\n",
       "4. 8\n",
       "5. 9\n",
       "6. 10\n",
       "7. 11\n",
       "\n",
       "\n",
       "\n",
       "2. 1. 2\n",
       "2. 3\n",
       "3. 4\n",
       "\n",
       "\n",
       "\n",
       "3. 1\n",
       "\n",
       "\n",
       "\n",
       "3. 1. 1. 4\n",
       "2. 5\n",
       "3. 6\n",
       "\n",
       "\n",
       "\n",
       "2. 1. 2\n",
       "2. 4\n",
       "3. 5\n",
       "\n",
       "\n",
       "\n",
       "\n",
       "\n",
       "\n",
       "4. 1. 1\n",
       "2. 1. 6\n",
       "2. 7\n",
       "3. 10\n",
       "4. 12\n",
       "\n",
       "\n",
       "\n",
       "3. 1. 1\n",
       "2. 2\n",
       "3. 3\n",
       "\n",
       "\n",
       "\n",
       "\n",
       "\n",
       "\n",
       "5. 1. 1\n",
       "2. 1\n",
       "\n",
       "\n",
       "\n",
       "6. 1. 1\n",
       "2. 1. 7\n",
       "2. 8\n",
       "\n",
       "\n",
       "\n",
       "\n",
       "\n",
       "\n",
       "7. 1. 1\n",
       "2. 1. 1\n",
       "2. 2\n",
       "3. 12\n",
       "\n",
       "\n",
       "\n",
       "3. 1. 8\n",
       "2. 9\n",
       "3. 10\n",
       "4. 11\n",
       "\n",
       "\n",
       "\n",
       "4. 1. 1\n",
       "2. 9\n",
       "3. 10\n",
       "4. 11\n",
       "5. 12\n",
       "\n",
       "\n",
       "\n",
       "5. 1. 7\n",
       "2. 8\n",
       "3. 9\n",
       "4. 10\n",
       "\n",
       "\n",
       "\n",
       "6. 1. 1\n",
       "2. 5\n",
       "3. 9\n",
       "4. 10\n",
       "5. 11\n",
       "6. 12\n",
       "\n",
       "\n",
       "\n",
       "\n",
       "\n",
       "\n",
       "8. 1. 1. 4\n",
       "2. 5\n",
       "3. 8\n",
       "4. 9\n",
       "5. 10\n",
       "\n",
       "\n",
       "\n",
       "2. 1\n",
       "3. 1\n",
       "4. 1. 7\n",
       "2. 8\n",
       "3. 9\n",
       "4. 10\n",
       "\n",
       "\n",
       "\n",
       "\n",
       "\n",
       "\n",
       "9. 1. 4\n",
       "2. 1. 1\n",
       "2. 4\n",
       "3. 5\n",
       "4. 10\n",
       "5. 11\n",
       "6. 12\n",
       "\n",
       "\n",
       "\n",
       "\n",
       "\n",
       "\n",
       "10. 1. 1\n",
       "2. 1. 7\n",
       "2. 8\n",
       "3. 9\n",
       "4. 10\n",
       "\n",
       "\n",
       "\n",
       "\n",
       "\n",
       "\n",
       "11. 1. 1\n",
       "2. 1. 7\n",
       "2. 8\n",
       "3. 9\n",
       "\n",
       "\n",
       "\n",
       "\n",
       "\n",
       "\n",
       "12. 1. 1\n",
       "2. 1. 1\n",
       "2. 4\n",
       "3. 5\n",
       "4. 12\n",
       "\n",
       "\n",
       "\n",
       "\n",
       "\n",
       "\n",
       "13. 1. 1\n",
       "2. 1. 9\n",
       "2. 10\n",
       "3. 11\n",
       "\n",
       "\n",
       "\n",
       "3. 1. 10\n",
       "2. 11\n",
       "3. 12\n",
       "\n",
       "\n",
       "\n",
       "4. 1. 1\n",
       "2. 10\n",
       "3. 11\n",
       "4. 12\n",
       "\n",
       "\n",
       "\n",
       "5. 1\n",
       "6. 1. 9\n",
       "2. 10\n",
       "3. 11\n",
       "4. 12\n",
       "\n",
       "\n",
       "\n",
       "\n",
       "\n",
       "\n",
       "\n",
       "\n"
      ],
      "text/plain": [
       "[[1]]\n",
       "[[1]][[1]]\n",
       "[1] 3\n",
       "\n",
       "[[1]][[2]]\n",
       "[1]  2  3  4  8  9 10\n",
       "\n",
       "[[1]][[3]]\n",
       "[1] 1\n",
       "\n",
       "\n",
       "[[2]]\n",
       "[[2]][[1]]\n",
       "[1]  5  6  7  8  9 10 11\n",
       "\n",
       "[[2]][[2]]\n",
       "[1] 2 3 4\n",
       "\n",
       "[[2]][[3]]\n",
       "[1] 1\n",
       "\n",
       "\n",
       "[[3]]\n",
       "[[3]][[1]]\n",
       "[1] 4 5 6\n",
       "\n",
       "[[3]][[2]]\n",
       "[1] 2 4 5\n",
       "\n",
       "\n",
       "[[4]]\n",
       "[[4]][[1]]\n",
       "[1] 1\n",
       "\n",
       "[[4]][[2]]\n",
       "[1]  6  7 10 12\n",
       "\n",
       "[[4]][[3]]\n",
       "[1] 1 2 3\n",
       "\n",
       "\n",
       "[[5]]\n",
       "[[5]][[1]]\n",
       "[1] 1\n",
       "\n",
       "[[5]][[2]]\n",
       "[1] 1\n",
       "\n",
       "\n",
       "[[6]]\n",
       "[[6]][[1]]\n",
       "[1] 1\n",
       "\n",
       "[[6]][[2]]\n",
       "[1] 7 8\n",
       "\n",
       "\n",
       "[[7]]\n",
       "[[7]][[1]]\n",
       "[1] 1\n",
       "\n",
       "[[7]][[2]]\n",
       "[1]  1  2 12\n",
       "\n",
       "[[7]][[3]]\n",
       "[1]  8  9 10 11\n",
       "\n",
       "[[7]][[4]]\n",
       "[1]  1  9 10 11 12\n",
       "\n",
       "[[7]][[5]]\n",
       "[1]  7  8  9 10\n",
       "\n",
       "[[7]][[6]]\n",
       "[1]  1  5  9 10 11 12\n",
       "\n",
       "\n",
       "[[8]]\n",
       "[[8]][[1]]\n",
       "[1]  4  5  8  9 10\n",
       "\n",
       "[[8]][[2]]\n",
       "[1] 1\n",
       "\n",
       "[[8]][[3]]\n",
       "[1] 1\n",
       "\n",
       "[[8]][[4]]\n",
       "[1]  7  8  9 10\n",
       "\n",
       "\n",
       "[[9]]\n",
       "[[9]][[1]]\n",
       "[1] 4\n",
       "\n",
       "[[9]][[2]]\n",
       "[1]  1  4  5 10 11 12\n",
       "\n",
       "\n",
       "[[10]]\n",
       "[[10]][[1]]\n",
       "[1] 1\n",
       "\n",
       "[[10]][[2]]\n",
       "[1]  7  8  9 10\n",
       "\n",
       "\n",
       "[[11]]\n",
       "[[11]][[1]]\n",
       "[1] 1\n",
       "\n",
       "[[11]][[2]]\n",
       "[1] 7 8 9\n",
       "\n",
       "\n",
       "[[12]]\n",
       "[[12]][[1]]\n",
       "[1] 1\n",
       "\n",
       "[[12]][[2]]\n",
       "[1]  1  4  5 12\n",
       "\n",
       "\n",
       "[[13]]\n",
       "[[13]][[1]]\n",
       "[1] 1\n",
       "\n",
       "[[13]][[2]]\n",
       "[1]  9 10 11\n",
       "\n",
       "[[13]][[3]]\n",
       "[1] 10 11 12\n",
       "\n",
       "[[13]][[4]]\n",
       "[1]  1 10 11 12\n",
       "\n",
       "[[13]][[5]]\n",
       "[1] 1\n",
       "\n",
       "[[13]][[6]]\n",
       "[1]  9 10 11 12\n",
       "\n"
      ]
     },
     "metadata": {},
     "output_type": "display_data"
    }
   ],
   "source": [
    "fireSeasons"
   ]
  }
 ],
 "metadata": {
  "kernelspec": {
   "display_name": "R",
   "language": "R",
   "name": "ir"
  },
  "language_info": {
   "codemirror_mode": "r",
   "file_extension": ".r",
   "mimetype": "text/x-r-source",
   "name": "R",
   "pygments_lexer": "r",
   "version": "3.6.1"
  }
 },
 "nbformat": 4,
 "nbformat_minor": 5
}
