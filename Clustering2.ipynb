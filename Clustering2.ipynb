{
 "cells": [
  {
   "cell_type": "markdown",
   "id": "marked-africa",
   "metadata": {},
   "source": [
    "**Segundo análisis del clustering de fire seasons a nivel global**"
   ]
  },
  {
   "cell_type": "code",
   "execution_count": 2,
   "id": "homeless-surfing",
   "metadata": {},
   "outputs": [
    {
     "name": "stdout",
     "output_type": "stream",
     "text": [
      "Loading objects:\n",
      "  df\n",
      "  coords\n"
     ]
    }
   ],
   "source": [
    "# Cargamos los datos\n",
    "load(\"ba_data.Rdata\", verbose = TRUE)"
   ]
  },
  {
   "cell_type": "code",
   "execution_count": 3,
   "id": "korean-animal",
   "metadata": {},
   "outputs": [
    {
     "data": {
      "text/html": [
       "19554696"
      ],
      "text/latex": [
       "19554696"
      ],
      "text/markdown": [
       "19554696"
      ],
      "text/plain": [
       "[1] 19554696"
      ]
     },
     "metadata": {},
     "output_type": "display_data"
    }
   ],
   "source": [
    "# Localizamos los NAs\n",
    "naind <- which(is.na(df), arr.ind = TRUE)\n",
    "length(naind)"
   ]
  },
  {
   "cell_type": "code",
   "execution_count": 4,
   "id": "accepted-slave",
   "metadata": {},
   "outputs": [
    {
     "data": {
      "text/plain": [
       " Jan_burned_area  Feb_burned_area  Mar_burned_area  Apr_burned_area \n",
       " Min.   : 0.0     Min.   : 0.0     Min.   : 0.0     Min.   :0.0     \n",
       " 1st Qu.: 0.0     1st Qu.: 0.0     1st Qu.: 0.0     1st Qu.:0.0     \n",
       " Median : 0.0     Median : 0.0     Median : 0.0     Median :0.0     \n",
       " Mean   : 0.7     Mean   : 0.6     Mean   : 0.8     Mean   :0.9     \n",
       " 3rd Qu.: 0.0     3rd Qu.: 0.0     3rd Qu.: 0.0     3rd Qu.:0.0     \n",
       " Max.   :10.9     Max.   :10.5     Max.   :10.6     Max.   :9.9     \n",
       " NA's   :814779   NA's   :814779   NA's   :814779   NA's   :814779  \n",
       " May_burned_area  Jun_burned_area  Jul_burned_area  Aug_burned_area \n",
       " Min.   : 0.0     Min.   : 0.0     Min.   : 0.0     Min.   : 0.0    \n",
       " 1st Qu.: 0.0     1st Qu.: 0.0     1st Qu.: 0.0     1st Qu.: 0.0    \n",
       " Median : 0.0     Median : 0.0     Median : 0.0     Median : 0.0    \n",
       " Mean   : 0.9     Mean   : 0.9     Mean   : 1.2     Mean   : 1.4    \n",
       " 3rd Qu.: 0.0     3rd Qu.: 0.0     3rd Qu.: 1.6     3rd Qu.: 2.2    \n",
       " Max.   :10.4     Max.   :10.7     Max.   :10.9     Max.   :10.7    \n",
       " NA's   :814779   NA's   :814779   NA's   :814779   NA's   :814779  \n",
       " Sep_burned_area  Oct_burned_area  Nov_burned_area  Dec_burned_area \n",
       " Min.   : 0.0     Min.   : 0.0     Min.   : 0.0     Min.   : 0.0    \n",
       " 1st Qu.: 0.0     1st Qu.: 0.0     1st Qu.: 0.0     1st Qu.: 0.0    \n",
       " Median : 0.0     Median : 0.0     Median : 0.0     Median : 0.0    \n",
       " Mean   : 1.2     Mean   : 1.2     Mean   : 0.9     Mean   : 0.7    \n",
       " 3rd Qu.: 1.3     3rd Qu.: 0.8     3rd Qu.: 0.0     3rd Qu.: 0.0    \n",
       " Max.   :10.9     Max.   :10.2     Max.   :10.9     Max.   :11.0    \n",
       " NA's   :814779   NA's   :814779   NA's   :814779   NA's   :814779  "
      ]
     },
     "metadata": {},
     "output_type": "display_data"
    }
   ],
   "source": [
    "# Datos logarítmicos\n",
    "df.log = log1p(df)\n",
    "summary(df.log)"
   ]
  },
  {
   "cell_type": "code",
   "execution_count": 6,
   "id": "acceptable-preference",
   "metadata": {},
   "outputs": [
    {
     "data": {
      "text/plain": [
       " Jan_burned_area   Feb_burned_area   Mar_burned_area   Apr_burned_area  \n",
       " Min.   :    0.0   Min.   :    0.0   Min.   :    0.0   Min.   :    0.0  \n",
       " 1st Qu.:    0.0   1st Qu.:    0.0   1st Qu.:    0.0   1st Qu.:    0.0  \n",
       " Median :    0.0   Median :    0.0   Median :    0.0   Median :    0.0  \n",
       " Mean   :  229.6   Mean   :   95.2   Mean   :   60.6   Mean   :   71.1  \n",
       " 3rd Qu.:    0.0   3rd Qu.:    0.0   3rd Qu.:    0.0   3rd Qu.:    0.0  \n",
       " Max.   :56517.3   Max.   :34960.4   Max.   :42171.4   Max.   :19675.4  \n",
       " NA's   :814779    NA's   :814779    NA's   :814779    NA's   :814779   \n",
       " May_burned_area   Jun_burned_area   Jul_burned_area   Aug_burned_area  \n",
       " Min.   :    0.0   Min.   :    0.0   Min.   :    0.0   Min.   :    0.0  \n",
       " 1st Qu.:    0.0   1st Qu.:    0.0   1st Qu.:    0.0   1st Qu.:    0.0  \n",
       " Median :    0.0   Median :    0.0   Median :    0.0   Median :    0.0  \n",
       " Mean   :   97.1   Mean   :  167.3   Mean   :  247.2   Mean   :  280.2  \n",
       " 3rd Qu.:    0.0   3rd Qu.:    0.0   3rd Qu.:    4.0   3rd Qu.:    7.9  \n",
       " Max.   :31848.9   Max.   :44511.5   Max.   :55851.9   Max.   :43540.1  \n",
       " NA's   :814779    NA's   :814779    NA's   :814779    NA's   :814779   \n",
       " Sep_burned_area   Oct_burned_area   Nov_burned_area   Dec_burned_area  \n",
       " Min.   :    0.0   Min.   :    0.0   Min.   :    0.0   Min.   :    0.0  \n",
       " 1st Qu.:    0.0   1st Qu.:    0.0   1st Qu.:    0.0   1st Qu.:    0.0  \n",
       " Median :    0.0   Median :    0.0   Median :    0.0   Median :    0.0  \n",
       " Mean   :  236.4   Mean   :  145.7   Mean   :  176.8   Mean   :  256.9  \n",
       " 3rd Qu.:    2.8   3rd Qu.:    1.1   3rd Qu.:    0.0   3rd Qu.:    0.0  \n",
       " Max.   :55327.4   Max.   :26513.5   Max.   :56748.7   Max.   :57847.1  \n",
       " NA's   :814779    NA's   :814779    NA's   :814779    NA's   :814779   "
      ]
     },
     "metadata": {},
     "output_type": "display_data"
    }
   ],
   "source": [
    "summary(df)"
   ]
  },
  {
   "cell_type": "code",
   "execution_count": 5,
   "id": "trained-lincoln",
   "metadata": {},
   "outputs": [
    {
     "name": "stderr",
     "output_type": "stream",
     "text": [
      "Warning message:\n",
      "\"package 'mclust' was built under R version 3.6.3\"Package 'mclust' version 5.4.7\n",
      "Type 'citation(\"mclust\")' for citing this R package in publications.\n",
      "Loading required package: sp\n",
      "Warning message:\n",
      "\"package 'sp' was built under R version 3.6.3\"Loading required package: magrittr\n",
      "Warning message:\n",
      "\"package 'magrittr' was built under R version 3.6.3\""
     ]
    }
   ],
   "source": [
    "# Algunas librerías a usar\n",
    "library(\"mclust\")\n",
    "require(sp)\n",
    "require(magrittr)"
   ]
  },
  {
   "cell_type": "markdown",
   "id": "incorrect-beast",
   "metadata": {},
   "source": [
    "# K-means\n",
    "\n",
    "Análisis exploratorio utilizando k-means"
   ]
  },
  {
   "cell_type": "code",
   "execution_count": 8,
   "id": "separated-contribution",
   "metadata": {},
   "outputs": [],
   "source": [
    "# Búsqueda del k óptimo\n",
    "\n",
    "#' @title Best k-means model selection\n",
    "#' @description Creates one k-means model for each value of k between 1 and K and plot their between clusters sum of squares and\n",
    "#               their within cluster sum of squares\n",
    "#' @param data Data frame\n",
    "#' @param K number of groups\n",
    "#' @param n.inits Number of initializations. Default to 10\n",
    "#' @param itermax Maximun number of iterations. Default to 10\n",
    "#' @return A list of k-means models, one for each value between 1 and K\n",
    "\n",
    "selectBestkMeans <- function(data, K, itermax = 10, n.inits = 10) {\n",
    "    km.list = list()\n",
    "    km.b = c()\n",
    "    km.tw = c()\n",
    "    for (i in 1:K){\n",
    "        print(i)\n",
    "        km.list[[i]] = kmeans(x = data, centers = i, iter.max = itermax, nstart = n.inits)\n",
    "        km.b[i] = km.list[[i]]$betweenss\n",
    "        km.tw[i] = km.list[[i]]$tot.withinss\n",
    "    }\n",
    "    par(mfrow = c(2,2))\n",
    "    plot(km.b, col = \"blue\", type = \"b\", xlab = \"k\", ylab = \"ss\", main = \"ss between clusters\")\n",
    "    plot(km.tw, col = \"red\", type = \"b\", xlab = \"k\", ylab = \"ss\", main = \"ss within clusters\")\n",
    "    return(km.list)\n",
    "}"
   ]
  },
  {
   "cell_type": "code",
   "execution_count": 9,
   "id": "documentary-slovakia",
   "metadata": {},
   "outputs": [
    {
     "name": "stderr",
     "output_type": "stream",
     "text": [
      "Loading required package: RColorBrewer\n"
     ]
    }
   ],
   "source": [
    "#' @title Clusters' spatial location plot \n",
    "#' @description Plots the clusters' spatial location in a map\n",
    "#' @param df Data frame containing the burned area data\n",
    "#' @param coords Data frame containing the spatial coordinates\n",
    "#' @param clus A mclust-class model\n",
    "#' @return Data of the plot\n",
    "\n",
    "\n",
    "plotClust.kmeans <- function(df, coords, clus, ...) {\n",
    "    arg.list <- list(...)\n",
    "    # arg.list <- list()\n",
    "    v <- numeric(nrow(df))\n",
    "    v[naind] <- NA\n",
    "    v[-naind] <- clus$cluster\n",
    "    df1 <- cbind.data.frame(coords, v)\n",
    "    coordinates(df1) <- c(1,2)\n",
    "    gridded(df1) <- TRUE\n",
    "    arg.list[[\"obj\"]] <- df1\n",
    "    arg.list[[\"zcol\"]] <- 1\n",
    "    do.call(\"spplot\", arg.list) %>% print()\n",
    "    return(df1@data)\n",
    "}\n",
    "\n",
    "# Para los colores\n",
    "require(RColorBrewer)\n",
    "#display.brewer.all()\n",
    "group.colors <- colorRampPalette(c(brewer.pal(8, \"Dark2\"), brewer.pal(8, \"Accent\")))"
   ]
  },
  {
   "cell_type": "code",
   "execution_count": 10,
   "id": "joined-manchester",
   "metadata": {},
   "outputs": [
    {
     "name": "stdout",
     "output_type": "stream",
     "text": [
      "[1] 1\n",
      "[1] 2\n",
      "[1] 3\n",
      "[1] 4\n",
      "[1] 5\n"
     ]
    },
    {
     "name": "stderr",
     "output_type": "stream",
     "text": [
      "Warning message:\n",
      "\"Quick-TRANSfer stage steps exceeded maximum (= 11101050)\""
     ]
    },
    {
     "name": "stdout",
     "output_type": "stream",
     "text": [
      "[1] 6\n",
      "[1] 7\n",
      "[1] 8\n",
      "[1] 9\n",
      "[1] 10\n",
      "[1] 11\n",
      "[1] 12\n",
      "[1] 13\n",
      "[1] 14\n"
     ]
    },
    {
     "name": "stderr",
     "output_type": "stream",
     "text": [
      "Warning message:\n",
      "\"Quick-TRANSfer stage steps exceeded maximum (= 11101050)\""
     ]
    },
    {
     "name": "stdout",
     "output_type": "stream",
     "text": [
      "[1] 15\n",
      "[1] 16\n"
     ]
    },
    {
     "name": "stderr",
     "output_type": "stream",
     "text": [
      "Warning message:\n",
      "\"Quick-TRANSfer stage steps exceeded maximum (= 11101050)\"Warning message:\n",
      "\"Quick-TRANSfer stage steps exceeded maximum (= 11101050)\"Warning message:\n",
      "\"Quick-TRANSfer stage steps exceeded maximum (= 11101050)\""
     ]
    },
    {
     "name": "stdout",
     "output_type": "stream",
     "text": [
      "[1] 17\n"
     ]
    },
    {
     "name": "stderr",
     "output_type": "stream",
     "text": [
      "Warning message:\n",
      "\"Quick-TRANSfer stage steps exceeded maximum (= 11101050)\"Warning message:\n",
      "\"Quick-TRANSfer stage steps exceeded maximum (= 11101050)\""
     ]
    },
    {
     "name": "stdout",
     "output_type": "stream",
     "text": [
      "[1] 18\n"
     ]
    },
    {
     "name": "stderr",
     "output_type": "stream",
     "text": [
      "Warning message:\n",
      "\"Quick-TRANSfer stage steps exceeded maximum (= 11101050)\"Warning message:\n",
      "\"Quick-TRANSfer stage steps exceeded maximum (= 11101050)\""
     ]
    },
    {
     "name": "stdout",
     "output_type": "stream",
     "text": [
      "[1] 19\n"
     ]
    },
    {
     "name": "stderr",
     "output_type": "stream",
     "text": [
      "Warning message:\n",
      "\"Quick-TRANSfer stage steps exceeded maximum (= 11101050)\"Warning message:\n",
      "\"Quick-TRANSfer stage steps exceeded maximum (= 11101050)\"Warning message:\n",
      "\"Quick-TRANSfer stage steps exceeded maximum (= 11101050)\"Warning message:\n",
      "\"Quick-TRANSfer stage steps exceeded maximum (= 11101050)\""
     ]
    },
    {
     "name": "stdout",
     "output_type": "stream",
     "text": [
      "[1] 20\n"
     ]
    },
    {
     "data": {
      "image/png": "[encoded data removed]",
      "text/plain": [
       "Plot with title \"ss within clusters\""
      ]
     },
     "metadata": {},
     "output_type": "display_data"
    }
   ],
   "source": [
    "set.seed(2)\n",
    "km.15 <- selectBestkMeans(data = df.log[-naind, ], K = 20, itermax = 20, n.inits = 10)"
   ]
  },
  {
   "cell_type": "code",
   "execution_count": 12,
   "id": "corrected-patrol",
   "metadata": {},
   "outputs": [
    {
     "data": {
      "text/html": [
       "<ol class=list-inline>\n",
       "\t<li>9544</li>\n",
       "\t<li>125076</li>\n",
       "\t<li>8899</li>\n",
       "\t<li>10413</li>\n",
       "\t<li>6620</li>\n",
       "\t<li>10634</li>\n",
       "\t<li>4698</li>\n",
       "\t<li>4141</li>\n",
       "\t<li>13687</li>\n",
       "\t<li>3570</li>\n",
       "\t<li>6098</li>\n",
       "\t<li>7086</li>\n",
       "\t<li>4062</li>\n",
       "\t<li>7493</li>\n",
       "</ol>\n"
      ],
      "text/latex": [
       "\\begin{enumerate*}\n",
       "\\item 9544\n",
       "\\item 125076\n",
       "\\item 8899\n",
       "\\item 10413\n",
       "\\item 6620\n",
       "\\item 10634\n",
       "\\item 4698\n",
       "\\item 4141\n",
       "\\item 13687\n",
       "\\item 3570\n",
       "\\item 6098\n",
       "\\item 7086\n",
       "\\item 4062\n",
       "\\item 7493\n",
       "\\end{enumerate*}\n"
      ],
      "text/markdown": [
       "1. 9544\n",
       "2. 125076\n",
       "3. 8899\n",
       "4. 10413\n",
       "5. 6620\n",
       "6. 10634\n",
       "7. 4698\n",
       "8. 4141\n",
       "9. 13687\n",
       "10. 3570\n",
       "11. 6098\n",
       "12. 7086\n",
       "13. 4062\n",
       "14. 7493\n",
       "\n",
       "\n"
      ],
      "text/plain": [
       " [1]   9544 125076   8899  10413   6620  10634   4698   4141  13687   3570\n",
       "[11]   6098   7086   4062   7493"
      ]
     },
     "metadata": {},
     "output_type": "display_data"
    },
    {
     "data": {
      "image/png": "[encoded data removed]",
      "text/plain": [
       "plot without title"
      ]
     },
     "metadata": {},
     "output_type": "display_data"
    }
   ],
   "source": [
    "km.15[[14]]$size\n",
    "km.df.14 <- plotClust.kmeans(df.log, coords, km.15[[14]], col.regions = group.colors(14),\n",
    "                      at = seq(0, 14, 1), ylim = c(-60, 72), main = \"14 groups\")"
   ]
  },
  {
   "cell_type": "code",
   "execution_count": 14,
   "id": "attached-cambodia",
   "metadata": {},
   "outputs": [
    {
     "data": {
      "image/png": "[encoded data removed]",
      "text/plain": [
       "Plot with title \"Cluster 14\""
      ]
     },
     "metadata": {},
     "output_type": "display_data"
    }
   ],
   "source": [
    "# Representación de los centroides de cada cluster junto con los cuantiles 25 y 75 del cluster para k = 14\n",
    "k = 14\n",
    "par(mfrow = c(4, 4))\n",
    "d = c()\n",
    "\n",
    "for (i in 1:k){\n",
    "    centroide = colMeans(df.log[-naind, ][which(km.15[[14]]$cluster == i),])\n",
    "    d[i] = sum((df.log[-naind, ][which(km.15[[14]]$cluster == i),] - centroide)^2) / km.15[[14]]$size[i]\n",
    "    \n",
    "    per.25 = c()\n",
    "    per.75 = c()\n",
    "    for (j in 1:12){\n",
    "        per.25[j] = quantile(df.log[-naind, ][which(km.15[[14]]$cluster == i),j], prob=0.25)\n",
    "        per.75[j] = quantile(df.log[-naind, ][which(km.15[[14]]$cluster == i),j], prob=0.75)\n",
    "    }\n",
    "    plot(per.75, col = 'blue', type = 'l', xlab = \"Mes\", ylab = \"Burned area\",\n",
    "        main = paste('Cluster', toString(i)), sub = paste('Tamaño', toString(km.15[[14]]$size[i])))\n",
    "    lines(1:12, centroide, col = \"red\")\n",
    "    lines(1:12, per.25, col = \"green\")\n",
    "}"
   ]
  },
  {
   "cell_type": "markdown",
   "id": "monetary-chocolate",
   "metadata": {},
   "source": [
    "# Gaussian Mixtures"
   ]
  },
  {
   "cell_type": "markdown",
   "id": "fitted-library",
   "metadata": {},
   "source": [
    "Búsqueda del número óptimo de clusters con el método de gaussian mixtures usando el BIC. Se han realizado varios intentos"
   ]
  },
  {
   "cell_type": "code",
   "execution_count": 59,
   "id": "running-saver",
   "metadata": {},
   "outputs": [],
   "source": [
    "f = Mclust(df.log[-naind, ], G=1:60)"
   ]
  },
  {
   "cell_type": "code",
   "execution_count": 60,
   "id": "supreme-dublin",
   "metadata": {},
   "outputs": [
    {
     "data": {
      "text/plain": [
       "Bayesian Information Criterion (BIC): \n",
       "         EII       VII       EEI       VEI       EVI       VVI      EEE\n",
       "1  -11343019 -11343019 -11279817 -11279817 -11279817 -11279817 -8929740\n",
       "2  -10426931        NA -10381121        NA        NA        NA -8788438\n",
       "3   -9759642        NA  -9627236        NA        NA        NA -8698877\n",
       "4   -9532411        NA  -9421026        NA        NA        NA -8522917\n",
       "5   -9291085        NA  -9216390        NA        NA        NA -8473137\n",
       "6   -9291371        NA  -9216548        NA        NA        NA -8372536\n",
       "7   -9120408        NA  -9037302        NA        NA        NA -8354340\n",
       "8   -9014019        NA  -8906273        NA        NA        NA -8284852\n",
       "9   -8961366        NA  -8739887        NA        NA        NA -8190170\n",
       "10  -8805107        NA  -8690363        NA        NA        NA -8171334\n",
       "11  -8684818        NA  -8574737        NA        NA        NA -8148925\n",
       "12  -8631009        NA  -8532325        NA        NA        NA -8051253\n",
       "13  -8543863        NA  -8449619        NA        NA        NA -8028076\n",
       "14  -8504841        NA  -8410598        NA        NA        NA -7928543\n",
       "15  -8470534        NA  -8388989        NA        NA        NA -7910539\n",
       "16  -8380833        NA  -8321796        NA        NA        NA -7835029\n",
       "17  -8318622        NA  -8296220        NA        NA        NA -7796142\n",
       "18  -8260973        NA  -8279362        NA        NA        NA -7789274\n",
       "19  -8286065        NA  -8172949        NA        NA        NA -7769489\n",
       "20  -8229407        NA  -8147729        NA        NA        NA -7761434\n",
       "21  -8138858        NA  -8114390        NA        NA        NA -7739113\n",
       "22  -8188330        NA  -8085726        NA        NA        NA -7677248\n",
       "23  -8090518        NA  -8050424        NA        NA        NA -7650316\n",
       "24  -8038368        NA  -8021343        NA        NA        NA -7595654\n",
       "25  -8005854        NA  -7974511        NA        NA        NA -7623559\n",
       "26  -7974415        NA  -7945520        NA        NA        NA -7608682\n",
       "27  -7954663        NA  -7872161        NA        NA        NA -7585180\n",
       "28  -7921741        NA  -7835571        NA        NA        NA -7576184\n",
       "29  -7893405        NA  -7829735        NA        NA        NA -7561734\n",
       "30  -7873521        NA  -7776215        NA        NA        NA -7523713\n",
       "31  -7846432        NA  -7764150        NA        NA        NA -7507105\n",
       "32  -7830221        NA  -7785564        NA        NA        NA -7506150\n",
       "33  -7816435        NA  -7750792        NA        NA        NA -7467826\n",
       "34  -7790747        NA  -7724800        NA        NA        NA -7397688\n",
       "35  -7776613        NA  -7695013        NA        NA        NA -7396378\n",
       "36  -7738082        NA  -7674583        NA        NA        NA -7439670\n",
       "37  -7718590        NA  -7658566        NA        NA        NA -7407854\n",
       "38  -7715535        NA  -7642815        NA        NA        NA -7418324\n",
       "39  -7677179        NA  -7629851        NA        NA        NA -7382662\n",
       "40  -7663017        NA  -7621136        NA        NA        NA -7389038\n",
       "41  -7663179        NA  -7621251        NA        NA        NA -7389200\n",
       "42  -7647820        NA  -7607497        NA        NA        NA -7370446\n",
       "43  -7644338        NA  -7595820        NA        NA        NA -7390964\n",
       "44  -7643658        NA  -7578963        NA        NA        NA -7384184\n",
       "45  -7626127        NA  -7584455        NA        NA        NA -7308408\n",
       "46  -7597037        NA  -7560124        NA        NA        NA -7306582\n",
       "47  -7599227        NA  -7541465        NA        NA        NA -7303055\n",
       "48  -7601506        NA  -7531882        NA        NA        NA -7294313\n",
       "49  -7600962        NA  -7533206        NA        NA        NA -7285093\n",
       "50  -7597849        NA  -7533381        NA        NA        NA -7280643\n",
       "51  -7577076        NA  -7520717        NA        NA        NA -7280985\n",
       "52  -7564761        NA  -7474746        NA        NA        NA -7258807\n",
       "53  -7546418        NA  -7455203        NA        NA        NA -7258606\n",
       "54  -7530235        NA  -7439336        NA        NA        NA -7242283\n",
       "55  -7530401        NA  -7423960        NA        NA        NA -7245934\n",
       "56  -7510681        NA  -7436916        NA        NA        NA -7216381\n",
       "57  -7505227        NA  -7438019        NA        NA        NA -7193385\n",
       "58  -7509145        NA  -7421869        NA        NA        NA -7188625\n",
       "59  -7468931        NA  -7411559        NA        NA        NA -7170725\n",
       "60  -7462890        NA  -7411267        NA        NA        NA -7157573\n",
       "        VEE      EVE      VVE      EEV      VEV      EVV      VVV\n",
       "1  -8929740 -8929740 -8929740 -8929740 -8929740 -8929740 -8929740\n",
       "2        NA       NA       NA -8363206       NA       NA       NA\n",
       "3        NA       NA       NA -7715000       NA       NA       NA\n",
       "4        NA       NA       NA -7394619       NA       NA       NA\n",
       "5        NA       NA       NA -7316523       NA       NA       NA\n",
       "6        NA       NA       NA -7094493       NA       NA       NA\n",
       "7        NA       NA       NA -6881708       NA       NA       NA\n",
       "8        NA       NA       NA -6815219       NA       NA       NA\n",
       "9        NA       NA       NA -6713982       NA       NA       NA\n",
       "10       NA       NA       NA -6661683       NA       NA       NA\n",
       "11       NA       NA       NA -6530477       NA       NA       NA\n",
       "12       NA       NA       NA -6328878       NA       NA       NA\n",
       "13       NA       NA       NA -6245461       NA       NA       NA\n",
       "14       NA       NA       NA -6098628       NA       NA       NA\n",
       "15       NA       NA       NA -6034088       NA       NA       NA\n",
       "16       NA       NA       NA -5957695       NA       NA       NA\n",
       "17       NA       NA       NA -5925164       NA       NA       NA\n",
       "18       NA       NA       NA -5858119       NA       NA       NA\n",
       "19       NA       NA       NA -5857177       NA       NA       NA\n",
       "20       NA       NA       NA -5809752       NA       NA       NA\n",
       "21       NA       NA       NA -5795281       NA       NA       NA\n",
       "22       NA       NA       NA -5773245       NA       NA       NA\n",
       "23       NA       NA       NA -5695609       NA       NA       NA\n",
       "24       NA       NA       NA -5683236       NA       NA       NA\n",
       "25       NA       NA       NA -5578847       NA       NA       NA\n",
       "26       NA       NA       NA -5490732       NA       NA       NA\n",
       "27       NA       NA       NA -5446450       NA       NA       NA\n",
       "28       NA       NA       NA -5402667       NA       NA       NA\n",
       "29       NA       NA       NA -5400706       NA       NA       NA\n",
       "30       NA       NA       NA -5315857       NA       NA       NA\n",
       "31       NA       NA       NA -5289514       NA       NA       NA\n",
       "32       NA       NA       NA -5220180       NA       NA       NA\n",
       "33       NA       NA       NA       NA       NA       NA       NA\n",
       "34       NA       NA       NA -5295461       NA       NA       NA\n",
       "35       NA       NA       NA -5255417       NA       NA       NA\n",
       "36       NA       NA       NA       NA       NA       NA       NA\n",
       "37       NA       NA       NA -5132825       NA       NA       NA\n",
       "38       NA       NA       NA -5185950       NA       NA       NA\n",
       "39       NA       NA       NA -5158096       NA       NA       NA\n",
       "40       NA       NA       NA       NA       NA       NA       NA\n",
       "41       NA       NA       NA       NA       NA       NA       NA\n",
       "42       NA       NA       NA       NA       NA       NA       NA\n",
       "43       NA       NA       NA       NA       NA       NA       NA\n",
       "44       NA       NA       NA       NA       NA       NA       NA\n",
       "45       NA       NA       NA       NA       NA       NA       NA\n",
       "46       NA       NA       NA       NA       NA       NA       NA\n",
       "47       NA       NA       NA       NA       NA       NA       NA\n",
       "48       NA       NA       NA       NA       NA       NA       NA\n",
       "49       NA       NA       NA       NA       NA       NA       NA\n",
       "50       NA       NA       NA       NA       NA       NA       NA\n",
       "51       NA       NA       NA       NA       NA       NA       NA\n",
       "52       NA       NA       NA       NA       NA       NA       NA\n",
       "53       NA       NA       NA       NA       NA       NA       NA\n",
       "54       NA       NA       NA       NA       NA       NA       NA\n",
       "55       NA       NA       NA       NA       NA       NA       NA\n",
       "56       NA       NA       NA       NA       NA       NA       NA\n",
       "57       NA       NA       NA       NA       NA       NA       NA\n",
       "58       NA       NA       NA       NA       NA       NA       NA\n",
       "59       NA       NA       NA       NA       NA       NA       NA\n",
       "60       NA       NA       NA       NA       NA       NA       NA\n",
       "\n",
       "Top 3 models based on the BIC criterion: \n",
       "  EEV,37   EEV,39   EEV,38 \n",
       "-5132825 -5158096 -5185950 "
      ]
     },
     "metadata": {},
     "output_type": "display_data"
    }
   ],
   "source": [
    "# numero de clusters entre 1 y 60 (prueba 1)\n",
    "f$BIC"
   ]
  },
  {
   "cell_type": "code",
   "execution_count": 58,
   "id": "cloudy-speaker",
   "metadata": {},
   "outputs": [
    {
     "data": {
      "text/plain": [
       "Bayesian Information Criterion (BIC): \n",
       "         EII       VII       EEI       VEI       EVI       VVI      EEE\n",
       "1  -11343019 -11343019 -11279817 -11279817 -11279817 -11279817 -8929740\n",
       "2  -10426933        NA -10381122        NA        NA        NA -8788409\n",
       "3   -9759627        NA  -9627207        NA        NA        NA -8629351\n",
       "4   -9532384        NA  -9421120        NA        NA        NA -8521356\n",
       "5   -9291155        NA  -9216409        NA        NA        NA -8383164\n",
       "6   -9120280        NA  -9037085        NA        NA        NA -8330648\n",
       "7   -9120427        NA  -8906110        NA        NA        NA -8316665\n",
       "8   -9014010        NA  -8870544        NA        NA        NA -8243365\n",
       "9   -8863141        NA  -8739862        NA        NA        NA -8120724\n",
       "10  -8805001        NA  -8690394        NA        NA        NA -8044647\n",
       "11  -8684810        NA  -8574745        NA        NA        NA -8020552\n",
       "12  -8599511        NA  -8512451        NA        NA        NA -7985216\n",
       "13  -8543717        NA  -8509680        NA        NA        NA -7956347\n",
       "14  -8458285        NA  -8379244        NA        NA        NA -7933213\n",
       "15  -8396535        NA  -8355808        NA        NA        NA -7891259\n",
       "16  -8350361        NA  -8322986        NA        NA        NA -7880321\n",
       "17  -8300621        NA  -8288257        NA        NA        NA -7859661\n",
       "18  -8254513        NA  -8271142        NA        NA        NA -7844680\n",
       "19  -8214928        NA  -8232196        NA        NA        NA -7820891\n",
       "20  -8163699        NA  -8216308        NA        NA        NA -7813804\n",
       "21  -8173423        NA  -8153332        NA        NA        NA -7790530\n",
       "22  -8147895        NA  -8102629        NA        NA        NA -7778644\n",
       "23  -8106833        NA  -8036185        NA        NA        NA -7778827\n",
       "24  -8075344        NA  -8040475        NA        NA        NA -7764043\n",
       "25  -8010153        NA  -7970021        NA        NA        NA -7626885\n",
       "26  -7974797        NA  -7989842        NA        NA        NA -7619237\n",
       "27  -7942735        NA  -7895708        NA        NA        NA -7613896\n",
       "28  -7927328        NA  -7913277        NA        NA        NA -7587408\n",
       "29  -7902454        NA  -7873960        NA        NA        NA -7539504\n",
       "30  -7882251        NA  -7855584        NA        NA        NA -7537192\n",
       "31  -7854558        NA  -7832111        NA        NA        NA -7518315\n",
       "32  -7867464        NA  -7830103        NA        NA        NA -7513925\n",
       "33  -7826785        NA  -7811306        NA        NA        NA -7511962\n",
       "34  -7801621        NA  -7738798        NA        NA        NA -7454842\n",
       "35  -7802949        NA  -7721444        NA        NA        NA -7434181\n",
       "36  -7772709        NA  -7709871        NA        NA        NA -7430473\n",
       "37  -7743236        NA  -7709117        NA        NA        NA -7422558\n",
       "38  -7721987        NA  -7704976        NA        NA        NA -7392207\n",
       "39  -7691973        NA  -7673102        NA        NA        NA -7452511\n",
       "40  -7661422        NA  -7653446        NA        NA        NA -7377354\n",
       "41  -7645625        NA  -7585108        NA        NA        NA -7377198\n",
       "42  -7641491        NA  -7579598        NA        NA        NA -7335826\n",
       "43  -7625189        NA  -7569688        NA        NA        NA -7327297\n",
       "44  -7603962        NA  -7579249        NA        NA        NA -7316951\n",
       "45  -7602778        NA  -7532276        NA        NA        NA -7309767\n",
       "46  -7582152        NA  -7526377        NA        NA        NA -7301918\n",
       "47  -7574090        NA  -7510794        NA        NA        NA -7302877\n",
       "48  -7569644        NA  -7503713        NA        NA        NA -7288658\n",
       "49  -7552766        NA  -7506234        NA        NA        NA -7279501\n",
       "50  -7543962        NA  -7496978        NA        NA        NA -7271704\n",
       "51  -7526876        NA  -7479758        NA        NA        NA -7270305\n",
       "52  -7514857        NA  -7448987        NA        NA        NA -7234615\n",
       "53  -7512606        NA  -7446736        NA        NA        NA -7226211\n",
       "54  -7502002        NA  -7429645        NA        NA        NA -7223360\n",
       "55  -7485983        NA  -7408176        NA        NA        NA -7203667\n",
       "56  -7486143        NA  -7408360        NA        NA        NA -7190323\n",
       "57  -7477056        NA  -7400920        NA        NA        NA -7156006\n",
       "58  -7468990        NA  -7388166        NA        NA        NA -7142116\n",
       "59  -7445402        NA  -7349013        NA        NA        NA -7115035\n",
       "60  -7425035        NA  -7350143        NA        NA        NA -7113591\n",
       "        VEE      EVE      VVE      EEV      VEV      EVV      VVV\n",
       "1  -8929740 -8929740 -8929740 -8929740 -8929740 -8929740 -8929740\n",
       "2        NA       NA       NA -8363198       NA       NA       NA\n",
       "3        NA       NA       NA -8043196       NA       NA       NA\n",
       "4        NA       NA       NA -7658838       NA       NA       NA\n",
       "5        NA       NA       NA -7230530       NA       NA       NA\n",
       "6        NA       NA       NA -7102030       NA       NA       NA\n",
       "7        NA       NA       NA -6979634       NA       NA       NA\n",
       "8        NA       NA       NA -6808598       NA       NA       NA\n",
       "9        NA       NA       NA -6590335       NA       NA       NA\n",
       "10       NA       NA       NA -6511126       NA       NA       NA\n",
       "11       NA       NA       NA -6380278       NA       NA       NA\n",
       "12       NA       NA       NA -6388202       NA       NA       NA\n",
       "13       NA       NA       NA -6227126       NA       NA       NA\n",
       "14       NA       NA       NA -6193590       NA       NA       NA\n",
       "15       NA       NA       NA -6137461       NA       NA       NA\n",
       "16       NA       NA       NA -5957902       NA       NA       NA\n",
       "17       NA       NA       NA -5917100       NA       NA       NA\n",
       "18       NA       NA       NA -5885089       NA       NA       NA\n",
       "19       NA       NA       NA -5902834       NA       NA       NA\n",
       "20       NA       NA       NA -5666666       NA       NA       NA\n",
       "21       NA       NA       NA -5752475       NA       NA       NA\n",
       "22       NA       NA       NA -5641787       NA       NA       NA\n",
       "23       NA       NA       NA -5581931       NA       NA       NA\n",
       "24       NA       NA       NA -5610066       NA       NA       NA\n",
       "25       NA       NA       NA -5502645       NA       NA       NA\n",
       "26       NA       NA       NA -5504562       NA       NA       NA\n",
       "27       NA       NA       NA -5495314       NA       NA       NA\n",
       "28       NA       NA       NA -5417664       NA       NA       NA\n",
       "29       NA       NA       NA -5349866       NA       NA       NA\n",
       "30       NA       NA       NA -5491083       NA       NA       NA\n",
       "31       NA       NA       NA -5288430       NA       NA       NA\n",
       "32       NA       NA       NA -5305551       NA       NA       NA\n",
       "33       NA       NA       NA -5246847       NA       NA       NA\n",
       "34       NA       NA       NA       NA       NA       NA       NA\n",
       "35       NA       NA       NA -5248394       NA       NA       NA\n",
       "36       NA       NA       NA -5229582       NA       NA       NA\n",
       "37       NA       NA       NA -5240822       NA       NA       NA\n",
       "38       NA       NA       NA -5189534       NA       NA       NA\n",
       "39       NA       NA       NA -5088454       NA       NA       NA\n",
       "40       NA       NA       NA       NA       NA       NA       NA\n",
       "41       NA       NA       NA       NA       NA       NA       NA\n",
       "42       NA       NA       NA       NA       NA       NA       NA\n",
       "43       NA       NA       NA       NA       NA       NA       NA\n",
       "44       NA       NA       NA       NA       NA       NA       NA\n",
       "45       NA       NA       NA       NA       NA       NA       NA\n",
       "46       NA       NA       NA       NA       NA       NA       NA\n",
       "47       NA       NA       NA       NA       NA       NA       NA\n",
       "48       NA       NA       NA       NA       NA       NA       NA\n",
       "49       NA       NA       NA       NA       NA       NA       NA\n",
       "50       NA       NA       NA       NA       NA       NA       NA\n",
       "51       NA       NA       NA       NA       NA       NA       NA\n",
       "52       NA       NA       NA       NA       NA       NA       NA\n",
       "53       NA       NA       NA       NA       NA       NA       NA\n",
       "54       NA       NA       NA       NA       NA       NA       NA\n",
       "55       NA       NA       NA       NA       NA       NA       NA\n",
       "56       NA       NA       NA       NA       NA       NA       NA\n",
       "57       NA       NA       NA       NA       NA       NA       NA\n",
       "58       NA       NA       NA       NA       NA       NA       NA\n",
       "59       NA       NA       NA       NA       NA       NA       NA\n",
       "60       NA       NA       NA       NA       NA       NA       NA\n",
       "\n",
       "Top 3 models based on the BIC criterion: \n",
       "  EEV,39   EEV,38   EEV,36 \n",
       "-5088454 -5189534 -5229582 "
      ]
     },
     "metadata": {},
     "output_type": "display_data"
    }
   ],
   "source": [
    "# numero de clusters entre 1 y 60 (prueba 2)\n",
    "f$BIC"
   ]
  },
  {
   "cell_type": "code",
   "execution_count": 56,
   "id": "martial-handbook",
   "metadata": {},
   "outputs": [
    {
     "data": {
      "text/plain": [
       "Bayesian Information Criterion (BIC): \n",
       "         EII       VII       EEI       VEI       EVI       VVI      EEE\n",
       "1  -11343019 -11343019 -11279817 -11279817 -11279817 -11279817 -8929740\n",
       "2  -10426936        NA -10381123        NA        NA        NA -8788380\n",
       "3   -9759626        NA  -9627203        NA        NA        NA -8698678\n",
       "4   -9548458        NA  -9420799        NA        NA        NA -8463404\n",
       "5   -9291171        NA  -9216342        NA        NA        NA -8372371\n",
       "6   -9120289        NA  -9060722        NA        NA        NA -8372517\n",
       "7   -9120444        NA  -9075515        NA        NA        NA -8211209\n",
       "8   -8977005        NA  -8905784        NA        NA        NA -8107538\n",
       "9   -8926935        NA  -8739885        NA        NA        NA -8130663\n",
       "10  -8784113        NA  -8626554        NA        NA        NA -8073977\n",
       "11  -8684931        NA  -8619270        NA        NA        NA -8028117\n",
       "12  -8631278        NA  -8516732        NA        NA        NA -7967309\n",
       "13  -8543879        NA  -8449634        NA        NA        NA -7967471\n",
       "14  -8492437        NA  -8379338        NA        NA        NA -7939617\n",
       "15  -8415351        NA  -8346048        NA        NA        NA -7915665\n",
       "16  -8347015        NA  -8322982        NA        NA        NA -7900491\n",
       "17  -8332331        NA  -8296205        NA        NA        NA -7837671\n",
       "18  -8260944        NA  -8279408        NA        NA        NA -7794916\n",
       "19  -8290064        NA  -8221903        NA        NA        NA -7763353\n",
       "20  -8184778        NA  -8185538        NA        NA        NA -7752397\n",
       "21  -8154954        NA  -8138942        NA        NA        NA -7748119\n",
       "22  -8106536        NA  -8108731        NA        NA        NA -7706523\n",
       "23  -8106695        NA  -8108881        NA        NA        NA -7706674\n",
       "24  -8072929        NA  -8052811        NA        NA        NA -7686736\n",
       "25  -8035345        NA  -8017313        NA        NA        NA -7680599\n",
       "26  -8019478        NA  -7981558        NA        NA        NA -7611928\n",
       "27  -8001882        NA  -7963942        NA        NA        NA -7583941\n",
       "28  -7970978        NA  -7916788        NA        NA        NA -7563535\n",
       "29  -7947010        NA  -7837506        NA        NA        NA -7545324\n",
       "30  -7927828        NA  -7802650        NA        NA        NA -7543551\n",
       "31  -7873329        NA  -7776387        NA        NA        NA -7530104\n",
       "32  -7855361        NA  -7758568        NA        NA        NA -7531357\n",
       "33  -7825583        NA  -7756462        NA        NA        NA -7474456\n",
       "34  -7804337        NA  -7728143        NA        NA        NA -7500247\n",
       "35  -7783337        NA  -7725007        NA        NA        NA -7493208\n",
       "36  -7759468        NA  -7725104        NA        NA        NA -7486761\n",
       "37  -7733874        NA  -7707067        NA        NA        NA -7475343\n",
       "38  -7727016        NA  -7722988        NA        NA        NA -7433535\n",
       "39  -7712068        NA  -7656940        NA        NA        NA -7430559\n",
       "40  -7686102        NA  -7653068        NA        NA        NA -7420151\n",
       "41  -7680954        NA  -7619481        NA        NA        NA -7369586\n",
       "42  -7664052        NA  -7563432        NA        NA        NA -7326414\n",
       "43  -7639391        NA  -7588895        NA        NA        NA -7305863\n",
       "44  -7637632        NA  -7599148        NA        NA        NA -7296855\n",
       "45  -7631905        NA  -7573106        NA        NA        NA -7288853\n",
       "46  -7632115        NA  -7573277        NA        NA        NA -7287269\n",
       "47  -7608962        NA  -7526366        NA        NA        NA -7276471\n",
       "48  -7599200        NA  -7510992        NA        NA        NA -7274706\n",
       "49  -7591364        NA  -7495392        NA        NA        NA -7269484\n",
       "50  -7590102        NA  -7505328        NA        NA        NA -7267513\n",
       "51  -7571361        NA  -7502772        NA        NA        NA -7258269\n",
       "52  -7541802        NA  -7482843        NA        NA        NA -7256349\n",
       "53  -7551336        NA  -7470537        NA        NA        NA -7239052\n",
       "54  -7508579        NA  -7460734        NA        NA        NA -7224468\n",
       "55  -7491435        NA  -7462974        NA        NA        NA -7202298\n",
       "56  -7486268        NA  -7447779        NA        NA        NA -7189059\n",
       "57  -7476987        NA  -7426440        NA        NA        NA -7194361\n",
       "58  -7477939        NA  -7418270        NA        NA        NA -7184355\n",
       "59  -7467414        NA  -7414731        NA        NA        NA -7184475\n",
       "60  -7455453        NA  -7408233        NA        NA        NA -7179337\n",
       "        VEE      EVE      VVE      EEV      VEV      EVV      VVV\n",
       "1  -8929740 -8929740 -8929740 -8929740 -8929740 -8929740 -8929740\n",
       "2        NA       NA       NA -8363236       NA       NA       NA\n",
       "3        NA       NA       NA -7966911       NA       NA       NA\n",
       "4        NA       NA       NA -7668048       NA       NA       NA\n",
       "5        NA       NA       NA -7297529       NA       NA       NA\n",
       "6        NA       NA       NA -7077509       NA       NA       NA\n",
       "7        NA       NA       NA -6927539       NA       NA       NA\n",
       "8        NA       NA       NA -6759537       NA       NA       NA\n",
       "9        NA       NA       NA -6594513       NA       NA       NA\n",
       "10       NA       NA       NA -6572849       NA       NA       NA\n",
       "11       NA       NA       NA -6404358       NA       NA       NA\n",
       "12       NA       NA       NA -6485745       NA       NA       NA\n",
       "13       NA       NA       NA -6381453       NA       NA       NA\n",
       "14       NA       NA       NA -6165200       NA       NA       NA\n",
       "15       NA       NA       NA -6130290       NA       NA       NA\n",
       "16       NA       NA       NA -6059557       NA       NA       NA\n",
       "17       NA       NA       NA -5910242       NA       NA       NA\n",
       "18       NA       NA       NA -5871498       NA       NA       NA\n",
       "19       NA       NA       NA -5830084       NA       NA       NA\n",
       "20       NA       NA       NA -5738198       NA       NA       NA\n",
       "21       NA       NA       NA -5761679       NA       NA       NA\n",
       "22       NA       NA       NA -5826119       NA       NA       NA\n",
       "23       NA       NA       NA -5810967       NA       NA       NA\n",
       "24       NA       NA       NA -5732722       NA       NA       NA\n",
       "25       NA       NA       NA       NA       NA       NA       NA\n",
       "26       NA       NA       NA -5621902       NA       NA       NA\n",
       "27       NA       NA       NA -5561245       NA       NA       NA\n",
       "28       NA       NA       NA -5414295       NA       NA       NA\n",
       "29       NA       NA       NA -5469969       NA       NA       NA\n",
       "30       NA       NA       NA -5403218       NA       NA       NA\n",
       "31       NA       NA       NA -5224333       NA       NA       NA\n",
       "32       NA       NA       NA -5307929       NA       NA       NA\n",
       "33       NA       NA       NA -5313350       NA       NA       NA\n",
       "34       NA       NA       NA -5240861       NA       NA       NA\n",
       "35       NA       NA       NA -5228508       NA       NA       NA\n",
       "36       NA       NA       NA -5152191       NA       NA       NA\n",
       "37       NA       NA       NA -5195364       NA       NA       NA\n",
       "38       NA       NA       NA -5156017       NA       NA       NA\n",
       "39       NA       NA       NA       NA       NA       NA       NA\n",
       "40       NA       NA       NA       NA       NA       NA       NA\n",
       "41       NA       NA       NA -5041549       NA       NA       NA\n",
       "42       NA       NA       NA -5036495       NA       NA       NA\n",
       "43       NA       NA       NA -5050836       NA       NA       NA\n",
       "44       NA       NA       NA -5025448       NA       NA       NA\n",
       "45       NA       NA       NA -4938042       NA       NA       NA\n",
       "46       NA       NA       NA -4918945       NA       NA       NA\n",
       "47       NA       NA       NA       NA       NA       NA       NA\n",
       "48       NA       NA       NA       NA       NA       NA       NA\n",
       "49       NA       NA       NA       NA       NA       NA       NA\n",
       "50       NA       NA       NA       NA       NA       NA       NA\n",
       "51       NA       NA       NA       NA       NA       NA       NA\n",
       "52       NA       NA       NA       NA       NA       NA       NA\n",
       "53       NA       NA       NA       NA       NA       NA       NA\n",
       "54       NA       NA       NA -4829877       NA       NA       NA\n",
       "55       NA       NA       NA       NA       NA       NA       NA\n",
       "56       NA       NA       NA       NA       NA       NA       NA\n",
       "57       NA       NA       NA -4689994       NA       NA       NA\n",
       "58       NA       NA       NA       NA       NA       NA       NA\n",
       "59       NA       NA       NA       NA       NA       NA       NA\n",
       "60       NA       NA       NA       NA       NA       NA       NA\n",
       "\n",
       "Top 3 models based on the BIC criterion: \n",
       "  EEV,57   EEV,54   EEV,46 \n",
       "-4689994 -4829877 -4918945 "
      ]
     },
     "metadata": {},
     "output_type": "display_data"
    }
   ],
   "source": [
    "# numero de clusters entre 1 y 60 (prueba 3)\n",
    "f$BIC"
   ]
  },
  {
   "cell_type": "code",
   "execution_count": 53,
   "id": "anonymous-northern",
   "metadata": {},
   "outputs": [
    {
     "data": {
      "text/plain": [
       "Bayesian Information Criterion (BIC): \n",
       "         EII       VII       EEI       VEI       EVI       VVI      EEE\n",
       "1  -11343019 -11343019 -11279817 -11279817 -11279817 -11279817 -8929740\n",
       "2  -10426930        NA -10381121        NA        NA        NA -8788415\n",
       "3   -9759642        NA  -9627219        NA        NA        NA -8698902\n",
       "4   -9532370        NA  -9421036        NA        NA        NA -8530362\n",
       "5   -9532436        NA  -9421127        NA        NA        NA -8479239\n",
       "6   -9291379        NA  -9216503        NA        NA        NA -8216353\n",
       "7   -9120429        NA  -9075473        NA        NA        NA -8281206\n",
       "8   -9014111        NA  -9022446        NA        NA        NA -8354154\n",
       "9   -8961370        NA  -8854340        NA        NA        NA -8081726\n",
       "10  -8805070        NA  -8626518        NA        NA        NA -8018912\n",
       "11  -8684740        NA  -8574901        NA        NA        NA -8019031\n",
       "12  -8631250        NA  -8516743        NA        NA        NA -7920961\n",
       "13  -8516120        NA  -8449620        NA        NA        NA -7957605\n",
       "14  -8504714        NA  -8379342        NA        NA        NA -7938031\n",
       "15  -8414356        NA  -8346622        NA        NA        NA -7919322\n",
       "16  -8362467        NA  -8323006        NA        NA        NA -7892752\n",
       "17  -8332341        NA  -8296210        NA        NA        NA -7806089\n",
       "18  -8324791        NA  -8224742        NA        NA        NA -7780014\n",
       "19  -8223273        NA  -8210461        NA        NA        NA -7724146\n",
       "20  -8200693        NA  -8142359        NA        NA        NA -7686481\n",
       "21  -8155557        NA  -8107805        NA        NA        NA -7661378\n",
       "22  -8124982        NA  -8070130        NA        NA        NA -7647242\n",
       "23  -8083084        NA  -8031973        NA        NA        NA -7639182\n",
       "24  -8052419        NA  -8007950        NA        NA        NA -7618013\n",
       "25  -8014307        NA  -7983632        NA        NA        NA -7603869\n",
       "26  -7988304        NA  -7921322        NA        NA        NA -7559541\n",
       "27  -7941457        NA  -7896408        NA        NA        NA -7521688\n",
       "28  -7941165        NA  -7854330        NA        NA        NA -7496507\n",
       "29  -7920712        NA  -7870555        NA        NA        NA -7492435\n",
       "30  -7920872        NA  -7870714        NA        NA        NA -7492598\n",
       "31  -7897858        NA  -7851218        NA        NA        NA -7486532\n",
       "32  -7898000        NA  -7851463        NA        NA        NA -7486692\n",
       "33  -7848635        NA  -7756067        NA        NA        NA -7485300\n",
       "34  -7826898        NA  -7726596        NA        NA        NA -7472189\n",
       "35  -7811453        NA  -7709075        NA        NA        NA -7469673\n",
       "36  -7795701        NA  -7728592        NA        NA        NA -7462532\n",
       "37  -7766883        NA  -7714274        NA        NA        NA -7442423\n",
       "38  -7735576        NA  -7702188        NA        NA        NA -7435097\n",
       "39  -7727032        NA  -7674021        NA        NA        NA -7422524\n",
       "40  -7710194        NA  -7625142        NA        NA        NA -7418559\n",
       "        VEE      EVE      VVE      EEV      VEV      EVV      VVV\n",
       "1  -8929740 -8929740 -8929740 -8929740 -8929740 -8929740 -8929740\n",
       "2        NA       NA       NA -8363221       NA       NA       NA\n",
       "3        NA       NA       NA -7714674       NA       NA       NA\n",
       "4        NA       NA       NA -7486589       NA       NA       NA\n",
       "5        NA       NA       NA -7238937       NA       NA       NA\n",
       "6        NA       NA       NA -7110232       NA       NA       NA\n",
       "7        NA       NA       NA -6997249       NA       NA       NA\n",
       "8        NA       NA       NA -6807028       NA       NA       NA\n",
       "9        NA       NA       NA -6715740       NA       NA       NA\n",
       "10       NA       NA       NA -6601684       NA       NA       NA\n",
       "11       NA       NA       NA -6454559       NA       NA       NA\n",
       "12       NA       NA       NA -6320762       NA       NA       NA\n",
       "13       NA       NA       NA -6347739       NA       NA       NA\n",
       "14       NA       NA       NA -6252665       NA       NA       NA\n",
       "15       NA       NA       NA -6079766       NA       NA       NA\n",
       "16       NA       NA       NA -6021912       NA       NA       NA\n",
       "17       NA       NA       NA -5937989       NA       NA       NA\n",
       "18       NA       NA       NA -5930700       NA       NA       NA\n",
       "19       NA       NA       NA -5847648       NA       NA       NA\n",
       "20       NA       NA       NA -5817339       NA       NA       NA\n",
       "21       NA       NA       NA -5643456       NA       NA       NA\n",
       "22       NA       NA       NA -5584348       NA       NA       NA\n",
       "23       NA       NA       NA -5648324       NA       NA       NA\n",
       "24       NA       NA       NA -5591085       NA       NA       NA\n",
       "25       NA       NA       NA -5549517       NA       NA       NA\n",
       "26       NA       NA       NA -5441593       NA       NA       NA\n",
       "27       NA       NA       NA -5524703       NA       NA       NA\n",
       "28       NA       NA       NA -5524271       NA       NA       NA\n",
       "29       NA       NA       NA -5440999       NA       NA       NA\n",
       "30       NA       NA       NA -5420850       NA       NA       NA\n",
       "31       NA       NA       NA -5304213       NA       NA       NA\n",
       "32       NA       NA       NA -5256810       NA       NA       NA\n",
       "33       NA       NA       NA -5216382       NA       NA       NA\n",
       "34       NA       NA       NA       NA       NA       NA       NA\n",
       "35       NA       NA       NA -5217377       NA       NA       NA\n",
       "36       NA       NA       NA       NA       NA       NA       NA\n",
       "37       NA       NA       NA       NA       NA       NA       NA\n",
       "38       NA       NA       NA       NA       NA       NA       NA\n",
       "39       NA       NA       NA       NA       NA       NA       NA\n",
       "40       NA       NA       NA -5017937       NA       NA       NA\n",
       "\n",
       "Top 3 models based on the BIC criterion: \n",
       "  EEV,40   EEV,33   EEV,35 \n",
       "-5017937 -5216382 -5217377 "
      ]
     },
     "metadata": {},
     "output_type": "display_data"
    }
   ],
   "source": [
    "# numero de clusters entre 1 y 40\n",
    "f$BIC"
   ]
  },
  {
   "cell_type": "code",
   "execution_count": 18,
   "id": "relative-scheduling",
   "metadata": {},
   "outputs": [
    {
     "data": {
      "text/html": [
       "<dl>\n",
       "\t<dt>$model</dt>\n",
       "\t\t<dd>'EEV'</dd>\n",
       "\t<dt>$type</dt>\n",
       "\t\t<dd>'ellipsoidal, equal volume and shape'</dd>\n",
       "</dl>\n"
      ],
      "text/latex": [
       "\\begin{description}\n",
       "\\item[\\$model] 'EEV'\n",
       "\\item[\\$type] 'ellipsoidal, equal volume and shape'\n",
       "\\end{description}\n"
      ],
      "text/markdown": [
       "$model\n",
       ":   'EEV'\n",
       "$type\n",
       ":   'ellipsoidal, equal volume and shape'\n",
       "\n",
       "\n"
      ],
      "text/plain": [
       "$model\n",
       "[1] \"EEV\"\n",
       "\n",
       "$type\n",
       "[1] \"ellipsoidal, equal volume and shape\"\n"
      ]
     },
     "metadata": {},
     "output_type": "display_data"
    }
   ],
   "source": [
    "mclustModelNames('EEV')"
   ]
  },
  {
   "cell_type": "code",
   "execution_count": 14,
   "id": "aboriginal-monthly",
   "metadata": {},
   "outputs": [
    {
     "data": {
      "text/plain": [
       "Bayesian Information Criterion (BIC): \n",
       "         EII       VII       EEI       VEI       EVI       VVI      EEE\n",
       "1  -11343019 -11343019 -11279817 -11279817 -11279817 -11279817 -8929740\n",
       "2  -10426931        NA -10381120        NA        NA        NA -8788367\n",
       "3   -9759642        NA  -9627181        NA        NA        NA -8629349\n",
       "4   -9548464        NA  -9415566        NA        NA        NA -8629512\n",
       "5   -9291155        NA  -9216410        NA        NA        NA -8455343\n",
       "6   -9120274        NA  -9060748        NA        NA        NA -8333738\n",
       "7   -8976874        NA  -8905545        NA        NA        NA -8320971\n",
       "8   -8926638        NA  -8853895        NA        NA        NA -8241474\n",
       "9   -8961378        NA  -8854146        NA        NA        NA -8190353\n",
       "10  -8849145        NA  -8690365        NA        NA        NA -8163189\n",
       "11  -8630978        NA  -8690529        NA        NA        NA -8094831\n",
       "12  -8631752        NA  -8574913        NA        NA        NA -8007021\n",
       "13  -8563257        NA  -8532480        NA        NA        NA -7982180\n",
       "14  -8453925        NA  -8474237        NA        NA        NA -7936461\n",
       "15  -8396502        NA  -8428083        NA        NA        NA -7917978\n",
       "16  -8412003        NA  -8343409        NA        NA        NA -7885125\n",
       "17  -8357090        NA  -8320343        NA        NA        NA -7868131\n",
       "18  -8312597        NA  -8261086        NA        NA        NA -7865240\n",
       "19  -8243357        NA  -8208771        NA        NA        NA -7764922\n",
       "20  -8185622        NA  -8190154        NA        NA        NA -7665055\n",
       "        VEE      EVE      VVE      EEV      VEV      EVV      VVV\n",
       "1  -8929740 -8929740 -8929740 -8929740 -8929740 -8929740 -8929740\n",
       "2        NA       NA       NA -8160772       NA       NA       NA\n",
       "3        NA       NA       NA -7841678       NA       NA       NA\n",
       "4        NA       NA       NA -7491624       NA       NA       NA\n",
       "5        NA       NA       NA -7232322       NA       NA       NA\n",
       "6        NA       NA       NA -7081075       NA       NA       NA\n",
       "7        NA       NA       NA -6961662       NA       NA       NA\n",
       "8        NA       NA       NA -6826153       NA       NA       NA\n",
       "9        NA       NA       NA -6737351       NA       NA       NA\n",
       "10       NA       NA       NA -6619202       NA       NA       NA\n",
       "11       NA       NA       NA -6486619       NA       NA       NA\n",
       "12       NA       NA       NA -6282498       NA       NA       NA\n",
       "13       NA       NA       NA -6290546       NA       NA       NA\n",
       "14       NA       NA       NA -6292576       NA       NA       NA\n",
       "15       NA       NA       NA -6195660       NA       NA       NA\n",
       "16       NA       NA       NA -6117039       NA       NA       NA\n",
       "17       NA       NA       NA -6151772       NA       NA       NA\n",
       "18       NA       NA       NA -5994971       NA       NA       NA\n",
       "19       NA       NA       NA -5917649       NA       NA       NA\n",
       "20       NA       NA       NA -5761341       NA       NA       NA\n",
       "\n",
       "Top 3 models based on the BIC criterion: \n",
       "  EEV,20   EEV,19   EEV,18 \n",
       "-5761341 -5917649 -5994971 "
      ]
     },
     "metadata": {},
     "output_type": "display_data"
    }
   ],
   "source": [
    "# numero de clusters entre 1 y 20\n",
    "f$BIC"
   ]
  },
  {
   "cell_type": "markdown",
   "id": "local-effort",
   "metadata": {},
   "source": [
    "Atendiendo a los resultados obtenidos, parece que el método siempre pide más clusters, aunque llega un momento que ya no converge. Además, en todos los casos el modelo que mejor funciona es el 'EEV' (ellipsoidal, equal volume and shape).\n",
    "\n",
    "Visto que el resultado del clustering obtenido varía a cada intento, creamos una función para agilizar el proceso de realizar varios intentos del método de agrupamiento."
   ]
  },
  {
   "cell_type": "code",
   "execution_count": 17,
   "id": "animated-eating",
   "metadata": {},
   "outputs": [],
   "source": [
    "#' @title Best GMM model selection\n",
    "#' @description Retain the lowest BIC model after an arbitary number of GMM initializations\n",
    "#' @param data Data frame\n",
    "#' @param K number of groups\n",
    "#' @param n.inits Number of initializations. Default to 10\n",
    "#' @return A mclust-class model\n",
    "#' @importFrom mclust Mclust\n",
    "\n",
    "selectBestGMM <- function(data, K, n.inits = 3) {\n",
    "    i <- 1\n",
    "    gmm.list <- rep(list(bquote(), n.inits))\n",
    "    while (i <= n.inits) {\n",
    "        set.seed(i)\n",
    "        gmm.list[[i]] <- Mclust(data, G = 1:K)  \n",
    "        i <- i + 1\n",
    "    } \n",
    "    bics <- numeric(length(gmm.list))\n",
    "    for (i in 1:length(gmm.list)) {\n",
    "        bics[i] <- gmm.list[[i]]$bic\n",
    "    }\n",
    "    ind = which.min(bics)\n",
    "    gmm <- gmm.list[[ind]]\n",
    "    message(\"Lowest BIC: \", round(min(bics), 2))\n",
    "    message(\"Number of clusters:\", gmm$G)\n",
    "    return (list(\"gmm\" = gmm.list, \"ind\" = ind))\n",
    "}"
   ]
  },
  {
   "cell_type": "markdown",
   "id": "convertible-toilet",
   "metadata": {},
   "source": [
    "Dos iteraciones con numero de clusters entre 1 y 30:"
   ]
  },
  {
   "cell_type": "code",
   "execution_count": 8,
   "id": "forty-headset",
   "metadata": {},
   "outputs": [
    {
     "name": "stderr",
     "output_type": "stream",
     "text": [
      "Lowest BIC: -5385117.35\n",
      "Number of clusters:29\n"
     ]
    }
   ],
   "source": [
    "gmm30 <- selectBestGMM(data = df.log[-naind, ], K = 30, n.inits = 2)"
   ]
  },
  {
   "cell_type": "code",
   "execution_count": 10,
   "id": "median-editor",
   "metadata": {},
   "outputs": [
    {
     "name": "stdout",
     "output_type": "stream",
     "text": [
      "29 -5385117 \n",
      "30 -5322347 \n"
     ]
    }
   ],
   "source": [
    "for (i in 1:2){\n",
    "    cat(gmm30$gmm[[i]]$G, gmm30$gmm[[i]]$bic,'\\n')\n",
    "}"
   ]
  },
  {
   "cell_type": "markdown",
   "id": "international-trouble",
   "metadata": {},
   "source": [
    "Dos iteraciones con numero de clusters entre 1 y 40:"
   ]
  },
  {
   "cell_type": "code",
   "execution_count": 12,
   "id": "dedicated-shuttle",
   "metadata": {},
   "outputs": [
    {
     "name": "stderr",
     "output_type": "stream",
     "text": [
      "Lowest BIC: -5151089.52\n",
      "Number of clusters:39\n"
     ]
    }
   ],
   "source": [
    "gmm40 <- selectBestGMM(data = df.log[-naind, ], K = 40, n.inits = 2)"
   ]
  },
  {
   "cell_type": "code",
   "execution_count": 13,
   "id": "crucial-circumstances",
   "metadata": {},
   "outputs": [
    {
     "name": "stdout",
     "output_type": "stream",
     "text": [
      "36 -5131385 \n",
      "39 -5151090 \n"
     ]
    }
   ],
   "source": [
    "for (i in 1:2){\n",
    "    cat(gmm40$gmm[[i]]$G, gmm40$gmm[[i]]$bic,'\\n')\n",
    "}"
   ]
  },
  {
   "cell_type": "markdown",
   "id": "driven-syndication",
   "metadata": {},
   "source": [
    "Dos iteraciones con numero de clusters entre 1 y 15:"
   ]
  },
  {
   "cell_type": "code",
   "execution_count": 12,
   "id": "distinct-trailer",
   "metadata": {},
   "outputs": [
    {
     "name": "stderr",
     "output_type": "stream",
     "text": [
      "Lowest BIC: -124936.94\n",
      "Number of clusters:14\n"
     ]
    }
   ],
   "source": [
    "naind.2 <- which(is.na(df.log.med), arr.ind = TRUE)\n",
    "gmm.med <- selectBestGMM(data = df.log.med[-naind.2, ], K = 15)"
   ]
  },
  {
   "cell_type": "code",
   "execution_count": 13,
   "id": "failing-victoria",
   "metadata": {},
   "outputs": [
    {
     "name": "stdout",
     "output_type": "stream",
     "text": [
      "14 -124936.9 \n",
      "15 -124845 \n",
      "15 -123621.7 \n"
     ]
    }
   ],
   "source": [
    "for (i in 1:3){\n",
    "    cat(gmm.med$gmm[[i]]$G, gmm.med$gmm[[i]]$bic,'\\n')\n",
    "}"
   ]
  },
  {
   "cell_type": "code",
   "execution_count": 29,
   "id": "anonymous-sessions",
   "metadata": {},
   "outputs": [
    {
     "data": {
      "text/html": [
       "7680"
      ],
      "text/latex": [
       "7680"
      ],
      "text/markdown": [
       "7680"
      ],
      "text/plain": [
       "[1] 7680"
      ]
     },
     "metadata": {},
     "output_type": "display_data"
    }
   ],
   "source": [
    "naind2 <- which(is.na(df.log.med), arr.ind = TRUE)\n",
    "v <- numeric(nrow(df.log[ind.coords.med,]))\n",
    "v[naind2] <- NA\n",
    "length(v)\n",
    "#naind2"
   ]
  },
  {
   "cell_type": "markdown",
   "id": "freelance-causing",
   "metadata": {},
   "source": [
    "Otra prueba con número de clusters entre 6 y 20:"
   ]
  },
  {
   "cell_type": "code",
   "execution_count": 7,
   "id": "smooth-charter",
   "metadata": {},
   "outputs": [],
   "source": [
    "gmm.list.1 = list()\n",
    "for (g in 6:20){\n",
    "    set.seed(1)\n",
    "    gmm.list.1[[g]] <- Mclust(df.log[-naind, ], G = c(g))\n",
    "}\n",
    "\n",
    "gmm.list.2 = list()\n",
    "for (g in 6:20){\n",
    "    set.seed(2)\n",
    "    gmm.list.2[[g]] <- Mclust(df.log[-naind, ], G = c(g))\n",
    "}\n",
    "\n"
   ]
  },
  {
   "cell_type": "markdown",
   "id": "provincial-thing",
   "metadata": {},
   "source": [
    "Representación de cómo evoluciona el bic según el número de clusters escogidos:"
   ]
  },
  {
   "cell_type": "code",
   "execution_count": 33,
   "id": "everyday-syndicate",
   "metadata": {},
   "outputs": [
    {
     "data": {
      "image/png": "[encoded data removed]",
      "text/plain": [
       "plot without title"
      ]
     },
     "metadata": {},
     "output_type": "display_data"
    }
   ],
   "source": [
    "bics.1 = c()\n",
    "bics.2 = c()\n",
    "for (g in 6:20){\n",
    "    bics.1[g] = gmm.list.1[[g]]$bic\n",
    "    bics.2[g] = gmm.list.2[[g]]$bic\n",
    "}\n",
    "plot(bics.1, type = 'l')\n",
    "lines(bics.2, col = 'red')"
   ]
  },
  {
   "cell_type": "markdown",
   "id": "liked-fountain",
   "metadata": {},
   "source": [
    "Representación de cómo evoluciona el tamaño del cluster más peuqueño según el número de clusters escogidos:"
   ]
  },
  {
   "cell_type": "code",
   "execution_count": 50,
   "id": "cooperative-verse",
   "metadata": {},
   "outputs": [],
   "source": [
    "minsize.1 = matrix(NaN,15,20)\n",
    "minsize.2 = matrix(NaN,15,20)\n",
    "for (g in 6:20){\n",
    "    \n",
    "    for (i in 1:g){\n",
    "        minsize.1[g-5,i]=sum(gmm.list.1[[g]]$classification == i)\n",
    "        minsize.2[g-5,i]=sum(gmm.list.2[[g]]$classification == i)\n",
    "    }\n",
    "    \n",
    "}"
   ]
  },
  {
   "cell_type": "code",
   "execution_count": 64,
   "id": "young-restoration",
   "metadata": {},
   "outputs": [
    {
     "data": {
      "image/png": "[encoded data removed]",
      "text/plain": [
       "plot without title"
      ]
     },
     "metadata": {},
     "output_type": "display_data"
    }
   ],
   "source": [
    "min.1=c()\n",
    "min.2=c()\n",
    "max.1=c()\n",
    "max.2=c()\n",
    "\n",
    "for (g in 6:20){\n",
    "    min.1[g] = min(minsize.1[g-5,],na.rm=T)\n",
    "    min.2[g] = min(minsize.2[g-5,],na.rm=T)\n",
    "    max.1[g] = max(minsize.1[g-5,],na.rm=T)\n",
    "    max.2[g] = max(minsize.2[g-5,],na.rm=T)\n",
    "}\n",
    "\n",
    "plot(min.1, type = 'l')\n",
    "lines(min.2, col = 'red')"
   ]
  },
  {
   "cell_type": "markdown",
   "id": "reasonable-midwest",
   "metadata": {},
   "source": [
    "Con número de clusters entre 1 y 20, 8 iteraciones:"
   ]
  },
  {
   "cell_type": "code",
   "execution_count": 86,
   "id": "composite-envelope",
   "metadata": {},
   "outputs": [
    {
     "name": "stderr",
     "output_type": "stream",
     "text": [
      "Lowest BIC: -5865759.91\n",
      "Number of clusters:20\n"
     ]
    }
   ],
   "source": [
    "gmm.log.20 <- selectBestGMM(data = df.log[-naind, ], K = 20, n.inits = 8)"
   ]
  },
  {
   "cell_type": "code",
   "execution_count": 90,
   "id": "educational-mayor",
   "metadata": {},
   "outputs": [
    {
     "name": "stdout",
     "output_type": "stream",
     "text": [
      "-5779737 19 \n",
      "-5863303 19 \n",
      "-5855966 20 \n",
      "-5732639 20 \n",
      "-5865760 20 \n",
      "-5749742 20 \n",
      "-5754219 19 \n",
      "-5817363 20 \n"
     ]
    }
   ],
   "source": [
    "for (i in 1:8){\n",
    "    cat(gmm.log.20$gmm[[i]]$bic, gmm.log.20$gmm[[i]]$G, '\\n')\n",
    "}"
   ]
  },
  {
   "cell_type": "markdown",
   "id": "center-shelter",
   "metadata": {},
   "source": [
    "Para una de las iteraciones en las que obtuvimos 20 clusters, miramos el tamaño de los clusters:"
   ]
  },
  {
   "cell_type": "code",
   "execution_count": 95,
   "id": "alien-doubt",
   "metadata": {},
   "outputs": [
    {
     "name": "stdout",
     "output_type": "stream",
     "text": [
      "1 12315 \n",
      "2 13676 \n",
      "3 2734 \n",
      "4 7879 \n",
      "5 6743 \n",
      "6 2660 \n",
      "7 1703 \n",
      "8 2868 \n",
      "9 5930 \n",
      "10 3825 \n",
      "11 5001 \n",
      "12 6796 \n",
      "13 2858 \n",
      "14 121494 \n",
      "15 3191 \n",
      "16 1724 \n",
      "17 2692 \n",
      "18 8656 \n",
      "19 2633 \n",
      "20 6643 \n"
     ]
    }
   ],
   "source": [
    "for (i in 1:20){\n",
    "    cat(i, sum(gmm.log.20$gmm[[n]]$classification == i),'\\n')\n",
    "}"
   ]
  },
  {
   "cell_type": "markdown",
   "id": "overall-puzzle",
   "metadata": {},
   "source": [
    "Con número de clusters entre 1 y 15, 8 iteraciones:"
   ]
  },
  {
   "cell_type": "code",
   "execution_count": 65,
   "id": "inappropriate-hundred",
   "metadata": {},
   "outputs": [
    {
     "name": "stderr",
     "output_type": "stream",
     "text": [
      "Lowest BIC: -6272834.92\n",
      "Number of clusters:14\n"
     ]
    }
   ],
   "source": [
    "gmm.log <- selectBestGMM(data = df.log[-naind, ], K = 15, n.inits = 8)"
   ]
  },
  {
   "cell_type": "code",
   "execution_count": 67,
   "id": "systematic-drilling",
   "metadata": {},
   "outputs": [
    {
     "name": "stdout",
     "output_type": "stream",
     "text": [
      "-6272835 14 \n",
      "-6032340 15 \n",
      "-6137040 14 \n",
      "-6066640 15 \n",
      "-6134992 15 \n",
      "-6115995 15 \n",
      "-6240031 15 \n",
      "-6051990 15 \n"
     ]
    }
   ],
   "source": [
    "for (i in 1:8){\n",
    "    cat(gmm.log$gmm[[i]]$bic, gmm.log$gmm[[i]]$G, '\\n')\n",
    "}"
   ]
  },
  {
   "cell_type": "code",
   "execution_count": null,
   "id": "exceptional-pressing",
   "metadata": {},
   "outputs": [],
   "source": [
    "#' @title Clusters' spatial location plot \n",
    "#' @description Plots the clusters' spatial location in a map\n",
    "#' @param df Data frame containing the burned area data\n",
    "#' @param coords Data frame containing the spatial coordinates\n",
    "#' @param clus A mclust-class model\n",
    "#' @return Data of the plot\n",
    "\n",
    "plotClust.gmm <- function(df, coords, clus, ...) {\n",
    "    arg.list <- list(...)\n",
    "    v <- numeric(nrow(df))\n",
    "    v[naind] <- NA\n",
    "    v[-naind] <- clus$classification\n",
    "    df1 <- cbind.data.frame(coords, v)\n",
    "    coordinates(df1) <- c(1,2)\n",
    "    gridded(df1) <- TRUE\n",
    "    arg.list[[\"obj\"]] <- df1\n",
    "    arg.list[[\"zcol\"]] <- 1\n",
    "    do.call(\"spplot\", arg.list) %>% print()\n",
    "    return(df1@data)\n",
    "}\n",
    "\n",
    "# Para los colores\n",
    "require(RColorBrewer)\n",
    "#display.brewer.all()\n",
    "group.colors <- colorRampPalette(c(brewer.pal(13, \"Dark2\"), brewer.pal(13, \"Accent\")))"
   ]
  },
  {
   "cell_type": "code",
   "execution_count": 1,
   "id": "advisory-prevention",
   "metadata": {},
   "outputs": [
    {
     "ename": "ERROR",
     "evalue": "Error in parse(text = x, srcfile = src): <text>:1:16: unexpected symbol\n1: Representación espacial\n                   ^\n",
     "output_type": "error",
     "traceback": [
      "Error in parse(text = x, srcfile = src): <text>:1:16: unexpected symbol\n1: Representación espacial\n                   ^\nTraceback:\n"
     ]
    }
   ],
   "source": [
    "Representación espacial de los clusters para el mejor modelo obtenido en el clustering precedente."
   ]
  },
  {
   "cell_type": "code",
   "execution_count": 9,
   "id": "standing-wages",
   "metadata": {},
   "outputs": [
    {
     "data": {
      "image/png": "[encoded data removed]",
      "text/plain": [
       "plot without title"
      ]
     },
     "metadata": {},
     "output_type": "display_data"
    }
   ],
   "source": [
    "gmm.log <- plotClust.gmm(df.log, coords, gmm.log$gmm[[7]], col.regions = group.colors(15),\n",
    "                      at = seq(0, 15, 1), ylim = c(-60, 72), main = \"gmmlog15\")"
   ]
  },
  {
   "cell_type": "markdown",
   "id": "better-complaint",
   "metadata": {},
   "source": [
    "Volví a lanzar el análisis anterior otra vez:"
   ]
  },
  {
   "cell_type": "code",
   "execution_count": 11,
   "id": "banner-spoke",
   "metadata": {},
   "outputs": [
    {
     "name": "stdout",
     "output_type": "stream",
     "text": [
      "-6096057 15 \n",
      "-6166015 15 \n",
      "-6166331 13 \n",
      "-6117464 15 \n",
      "-6115048 15 \n",
      "-6170079 14 \n",
      "-6118326 15 \n",
      "-5924451 15 \n"
     ]
    }
   ],
   "source": [
    "for (i in 1:8){\n",
    "    cat(gmm.log$gmm[[i]]$bic, gmm.log$gmm[[i]]$G, '\\n')\n",
    "}"
   ]
  },
  {
   "cell_type": "markdown",
   "id": "architectural-broadcasting",
   "metadata": {},
   "source": [
    "Representación espacial de los clusters para la iteración en las que salieron 14 clusters:"
   ]
  },
  {
   "cell_type": "code",
   "execution_count": 13,
   "id": "united-morrison",
   "metadata": {},
   "outputs": [
    {
     "data": {
      "image/png": "[encoded data removed]",
      "text/plain": [
       "plot without title"
      ]
     },
     "metadata": {},
     "output_type": "display_data"
    }
   ],
   "source": [
    "gmm.log <- plotClust.gmm(df.log, coords, gmm.log$gmm[[6]], col.regions = group.colors(14),\n",
    "                      at = seq(0, 14, 1), ylim = c(-60, 72), main = \"gmmlog\")"
   ]
  },
  {
   "cell_type": "markdown",
   "id": "surprising-tennessee",
   "metadata": {},
   "source": [
    "Ahora sin usar los datos logarítmicos:"
   ]
  },
  {
   "cell_type": "code",
   "execution_count": 7,
   "id": "chubby-wright",
   "metadata": {},
   "outputs": [
    {
     "name": "stderr",
     "output_type": "stream",
     "text": [
      "Lowest BIC: -34033618.96\n",
      "Number of clusters:6\n"
     ]
    }
   ],
   "source": [
    "gmm.15 <- selectBestGMM(data = df[-naind, ], K = 15, n.inits = 7)"
   ]
  },
  {
   "cell_type": "code",
   "execution_count": 9,
   "id": "original-bunch",
   "metadata": {},
   "outputs": [
    {
     "name": "stdout",
     "output_type": "stream",
     "text": [
      "-34033619 6 \n",
      "-33830043 15 \n",
      "-33903525 14 \n",
      "-33864688 15 \n",
      "-33839192 15 \n",
      "-33795941 15 \n",
      "-33821612 15 \n"
     ]
    }
   ],
   "source": [
    "for (i in 1:7){\n",
    "    cat(gmm.15$gmm[[i]]$bic, gmm.15$gmm[[i]]$G, '\\n')\n",
    "}"
   ]
  },
  {
   "cell_type": "markdown",
   "id": "every-builder",
   "metadata": {},
   "source": [
    "Representación espacial de los clusters para la iteración en las que salieron 14 clusters, claramente es peor que al usar los datos logarítmicos:"
   ]
  },
  {
   "cell_type": "code",
   "execution_count": 16,
   "id": "chicken-height",
   "metadata": {},
   "outputs": [
    {
     "data": {
      "image/png": "[encoded data removed]",
      "text/plain": [
       "plot without title"
      ]
     },
     "metadata": {},
     "output_type": "display_data"
    }
   ],
   "source": [
    "gmm.df.15 <- plotClust.gmm(df, coords, gmm.15$gmm[[n]], col.regions = group.colors(14),\n",
    "                      at = seq(0, 14, 1), ylim = c(-60, 72), main = \"gmm14\")"
   ]
  },
  {
   "cell_type": "markdown",
   "id": "fewer-memorabilia",
   "metadata": {},
   "source": [
    "# Análisis de la zona mediterránea\n",
    "\n",
    "Particularizamos el clustering para una zona más concreta:"
   ]
  },
  {
   "cell_type": "code",
   "execution_count": 10,
   "id": "administrative-integral",
   "metadata": {},
   "outputs": [],
   "source": [
    "# coordenadas mediterraneas: \n",
    "lon <- c(-10, 20)\n",
    "lat <- c(35, 46)"
   ]
  },
  {
   "cell_type": "code",
   "execution_count": 35,
   "id": "alike-norway",
   "metadata": {},
   "outputs": [],
   "source": [
    "ind.coords.med = which(coords$x < 30 & coords$x > -10 & coords$y > 35 & coords$y < 47)\n",
    "df.log.med = df.log[ind.coords.med,]\n",
    "df.med = df[ind.coords.med,]"
   ]
  },
  {
   "cell_type": "code",
   "execution_count": 36,
   "id": "bearing-atlas",
   "metadata": {},
   "outputs": [
    {
     "data": {
      "text/html": [
       "76176"
      ],
      "text/latex": [
       "76176"
      ],
      "text/markdown": [
       "76176"
      ],
      "text/plain": [
       "[1] 76176"
      ]
     },
     "metadata": {},
     "output_type": "display_data"
    }
   ],
   "source": [
    "# Localizamos los NAs\n",
    "naind.med <- which(is.na(df.log.med), arr.ind = TRUE)\n",
    "length(naind.med)"
   ]
  },
  {
   "cell_type": "markdown",
   "id": "moving-honey",
   "metadata": {},
   "source": [
    "Uso los datos logarítmicos:"
   ]
  },
  {
   "cell_type": "code",
   "execution_count": 38,
   "id": "catholic-breast",
   "metadata": {},
   "outputs": [
    {
     "name": "stderr",
     "output_type": "stream",
     "text": [
      "Lowest BIC: NA\n",
      "Number of clusters:4\n"
     ]
    }
   ],
   "source": [
    "gmmMed <- selectBestGMM(data = df.log.med[-naind.med, ], K = 15, n.inits = 10)"
   ]
  },
  {
   "cell_type": "code",
   "execution_count": 39,
   "id": "individual-champion",
   "metadata": {},
   "outputs": [
    {
     "name": "stdout",
     "output_type": "stream",
     "text": [
      "6 NA \n",
      "4 -111436.3 \n",
      "4 -103338.8 \n",
      "7 -99752.25 \n",
      "4 NA \n",
      "6 NA \n",
      "5 -109816.5 \n",
      "6 NA \n",
      "5 -108452.4 \n",
      "4 -110978.8 \n"
     ]
    }
   ],
   "source": [
    "for (i in 1:10){\n",
    "    cat(gmmMed$gmm[[i]]$G, gmmMed$gmm[[i]]$bic,'\\n')\n",
    "}"
   ]
  },
  {
   "cell_type": "markdown",
   "id": "middle-dispatch",
   "metadata": {},
   "source": [
    "Representación espacial para 7 clusters:"
   ]
  },
  {
   "cell_type": "code",
   "execution_count": 42,
   "id": "consecutive-discretion",
   "metadata": {},
   "outputs": [
    {
     "data": {
      "image/png": "[encoded data removed]",
      "text/plain": [
       "plot without title"
      ]
     },
     "metadata": {},
     "output_type": "display_data"
    }
   ],
   "source": [
    "arg.list <- list(col.regions = group.colors(7),\n",
    "                      at = seq(0, 7, 1), main = \"gmmMed7\")\n",
    "v <- numeric(nrow(df.med))\n",
    "v[naind.med] <- NA\n",
    "v[-naind.med] <- gmmMed$gmm[[4]]$classification\n",
    "df1 <- cbind.data.frame(coords[ind.coords.med,], v)\n",
    "coordinates(df1) <- c(1,2)\n",
    "gridded(df1) <- TRUE\n",
    "arg.list[[\"obj\"]] <- df1\n",
    "arg.list[[\"zcol\"]] <- 1\n",
    "do.call(\"spplot\", arg.list) %>% print()"
   ]
  },
  {
   "cell_type": "markdown",
   "id": "indian-quality",
   "metadata": {},
   "source": [
    "Representación espacial para 5 clusters:"
   ]
  },
  {
   "cell_type": "code",
   "execution_count": 43,
   "id": "approved-spencer",
   "metadata": {},
   "outputs": [
    {
     "data": {
      "image/png": "[encoded data removed]",
      "text/plain": [
       "plot without title"
      ]
     },
     "metadata": {},
     "output_type": "display_data"
    }
   ],
   "source": [
    "arg.list <- list(col.regions = group.colors(5),\n",
    "                      at = seq(0, 5, 1), main = \"gmmMed5\")\n",
    "v <- numeric(nrow(df.med))\n",
    "v[naind.med] <- NA\n",
    "v[-naind.med] <- gmmMed$gmm[[7]]$classification\n",
    "df1 <- cbind.data.frame(coords[ind.coords.med,], v)\n",
    "coordinates(df1) <- c(1,2)\n",
    "gridded(df1) <- TRUE\n",
    "arg.list[[\"obj\"]] <- df1\n",
    "arg.list[[\"zcol\"]] <- 1\n",
    "do.call(\"spplot\", arg.list) %>% print()"
   ]
  }
 ],
 "metadata": {
  "kernelspec": {
   "display_name": "R",
   "language": "R",
   "name": "ir"
  },
  "language_info": {
   "codemirror_mode": "r",
   "file_extension": ".r",
   "mimetype": "text/x-r-source",
   "name": "R",
   "pygments_lexer": "r",
   "version": "3.6.1"
  }
 },
 "nbformat": 4,
 "nbformat_minor": 5
}
