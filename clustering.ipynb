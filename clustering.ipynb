{
 "cells": [
  {
   "cell_type": "code",
   "execution_count": null,
   "id": "endless-assumption",
   "metadata": {},
   "outputs": [],
   "source": []
  },
  {
   "cell_type": "code",
   "execution_count": 1,
   "id": "sized-disability",
   "metadata": {},
   "outputs": [
    {
     "name": "stdout",
     "output_type": "stream",
     "text": [
      "Loading objects:\n",
      "  df\n",
      "  coords\n"
     ]
    }
   ],
   "source": [
    "# Cargamos los datos\n",
    "load(\"ba_dataframe.Rdata\", verbose = TRUE)"
   ]
  },
  {
   "cell_type": "code",
   "execution_count": 2,
   "id": "desirable-jefferson",
   "metadata": {},
   "outputs": [
    {
     "data": {
      "text/html": [
       "221352"
      ],
      "text/latex": [
       "221352"
      ],
      "text/markdown": [
       "221352"
      ],
      "text/plain": [
       "[1] 221352"
      ]
     },
     "metadata": {},
     "output_type": "display_data"
    }
   ],
   "source": [
    "# Localizamos los NAs\n",
    "naind <- which(is.na(df), arr.ind = TRUE)\n",
    "length(naind)"
   ]
  },
  {
   "cell_type": "code",
   "execution_count": 3,
   "id": "given-disaster",
   "metadata": {},
   "outputs": [
    {
     "name": "stderr",
     "output_type": "stream",
     "text": [
      "Warning message:\n",
      "\"package 'mclust' was built under R version 3.6.3\"Package 'mclust' version 5.4.7\n",
      "Type 'citation(\"mclust\")' for citing this R package in publications.\n",
      "Loading required package: sp\n",
      "Warning message:\n",
      "\"package 'sp' was built under R version 3.6.3\"Loading required package: magrittr\n",
      "Warning message:\n",
      "\"package 'magrittr' was built under R version 3.6.3\""
     ]
    }
   ],
   "source": [
    "# Librerías a usar\n",
    "library(\"mclust\")\n",
    "require(sp)\n",
    "require(magrittr)"
   ]
  },
  {
   "cell_type": "code",
   "execution_count": 41,
   "id": "polyphonic-porter",
   "metadata": {},
   "outputs": [
    {
     "name": "stdout",
     "output_type": "stream",
     "text": [
      "'data.frame':\t16200 obs. of  12 variables:\n",
      " $ Dec: num  0 0 0 0 0 0 0 NA NA NA ...\n",
      " $ Jan: num  0 0 0 0 0 0 0 NA NA NA ...\n",
      " $ Feb: num  0 0 0 0 0 0 0 NA NA NA ...\n",
      " $ Mar: num  0 0 0 0 0 0 0 NA NA NA ...\n",
      " $ Apr: num  0 0 0 0 0 0 0 NA NA NA ...\n",
      " $ May: num  0 0 0 0 0 0 0 NA NA NA ...\n",
      " $ Jun: num  0 0 0 0 0 0 0 NA NA NA ...\n",
      " $ Jul: num  0 0 0 0 0 0 0 NA NA NA ...\n",
      " $ Aug: num  0 0 0 0 0 0 0 NA NA NA ...\n",
      " $ Sep: num  0 0 0 0 0 0 0 NA NA NA ...\n",
      " $ Oct: num  0 0 0 0 0 0 0 NA NA NA ...\n",
      " $ Nov: num  0 0 0 0 0 0 0 NA NA NA ...\n"
     ]
    }
   ],
   "source": [
    "str(df)"
   ]
  },
  {
   "cell_type": "code",
   "execution_count": 39,
   "id": "medieval-sudan",
   "metadata": {},
   "outputs": [
    {
     "data": {
      "text/plain": [
       "      Dec             Jan             Feb             Mar       \n",
       " Min.   :0.000   Min.   :0.000   Min.   :0.000   Min.   :0.000  \n",
       " 1st Qu.:0.000   1st Qu.:0.000   1st Qu.:0.000   1st Qu.:0.000  \n",
       " Median :0.000   Median :0.000   Median :0.000   Median :0.000  \n",
       " Mean   :0.001   Mean   :0.001   Mean   :0.001   Mean   :0.001  \n",
       " 3rd Qu.:0.000   3rd Qu.:0.000   3rd Qu.:0.000   3rd Qu.:0.000  \n",
       " Max.   :0.198   Max.   :0.168   Max.   :0.512   Max.   :0.182  \n",
       " NA's   :9223    NA's   :9223    NA's   :9223    NA's   :9223   \n",
       "      Apr             May             Jun             Jul       \n",
       " Min.   :0.000   Min.   :0.000   Min.   :0.000   Min.   :0.000  \n",
       " 1st Qu.:0.000   1st Qu.:0.000   1st Qu.:0.000   1st Qu.:0.000  \n",
       " Median :0.000   Median :0.000   Median :0.000   Median :0.000  \n",
       " Mean   :0.001   Mean   :0.001   Mean   :0.001   Mean   :0.001  \n",
       " 3rd Qu.:0.000   3rd Qu.:0.000   3rd Qu.:0.000   3rd Qu.:0.000  \n",
       " Max.   :0.072   Max.   :0.117   Max.   :0.196   Max.   :0.306  \n",
       " NA's   :9223    NA's   :9223    NA's   :9223    NA's   :9223   \n",
       "      Aug             Sep             Oct             Nov       \n",
       " Min.   :0.000   Min.   :0.000   Min.   :0.000   Min.   :0.000  \n",
       " 1st Qu.:0.000   1st Qu.:0.000   1st Qu.:0.000   1st Qu.:0.000  \n",
       " Median :0.000   Median :0.000   Median :0.000   Median :0.000  \n",
       " Mean   :0.002   Mean   :0.002   Mean   :0.001   Mean   :0.001  \n",
       " 3rd Qu.:0.000   3rd Qu.:0.000   3rd Qu.:0.000   3rd Qu.:0.000  \n",
       " Max.   :0.255   Max.   :0.226   Max.   :0.358   Max.   :0.149  \n",
       " NA's   :9223    NA's   :9223    NA's   :9223    NA's   :9223   "
      ]
     },
     "metadata": {},
     "output_type": "display_data"
    }
   ],
   "source": [
    "summary(df)"
   ]
  },
  {
   "cell_type": "markdown",
   "id": "bronze-legend",
   "metadata": {},
   "source": [
    "## K-means"
   ]
  },
  {
   "cell_type": "code",
   "execution_count": 10,
   "id": "needed-cloud",
   "metadata": {},
   "outputs": [],
   "source": [
    "# Primer agrupamiento: usando K-Means\n",
    "?kmeans"
   ]
  },
  {
   "cell_type": "code",
   "execution_count": 11,
   "id": "israeli-saint",
   "metadata": {},
   "outputs": [],
   "source": [
    "# Búsqueda del k óptimo\n",
    "\n",
    "#' @title Best k-means model selection\n",
    "#' @description Creates one k-means model for each value of k between 1 and K and plot their between clusters sum of squares and\n",
    "#               their within cluster sum of squares\n",
    "#' @param data Data frame\n",
    "#' @param K number of groups\n",
    "#' @param n.inits Number of initializations. Default to 10\n",
    "#' @param itermax Maximun number of iterations. Default to 10\n",
    "#' @return A list of k-means models, one for each value between 1 and K\n",
    "\n",
    "selectBestkMeans <- function(data, K, itermax = 10, n.inits = 10) {\n",
    "    km.list = list()\n",
    "    km.b = c()\n",
    "    km.tw = c()\n",
    "    for (i in 1:K){\n",
    "        km.list[[i]] = kmeans(x = data, centers = i, iter.max = itermax, nstart = n.inits)\n",
    "        km.b[i] = km.list[[i]]$betweenss\n",
    "        km.tw[i] = km.list[[i]]$tot.withinss\n",
    "    }\n",
    "    par(mfrow = c(2,2))\n",
    "    plot(km.b, col = \"blue\", type = \"b\", xlab = \"k\", ylab = \"ss\", main = \"ss between clusters\")\n",
    "    plot(km.tw, col = \"red\", type = \"b\", xlab = \"k\", ylab = \"ss\", main = \"ss within clusters\")\n",
    "    return(km.list)\n",
    "}"
   ]
  },
  {
   "cell_type": "code",
   "execution_count": 12,
   "id": "developmental-element",
   "metadata": {},
   "outputs": [
    {
     "data": {
      "image/png": "[encoded data removed]",
      "text/plain": [
       "Plot with title \"ss within clusters\""
      ]
     },
     "metadata": {},
     "output_type": "display_data"
    }
   ],
   "source": [
    "# Prueba con k = 1:20\n",
    "set.seed(1)\n",
    "km.15 <- selectBestkMeans(data = df[-naind, ], K = 20, itermax = 20, n.inits = 50)\n",
    "# Lo más adecuado parece coger k = 7 mirando la gráfica de la izquierda"
   ]
  },
  {
   "cell_type": "code",
   "execution_count": 13,
   "id": "social-puzzle",
   "metadata": {},
   "outputs": [],
   "source": [
    "# Función para pintar los clusters\n",
    "plotClust.kmeans <- function(df, coords, clus, ...) {\n",
    "    arg.list <- list(...)\n",
    "    # arg.list <- list()\n",
    "    v <- numeric(nrow(df))\n",
    "    v[naind] <- NA\n",
    "    v[-naind] <- clus$cluster\n",
    "    df1 <- cbind.data.frame(coords, v)\n",
    "    coordinates(df1) <- c(1,2)\n",
    "    gridded(df1) <- TRUE\n",
    "    arg.list[[\"obj\"]] <- df1\n",
    "    arg.list[[\"zcol\"]] <- 1\n",
    "    do.call(\"spplot\", arg.list) %>% print()\n",
    "    # spplot(df1, zcol = 1, at = seq(0,7,1))\n",
    "    return(df1@data)\n",
    "}"
   ]
  },
  {
   "cell_type": "code",
   "execution_count": 14,
   "id": "difficult-maintenance",
   "metadata": {},
   "outputs": [
    {
     "name": "stderr",
     "output_type": "stream",
     "text": [
      "Loading required package: RColorBrewer\n"
     ]
    }
   ],
   "source": [
    "# Para los colores\n",
    "require(RColorBrewer)\n",
    "#display.brewer.all()\n",
    "group.colors <- colorRampPalette(c(brewer.pal(8, \"Dark2\"), brewer.pal(8, \"Accent\")))"
   ]
  },
  {
   "cell_type": "code",
   "execution_count": 15,
   "id": "therapeutic-pizza",
   "metadata": {},
   "outputs": [
    {
     "data": {
      "text/html": [
       "<ol class=list-inline>\n",
       "\t<li>12</li>\n",
       "\t<li>62</li>\n",
       "\t<li>42</li>\n",
       "\t<li>128</li>\n",
       "\t<li>9</li>\n",
       "\t<li>6717</li>\n",
       "</ol>\n"
      ],
      "text/latex": [
       "\\begin{enumerate*}\n",
       "\\item 12\n",
       "\\item 62\n",
       "\\item 42\n",
       "\\item 128\n",
       "\\item 9\n",
       "\\item 6717\n",
       "\\end{enumerate*}\n"
      ],
      "text/markdown": [
       "1. 12\n",
       "2. 62\n",
       "3. 42\n",
       "4. 128\n",
       "5. 9\n",
       "6. 6717\n",
       "\n",
       "\n"
      ],
      "text/plain": [
       "[1]   12   62   42  128    9 6717"
      ]
     },
     "metadata": {},
     "output_type": "display_data"
    },
    {
     "data": {
      "image/png": "[encoded data removed]",
      "text/plain": [
       "plot without title"
      ]
     },
     "metadata": {},
     "output_type": "display_data"
    }
   ],
   "source": [
    "# 6 clusters\n",
    "km.15[[6]]$size\n",
    "km.df.6 <- plotClust.kmeans(df, coords, km.15[[6]], col.regions = group.colors(6),\n",
    "                      at = seq(0, 6, 1), ylim = c(-60, 72), main = \"6 groups\")"
   ]
  },
  {
   "cell_type": "code",
   "execution_count": 16,
   "id": "concrete-certification",
   "metadata": {},
   "outputs": [
    {
     "data": {
      "text/html": [
       "<ol class=list-inline>\n",
       "\t<li>6712</li>\n",
       "\t<li>46</li>\n",
       "\t<li>36</li>\n",
       "\t<li>11</li>\n",
       "\t<li>9</li>\n",
       "\t<li>102</li>\n",
       "\t<li>54</li>\n",
       "</ol>\n"
      ],
      "text/latex": [
       "\\begin{enumerate*}\n",
       "\\item 6712\n",
       "\\item 46\n",
       "\\item 36\n",
       "\\item 11\n",
       "\\item 9\n",
       "\\item 102\n",
       "\\item 54\n",
       "\\end{enumerate*}\n"
      ],
      "text/markdown": [
       "1. 6712\n",
       "2. 46\n",
       "3. 36\n",
       "4. 11\n",
       "5. 9\n",
       "6. 102\n",
       "7. 54\n",
       "\n",
       "\n"
      ],
      "text/plain": [
       "[1] 6712   46   36   11    9  102   54"
      ]
     },
     "metadata": {},
     "output_type": "display_data"
    },
    {
     "data": {
      "image/png": "[encoded data removed]",
      "text/plain": [
       "plot without title"
      ]
     },
     "metadata": {},
     "output_type": "display_data"
    }
   ],
   "source": [
    "# 7 clusters\n",
    "km.15[[7]]$size\n",
    "km.df.7 <- plotClust.kmeans(df, coords, km.15[[7]], col.regions = group.colors(7),\n",
    "                      at = seq(0, 7, 1), ylim = c(-60, 72), main = \"7 groups\")"
   ]
  },
  {
   "cell_type": "markdown",
   "id": "consecutive-event",
   "metadata": {},
   "source": [
    "A simple vista no veo grandes diferencias"
   ]
  },
  {
   "cell_type": "markdown",
   "id": "plain-michael",
   "metadata": {},
   "source": [
    "## Gaussian Mixtures"
   ]
  },
  {
   "cell_type": "code",
   "execution_count": 46,
   "id": "seasonal-myrtle",
   "metadata": {},
   "outputs": [],
   "source": [
    "# Segundo agrupamiento: usando gaussian mixtures\n",
    "?Mclust"
   ]
  },
  {
   "cell_type": "code",
   "execution_count": 20,
   "id": "varying-exception",
   "metadata": {},
   "outputs": [],
   "source": [
    "#' @title Best GMM model selection\n",
    "#' @description Retain the lowest BIC model after an arbitary number of GMM initializations\n",
    "#' @param data Data frame\n",
    "#' @param K number of groups\n",
    "#' @param n.inits Number of initializations. Default to 10\n",
    "#' @return A mclust-class model\n",
    "#' @importFrom mclust Mclust\n",
    "\n",
    "selectBestGMM <- function(data, K, n.inits = 10) {\n",
    "    i <- 1\n",
    "    gmm.list <- rep(list(bquote(), n.inits))\n",
    "    while (i <= n.inits) {\n",
    "        gmm.list[[i]] <- Mclust(data, G = 1:K)  \n",
    "        i <- i + 1\n",
    "    } \n",
    "    bics <- numeric(length(gmm.list))\n",
    "    for (i in 1:length(gmm.list)) {\n",
    "        bics[i] <- gmm.list[[i]]$bic\n",
    "    }\n",
    "    gmm <- gmm.list[[which.min(bics)]]\n",
    "    message(\"Lowest BIC: \", round(min(bics), 2))\n",
    "    message(\"Number of clusters:\", gmm$G)\n",
    "    return(gmm)\n",
    "}"
   ]
  },
  {
   "cell_type": "code",
   "execution_count": 21,
   "id": "renewable-flashing",
   "metadata": {},
   "outputs": [
    {
     "name": "stderr",
     "output_type": "stream",
     "text": [
      "Lowest BIC: 816713.17\n",
      "Number of clusters:4\n"
     ]
    }
   ],
   "source": [
    "gmm7 <- selectBestGMM(data = df[-naind, ], K = 7)"
   ]
  },
  {
   "cell_type": "code",
   "execution_count": 22,
   "id": "analyzed-array",
   "metadata": {},
   "outputs": [],
   "source": [
    "plotClust.gmm <- function(df, coords, clus, ...) {\n",
    "    arg.list <- list(...)\n",
    "    # arg.list <- list()\n",
    "    v <- numeric(nrow(df))\n",
    "    v[naind] <- NA\n",
    "    v[-naind] <- clus$classification\n",
    "    df1 <- cbind.data.frame(coords, v)\n",
    "    coordinates(df1) <- c(1,2)\n",
    "    gridded(df1) <- TRUE\n",
    "    arg.list[[\"obj\"]] <- df1\n",
    "    arg.list[[\"zcol\"]] <- 1\n",
    "    do.call(\"spplot\", arg.list) %>% print()\n",
    "    # spplot(df1, zcol = 1, at = seq(0,7,1))\n",
    "    return(df1@data)\n",
    "}"
   ]
  },
  {
   "cell_type": "code",
   "execution_count": 23,
   "id": "deluxe-mattress",
   "metadata": {},
   "outputs": [
    {
     "data": {
      "text/plain": [
       "---------------------------------------------------- \n",
       "Gaussian finite mixture model fitted by EM algorithm \n",
       "---------------------------------------------------- \n",
       "\n",
       "Mclust EEV (ellipsoidal, equal volume and shape) model with 4 components: \n",
       "\n",
       " log-likelihood    n  df      BIC      ICL\n",
       "       409803.5 6970 327 816713.2 809040.1\n",
       "\n",
       "Clustering table:\n",
       "   1    2    3    4 \n",
       " 592  388 5868  122 "
      ]
     },
     "metadata": {},
     "output_type": "display_data"
    },
    {
     "data": {
      "image/png": "[encoded data removed]",
      "text/plain": [
       "plot without title"
      ]
     },
     "metadata": {},
     "output_type": "display_data"
    }
   ],
   "source": [
    "summary(gmm7)\n",
    "gmm.df.7 <- plotClust.gmm(df, coords, gmm7, col.regions = group.colors(7),\n",
    "                      at = seq(0, 7, 1), ylim = c(-60, 72), main = \"7 groups\")"
   ]
  },
  {
   "cell_type": "code",
   "execution_count": 24,
   "id": "convinced-christianity",
   "metadata": {},
   "outputs": [
    {
     "name": "stderr",
     "output_type": "stream",
     "text": [
      "Lowest BIC: 836209.17\n",
      "Number of clusters:4\n",
      "Lowest BIC: 839496.06\n",
      "Number of clusters:6\n",
      "Lowest BIC: 838851.26\n",
      "Number of clusters:6\n",
      "Lowest BIC: 850932.98\n",
      "Number of clusters:8\n",
      "Lowest BIC: 832480.1\n",
      "Number of clusters:6\n"
     ]
    }
   ],
   "source": [
    "gmm7 <- selectBestGMM(data = df[-naind, ], K = 7)\n",
    "gmm8 <- selectBestGMM(data = df[-naind, ], K = 8)\n",
    "gmm9 <- selectBestGMM(data = df[-naind, ], K = 9)\n",
    "gmm10 <- selectBestGMM(data = df[-naind, ], K = 10)\n",
    "gmm11 <- selectBestGMM(data = df[-naind, ], K = 11)\n",
    "# gmm12 <- selectBestGMM(data = df[-naind, ], K = 12)\n",
    "# gmm13 <- selectBestGMM(data = df[-naind, ], K = 13)\n",
    "# gmm14 <- selectBestGMM(data = df[-naind, ], K = 14)\n"
   ]
  },
  {
   "cell_type": "code",
   "execution_count": 25,
   "id": "corresponding-portal",
   "metadata": {},
   "outputs": [
    {
     "data": {
      "text/plain": [
       "---------------------------------------------------- \n",
       "Gaussian finite mixture model fitted by EM algorithm \n",
       "---------------------------------------------------- \n",
       "\n",
       "Mclust EVV (ellipsoidal, equal volume) model with 4 components: \n",
       "\n",
       " log-likelihood    n  df      BIC      ICL\n",
       "       419697.5 6970 360 836209.2 830910.1\n",
       "\n",
       "Clustering table:\n",
       "   1    2    3    4 \n",
       " 727 5829  195  219 "
      ]
     },
     "metadata": {},
     "output_type": "display_data"
    },
    {
     "data": {
      "text/plain": [
       "---------------------------------------------------- \n",
       "Gaussian finite mixture model fitted by EM algorithm \n",
       "---------------------------------------------------- \n",
       "\n",
       "Mclust EEV (ellipsoidal, equal volume and shape) model with 6 components: \n",
       "\n",
       " log-likelihood    n  df      BIC      ICL\n",
       "         421894 6970 485 839496.1 833127.4\n",
       "\n",
       "Clustering table:\n",
       "   1    2    3    4    5    6 \n",
       " 603   49  115  243 5921   39 "
      ]
     },
     "metadata": {},
     "output_type": "display_data"
    },
    {
     "data": {
      "text/plain": [
       "---------------------------------------------------- \n",
       "Gaussian finite mixture model fitted by EM algorithm \n",
       "---------------------------------------------------- \n",
       "\n",
       "Mclust EEV (ellipsoidal, equal volume and shape) model with 6 components: \n",
       "\n",
       " log-likelihood    n  df      BIC      ICL\n",
       "       421571.6 6970 485 838851.3 833696.1\n",
       "\n",
       "Clustering table:\n",
       "   1    2    3    4    5    6 \n",
       " 361 5933  255  175   36  210 "
      ]
     },
     "metadata": {},
     "output_type": "display_data"
    },
    {
     "data": {
      "text/plain": [
       "---------------------------------------------------- \n",
       "Gaussian finite mixture model fitted by EM algorithm \n",
       "---------------------------------------------------- \n",
       "\n",
       "Mclust EEV (ellipsoidal, equal volume and shape) model with 8 components: \n",
       "\n",
       " log-likelihood    n  df    BIC      ICL\n",
       "       428311.6 6970 643 850933 843265.9\n",
       "\n",
       "Clustering table:\n",
       "   1    2    3    4    5    6    7    8 \n",
       " 412 5825   76  180   31  266   94   86 "
      ]
     },
     "metadata": {},
     "output_type": "display_data"
    },
    {
     "data": {
      "text/plain": [
       "---------------------------------------------------- \n",
       "Gaussian finite mixture model fitted by EM algorithm \n",
       "---------------------------------------------------- \n",
       "\n",
       "Mclust EEV (ellipsoidal, equal volume and shape) model with 6 components: \n",
       "\n",
       " log-likelihood    n  df      BIC      ICL\n",
       "         418386 6970 485 832480.1 825744.3\n",
       "\n",
       "Clustering table:\n",
       "   1    2    3    4    5    6 \n",
       "5900  507  308  147   10   98 "
      ]
     },
     "metadata": {},
     "output_type": "display_data"
    }
   ],
   "source": [
    "summary(gmm7)\n",
    "summary(gmm8)\n",
    "summary(gmm9)\n",
    "summary(gmm10)\n",
    "summary(gmm11)"
   ]
  },
  {
   "cell_type": "code",
   "execution_count": 50,
   "id": "passing-murray",
   "metadata": {
    "scrolled": false
   },
   "outputs": [
    {
     "data": {
      "image/png": "[encoded data removed]",
      "text/plain": [
       "plot without title"
      ]
     },
     "metadata": {},
     "output_type": "display_data"
    },
    {
     "data": {
      "image/png": "[encoded data removed]",
      "text/plain": [
       "plot without title"
      ]
     },
     "metadata": {},
     "output_type": "display_data"
    },
    {
     "data": {
      "image/png": "[encoded data removed]",
      "text/plain": [
       "plot without title"
      ]
     },
     "metadata": {},
     "output_type": "display_data"
    },
    {
     "data": {
      "image/png": "[encoded data removed]",
      "text/plain": [
       "plot without title"
      ]
     },
     "metadata": {},
     "output_type": "display_data"
    },
    {
     "data": {
      "image/png": "[encoded data removed]",
      "text/plain": [
       "plot without title"
      ]
     },
     "metadata": {},
     "output_type": "display_data"
    }
   ],
   "source": [
    "gmm.df.7 <- plotClust.gmm(df, coords, gmm7, col.regions = group.colors(4),\n",
    "                      at = seq(0, 4, 1), ylim = c(-60, 72), main = \"gmm7\")\n",
    "gmm.df.8 <- plotClust.gmm(df, coords, gmm8, col.regions = group.colors(6),\n",
    "                      at = seq(0, 6, 1), ylim = c(-60, 72), main = \"gmm8\")\n",
    "gmm.df.9 <- plotClust.gmm(df, coords, gmm9, col.regions = group.colors(6),\n",
    "                      at = seq(0, 6, 1), ylim = c(-60, 72), main = \"gmm9\")\n",
    "gmm.df.10 <- plotClust.gmm(df, coords, gmm10, col.regions = group.colors(8),\n",
    "                      at = seq(0, 8, 1), ylim = c(-60, 72), main = \"gmm10\")\n",
    "gmm.df.11 <- plotClust.gmm(df, coords, gmm11, col.regions = group.colors(6),\n",
    "                      at = seq(0, 6, 1), ylim = c(-60, 72), main = \"gmm11\")"
   ]
  },
  {
   "cell_type": "code",
   "execution_count": 45,
   "id": "considerable-skirt",
   "metadata": {},
   "outputs": [
    {
     "data": {
      "text/plain": [
       "'Mclust' model object: (EVV,4) \n",
       "\n",
       "Available components: \n",
       " [1] \"call\"           \"data\"           \"modelName\"      \"n\"             \n",
       " [5] \"d\"              \"G\"              \"BIC\"            \"loglik\"        \n",
       " [9] \"df\"             \"bic\"            \"icl\"            \"hypvol\"        \n",
       "[13] \"parameters\"     \"z\"              \"classification\" \"uncertainty\"   "
      ]
     },
     "metadata": {},
     "output_type": "display_data"
    }
   ],
   "source": [
    "gmm7"
   ]
  },
  {
   "cell_type": "code",
   "execution_count": 45,
   "id": "scenic-extent",
   "metadata": {},
   "outputs": [
    {
     "name": "stdout",
     "output_type": "stream",
     "text": [
      "package 'RColorBrewer' successfully unpacked and MD5 sums checked\n",
      "\n",
      "The downloaded binary packages are in\n",
      "\tC:\\Users\\Marcos\\AppData\\Local\\Temp\\Rtmp23ayzM\\downloaded_packages\n"
     ]
    }
   ],
   "source": [
    "install.packages(\"\")"
   ]
  },
  {
   "cell_type": "code",
   "execution_count": 48,
   "id": "corrected-geography",
   "metadata": {},
   "outputs": [],
   "source": []
  },
  {
   "cell_type": "code",
   "execution_count": null,
   "id": "advised-findings",
   "metadata": {},
   "outputs": [],
   "source": []
  }
 ],
 "metadata": {
  "kernelspec": {
   "display_name": "R",
   "language": "R",
   "name": "ir"
  },
  "language_info": {
   "codemirror_mode": "r",
   "file_extension": ".r",
   "mimetype": "text/x-r-source",
   "name": "R",
   "pygments_lexer": "r",
   "version": "3.6.1"
  }
 },
 "nbformat": 4,
 "nbformat_minor": 5
}
